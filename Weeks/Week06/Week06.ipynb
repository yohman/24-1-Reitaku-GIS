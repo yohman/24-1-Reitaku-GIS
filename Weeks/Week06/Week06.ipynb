{
 "cells": [
  {
   "attachments": {},
   "cell_type": "markdown",
   "metadata": {},
   "source": [
    "# Data Exploration: Spreadsheet からデータを持ってくる\n",
    "\n",
    "![Alt text](https://raw.githubusercontent.com/yohman/23-1-Reitaku-GIS/main/Weeks/Week06/images/csv%20to%20map.png)\n",
    "\n",
    "先週の課題では一つの地図に複数のマーカーを作りましたね。作る過程で、おそらくマーカーを一つ一つコーディングをしたのではないでしょうか。\n",
    "\n",
    "```python\n",
    "# from Chikashi's homework\n",
    "kaede = [35.83304899572845, 139.9550263688704]\n",
    "asunaro = [35.83218389343381, 139.9559046419524]\n",
    "hiiragi = [35.83432746243043, 139.95492044150396]\n",
    "library = [35.83288620720931, 139.9560383893833]\n",
    "parking = [35.83477548217266, 139.9561361979999]\n",
    "bukastu = [35.83480867733186, 139.95489801198133]\n",
    "```\n",
    "\n",
    "でも、もし100個のマーカーを地図に載せるように言われたらどうする？大変だね！コーディングでやると要領が悪いので、データをspreadsheetで作って、Pythonでインポートしましょう。"
   ]
  },
  {
   "attachments": {},
   "cell_type": "markdown",
   "metadata": {},
   "source": [
    "## CSV ファイルのインポート\n",
    "\n",
    "Google Sheetで作ったデータは[こちらでアクセス](https://docs.google.com/spreadsheets/d/1gtQqvep0ULTZ3K1W8fpZoO9ovTg5DfMN3wx1l6Bebcw/edit?usp=sharing)。\n",
    "\n",
    "では、`mydata.csv`　ファイルをインポートしましょう。クラスのサイトからダウンロードするか、上のファイルを csv としてダウンロードする。\n",
    "\n",
    "確認！\n",
    "- `mydata.csv` ファイルがこのノートブックファイルと同じルーツであることを再確認\n"
   ]
  },
  {
   "attachments": {},
   "cell_type": "markdown",
   "metadata": {},
   "source": [
    "### Library import\n",
    "\n",
    "モジュールを三つ使います：\n",
    "- pandas: to import and work with dataframes\n",
    "- folium: to create interactive maps\n",
    "- matplotlib: to create charts"
   ]
  },
  {
   "cell_type": "code",
   "execution_count": 2,
   "metadata": {},
   "outputs": [],
   "source": [
    "# library import\n",
    "import pandas as pd\n",
    "import folium\n",
    "import matplotlib.pyplot as plt"
   ]
  },
  {
   "attachments": {},
   "cell_type": "markdown",
   "metadata": {},
   "source": [
    "このようにデータを取り込みます。ちなみに `df` は 【dataframe】の略："
   ]
  },
  {
   "cell_type": "code",
   "execution_count": 3,
   "metadata": {},
   "outputs": [],
   "source": [
    "# import the csv file\n",
    "df = pd.read_csv('mydata.csv')"
   ]
  },
  {
   "cell_type": "code",
   "execution_count": 4,
   "metadata": {},
   "outputs": [
    {
     "data": {
      "text/html": [
       "<div>\n",
       "<style scoped>\n",
       "    .dataframe tbody tr th:only-of-type {\n",
       "        vertical-align: middle;\n",
       "    }\n",
       "\n",
       "    .dataframe tbody tr th {\n",
       "        vertical-align: top;\n",
       "    }\n",
       "\n",
       "    .dataframe thead th {\n",
       "        text-align: right;\n",
       "    }\n",
       "</style>\n",
       "<table border=\"1\" class=\"dataframe\">\n",
       "  <thead>\n",
       "    <tr style=\"text-align: right;\">\n",
       "      <th></th>\n",
       "      <th>name</th>\n",
       "      <th>description</th>\n",
       "      <th>latitude</th>\n",
       "      <th>longitude</th>\n",
       "      <th>color</th>\n",
       "    </tr>\n",
       "  </thead>\n",
       "  <tbody>\n",
       "    <tr>\n",
       "      <th>0</th>\n",
       "      <td>校舎「かえで」</td>\n",
       "      <td>校舎名の「かえで」には「楓の果実が2つの種子が密着した姿で、それぞれから翼が伸びる翼果である...</td>\n",
       "      <td>35.833049</td>\n",
       "      <td>139.955026</td>\n",
       "      <td>green</td>\n",
       "    </tr>\n",
       "    <tr>\n",
       "      <th>1</th>\n",
       "      <td>校舎「あすなろ」</td>\n",
       "      <td>麗澤大学開学50周年記念事業の一環として2011年4月\"森と共生するキャンパス\"をコンセプト...</td>\n",
       "      <td>35.832201</td>\n",
       "      <td>139.955906</td>\n",
       "      <td>green</td>\n",
       "    </tr>\n",
       "    <tr>\n",
       "      <th>2</th>\n",
       "      <td>図書館</td>\n",
       "      <td>AVホール・CALL教室を持ち、授業開講時は8:50から19:00（閉講期間中は9:00から...</td>\n",
       "      <td>35.832862</td>\n",
       "      <td>139.955925</td>\n",
       "      <td>green</td>\n",
       "    </tr>\n",
       "    <tr>\n",
       "      <th>3</th>\n",
       "      <td>学生会館「ひいらぎ」</td>\n",
       "      <td>2022年9月にリニューアルオープン。木目とグリーンを基調としたアットホームな雰囲気で、窓か...</td>\n",
       "      <td>35.834304</td>\n",
       "      <td>139.954985</td>\n",
       "      <td>cadetblue</td>\n",
       "    </tr>\n",
       "    <tr>\n",
       "      <th>4</th>\n",
       "      <td>麗澤大学生涯教育プラザ</td>\n",
       "      <td>2006年（平成18年）2月竣工。大学院、研究センター、情報システム部、麗澤オープンカレッジ...</td>\n",
       "      <td>35.831934</td>\n",
       "      <td>139.956880</td>\n",
       "      <td>green</td>\n",
       "    </tr>\n",
       "    <tr>\n",
       "      <th>5</th>\n",
       "      <td>校舎「さつき」</td>\n",
       "      <td>&lt;img src=\"https://www.reitaku-u.ac.jp/news/ima...</td>\n",
       "      <td>35.834119</td>\n",
       "      <td>139.956113</td>\n",
       "      <td>darkred</td>\n",
       "    </tr>\n",
       "  </tbody>\n",
       "</table>\n",
       "</div>"
      ],
      "text/plain": [
       "          name                                        description   latitude  \\\n",
       "0      校舎「かえで」  校舎名の「かえで」には「楓の果実が2つの種子が密着した姿で、それぞれから翼が伸びる翼果である...  35.833049   \n",
       "1     校舎「あすなろ」  麗澤大学開学50周年記念事業の一環として2011年4月\"森と共生するキャンパス\"をコンセプト...  35.832201   \n",
       "2          図書館  AVホール・CALL教室を持ち、授業開講時は8:50から19:00（閉講期間中は9:00から...  35.832862   \n",
       "3   学生会館「ひいらぎ」  2022年9月にリニューアルオープン。木目とグリーンを基調としたアットホームな雰囲気で、窓か...  35.834304   \n",
       "4  麗澤大学生涯教育プラザ  2006年（平成18年）2月竣工。大学院、研究センター、情報システム部、麗澤オープンカレッジ...  35.831934   \n",
       "5      校舎「さつき」  <img src=\"https://www.reitaku-u.ac.jp/news/ima...  35.834119   \n",
       "\n",
       "    longitude      color  \n",
       "0  139.955026      green  \n",
       "1  139.955906      green  \n",
       "2  139.955925      green  \n",
       "3  139.954985  cadetblue  \n",
       "4  139.956880      green  \n",
       "5  139.956113    darkred  "
      ]
     },
     "execution_count": 4,
     "metadata": {},
     "output_type": "execute_result"
    }
   ],
   "source": [
    "df"
   ]
  },
  {
   "attachments": {},
   "cell_type": "markdown",
   "metadata": {},
   "source": [
    "## Working with dataframes\n",
    "\n",
    "おめでとう！データの取り込みに成功。それでは基本的なデータを explore するコマンドをいくつか紹介。"
   ]
  },
  {
   "cell_type": "code",
   "execution_count": 5,
   "metadata": {},
   "outputs": [
    {
     "data": {
      "text/plain": [
       "(6, 5)"
      ]
     },
     "execution_count": 5,
     "metadata": {},
     "output_type": "execute_result"
    }
   ],
   "source": [
    "# size of the data (rows, columns)\n",
    "df.shape"
   ]
  },
  {
   "cell_type": "code",
   "execution_count": 6,
   "metadata": {},
   "outputs": [
    {
     "name": "stdout",
     "output_type": "stream",
     "text": [
      "<class 'pandas.core.frame.DataFrame'>\n",
      "RangeIndex: 6 entries, 0 to 5\n",
      "Data columns (total 5 columns):\n",
      " #   Column       Non-Null Count  Dtype  \n",
      "---  ------       --------------  -----  \n",
      " 0   name         6 non-null      object \n",
      " 1   description  6 non-null      object \n",
      " 2   latitude     6 non-null      float64\n",
      " 3   longitude    6 non-null      float64\n",
      " 4   color        6 non-null      object \n",
      "dtypes: float64(2), object(3)\n",
      "memory usage: 368.0+ bytes\n"
     ]
    }
   ],
   "source": [
    "# information about the data\n",
    "df.info()"
   ]
  },
  {
   "attachments": {},
   "cell_type": "markdown",
   "metadata": {},
   "source": [
    "↑ここで確認するのは `latitude` and `longitude` が `float` であること。もし `object` であればデータを作り直す必要がある。"
   ]
  },
  {
   "cell_type": "code",
   "execution_count": 7,
   "metadata": {},
   "outputs": [
    {
     "data": {
      "text/plain": [
       "['name', 'description', 'latitude', 'longitude', 'color']"
      ]
     },
     "execution_count": 7,
     "metadata": {},
     "output_type": "execute_result"
    }
   ],
   "source": [
    "# list of columns\n",
    "df.columns.to_list()"
   ]
  },
  {
   "cell_type": "code",
   "execution_count": 8,
   "metadata": {},
   "outputs": [
    {
     "data": {
      "text/html": [
       "<div>\n",
       "<style scoped>\n",
       "    .dataframe tbody tr th:only-of-type {\n",
       "        vertical-align: middle;\n",
       "    }\n",
       "\n",
       "    .dataframe tbody tr th {\n",
       "        vertical-align: top;\n",
       "    }\n",
       "\n",
       "    .dataframe thead th {\n",
       "        text-align: right;\n",
       "    }\n",
       "</style>\n",
       "<table border=\"1\" class=\"dataframe\">\n",
       "  <thead>\n",
       "    <tr style=\"text-align: right;\">\n",
       "      <th></th>\n",
       "      <th>name</th>\n",
       "      <th>latitude</th>\n",
       "      <th>longitude</th>\n",
       "    </tr>\n",
       "  </thead>\n",
       "  <tbody>\n",
       "    <tr>\n",
       "      <th>0</th>\n",
       "      <td>校舎「かえで」</td>\n",
       "      <td>35.833049</td>\n",
       "      <td>139.955026</td>\n",
       "    </tr>\n",
       "    <tr>\n",
       "      <th>1</th>\n",
       "      <td>校舎「あすなろ」</td>\n",
       "      <td>35.832201</td>\n",
       "      <td>139.955906</td>\n",
       "    </tr>\n",
       "    <tr>\n",
       "      <th>2</th>\n",
       "      <td>図書館</td>\n",
       "      <td>35.832862</td>\n",
       "      <td>139.955925</td>\n",
       "    </tr>\n",
       "    <tr>\n",
       "      <th>3</th>\n",
       "      <td>学生会館「ひいらぎ」</td>\n",
       "      <td>35.834304</td>\n",
       "      <td>139.954985</td>\n",
       "    </tr>\n",
       "    <tr>\n",
       "      <th>4</th>\n",
       "      <td>麗澤大学生涯教育プラザ</td>\n",
       "      <td>35.831934</td>\n",
       "      <td>139.956880</td>\n",
       "    </tr>\n",
       "    <tr>\n",
       "      <th>5</th>\n",
       "      <td>校舎「さつき」</td>\n",
       "      <td>35.834119</td>\n",
       "      <td>139.956113</td>\n",
       "    </tr>\n",
       "  </tbody>\n",
       "</table>\n",
       "</div>"
      ],
      "text/plain": [
       "          name   latitude   longitude\n",
       "0      校舎「かえで」  35.833049  139.955026\n",
       "1     校舎「あすなろ」  35.832201  139.955906\n",
       "2          図書館  35.832862  139.955925\n",
       "3   学生会館「ひいらぎ」  35.834304  139.954985\n",
       "4  麗澤大学生涯教育プラザ  35.831934  139.956880\n",
       "5      校舎「さつき」  35.834119  139.956113"
      ]
     },
     "execution_count": 8,
     "metadata": {},
     "output_type": "execute_result"
    }
   ],
   "source": [
    "# show only specific columns\n",
    "df[['name','latitude','longitude']]"
   ]
  },
  {
   "cell_type": "code",
   "execution_count": 9,
   "metadata": {},
   "outputs": [
    {
     "data": {
      "text/plain": [
       "0    139.955026\n",
       "1    139.955906\n",
       "2    139.955925\n",
       "3    139.954985\n",
       "4    139.956880\n",
       "5    139.956113\n",
       "Name: longitude, dtype: float64"
      ]
     },
     "execution_count": 9,
     "metadata": {},
     "output_type": "execute_result"
    }
   ],
   "source": [
    "# get values for a single column\n",
    "df['longitude']"
   ]
  },
  {
   "cell_type": "code",
   "execution_count": 10,
   "metadata": {},
   "outputs": [
    {
     "data": {
      "text/plain": [
       "[35.833049, 35.83220147, 35.83286248, 35.83430366, 35.83193431, 35.83411942]"
      ]
     },
     "execution_count": 10,
     "metadata": {},
     "output_type": "execute_result"
    }
   ],
   "source": [
    "# put those values in a list\n",
    "df['latitude'].to_list()"
   ]
  },
  {
   "attachments": {},
   "cell_type": "markdown",
   "metadata": {},
   "source": [
    "### Charts\n",
    "\n",
    "`matplotlib` を使ってグラフを作成。"
   ]
  },
  {
   "cell_type": "code",
   "execution_count": 11,
   "metadata": {},
   "outputs": [
    {
     "data": {
      "text/plain": [
       "<AxesSubplot: >"
      ]
     },
     "execution_count": 11,
     "metadata": {},
     "output_type": "execute_result"
    },
    {
     "data": {
      "image/png": "[encoded data removed]",
      "text/plain": [
       "<Figure size 640x480 with 1 Axes>"
      ]
     },
     "metadata": {},
     "output_type": "display_data"
    }
   ],
   "source": [
    "# line chart\n",
    "df['latitude'].plot()"
   ]
  },
  {
   "cell_type": "code",
   "execution_count": 12,
   "metadata": {},
   "outputs": [
    {
     "data": {
      "text/plain": [
       "<AxesSubplot: >"
      ]
     },
     "execution_count": 12,
     "metadata": {},
     "output_type": "execute_result"
    },
    {
     "data": {
      "image/png": "[encoded data removed]",
      "text/plain": [
       "<Figure size 640x480 with 1 Axes>"
      ]
     },
     "metadata": {},
     "output_type": "display_data"
    }
   ],
   "source": [
    "# boxplot 箱ヒゲ図\n",
    "df['latitude'].plot.box(color='red')"
   ]
  },
  {
   "cell_type": "code",
   "execution_count": 13,
   "metadata": {},
   "outputs": [
    {
     "data": {
      "text/plain": [
       "<AxesSubplot: >"
      ]
     },
     "execution_count": 13,
     "metadata": {},
     "output_type": "execute_result"
    },
    {
     "data": {
      "image/png": "[encoded data removed]",
      "text/plain": [
       "<Figure size 640x480 with 1 Axes>"
      ]
     },
     "metadata": {},
     "output_type": "display_data"
    }
   ],
   "source": [
    "# bar graph\n",
    "df['latitude'].plot.bar(color='green')"
   ]
  },
  {
   "cell_type": "code",
   "execution_count": 14,
   "metadata": {},
   "outputs": [
    {
     "data": {
      "text/plain": [
       "<AxesSubplot: xlabel='longitude', ylabel='latitude'>"
      ]
     },
     "execution_count": 14,
     "metadata": {},
     "output_type": "execute_result"
    },
    {
     "data": {
      "image/png": "[encoded data removed]",
      "text/plain": [
       "<Figure size 640x480 with 1 Axes>"
      ]
     },
     "metadata": {},
     "output_type": "display_data"
    }
   ],
   "source": [
    "# scatterplot 散布図\n",
    "# ここの 'c' は df の変数の 'color' を指定\n",
    "# size(s) を変えてみよう\n",
    "df.plot.scatter(x='longitude',y='latitude',c='color',s=50)"
   ]
  },
  {
   "attachments": {},
   "cell_type": "markdown",
   "metadata": {},
   "source": [
    "### Statistics\n",
    "\n",
    "Pythonは簡単な統計もできます。"
   ]
  },
  {
   "cell_type": "code",
   "execution_count": 15,
   "metadata": {},
   "outputs": [
    {
     "data": {
      "text/plain": [
       "count     6.000000\n",
       "mean     35.833078\n",
       "std       0.000971\n",
       "min      35.831934\n",
       "25%      35.832367\n",
       "50%      35.832956\n",
       "75%      35.833852\n",
       "max      35.834304\n",
       "Name: latitude, dtype: float64"
      ]
     },
     "execution_count": 15,
     "metadata": {},
     "output_type": "execute_result"
    }
   ],
   "source": [
    "# summary stats\n",
    "df['latitude'].describe()"
   ]
  },
  {
   "cell_type": "code",
   "execution_count": 16,
   "metadata": {},
   "outputs": [
    {
     "data": {
      "text/plain": [
       "count      6.000000\n",
       "mean     139.955806\n",
       "std        0.000715\n",
       "min      139.954985\n",
       "25%      139.955246\n",
       "50%      139.955916\n",
       "75%      139.956066\n",
       "max      139.956880\n",
       "Name: longitude, dtype: float64"
      ]
     },
     "execution_count": 16,
     "metadata": {},
     "output_type": "execute_result"
    }
   ],
   "source": [
    "# summary stats\n",
    "df['longitude'].describe()"
   ]
  },
  {
   "cell_type": "code",
   "execution_count": 17,
   "metadata": {},
   "outputs": [
    {
     "data": {
      "text/plain": [
       "35.833078390000004"
      ]
     },
     "execution_count": 17,
     "metadata": {},
     "output_type": "execute_result"
    }
   ],
   "source": [
    "# mean 平均値\n",
    "df['latitude'].mean()"
   ]
  },
  {
   "cell_type": "code",
   "execution_count": 18,
   "metadata": {},
   "outputs": [
    {
     "data": {
      "text/plain": [
       "35.83295574"
      ]
     },
     "execution_count": 18,
     "metadata": {},
     "output_type": "execute_result"
    }
   ],
   "source": [
    "# median 中央値\n",
    "df['latitude'].median()"
   ]
  },
  {
   "attachments": {},
   "cell_type": "markdown",
   "metadata": {},
   "source": [
    "では統計を使って、`latitude` and `longitude` の平均値を変数に入れましょう。\n",
    "\n",
    "さて、この平均値は何を意味するのでしょうか？"
   ]
  },
  {
   "cell_type": "code",
   "execution_count": 19,
   "metadata": {},
   "outputs": [
    {
     "name": "stdout",
     "output_type": "stream",
     "text": [
      "35.833078390000004 139.95580603333335\n"
     ]
    }
   ],
   "source": [
    "# get center lat/lon\n",
    "center_lat = df['latitude'].mean()\n",
    "center_lon = df['longitude'].mean()\n",
    "\n",
    "print(center_lat,center_lon)"
   ]
  },
  {
   "attachments": {},
   "cell_type": "markdown",
   "metadata": {},
   "source": [
    "## Let's loop!\n",
    "\n",
    "プログラミングの基礎の一つである　`for loop`　があります。「ループ」の言葉通り、何かを【繰り返す】という意味である。\n"
   ]
  },
  {
   "cell_type": "code",
   "execution_count": 20,
   "metadata": {},
   "outputs": [
    {
     "name": "stdout",
     "output_type": "stream",
     "text": [
      "1\n",
      "4\n",
      "9\n",
      "16\n"
     ]
    }
   ],
   "source": [
    "# my students\n",
    "students = ['Akari','Chikashi','Hanxue','Kasumi']\n",
    "\n",
    "numbers = [1,2,3,4]\n",
    "\n",
    "# print their names\n",
    "for x in numbers:\n",
    "    print(x*x)"
   ]
  },
  {
   "attachments": {},
   "cell_type": "markdown",
   "metadata": {},
   "source": [
    "さて、この「ループ」の概念を使ってデータ `df` の１行ずつアウトプットするには `iterrows()` メソッドを使う。例えば、データの `name` を全部アウトプットするには："
   ]
  },
  {
   "cell_type": "code",
   "execution_count": 21,
   "metadata": {},
   "outputs": [
    {
     "name": "stdout",
     "output_type": "stream",
     "text": [
      "校舎「かえで」\n",
      "校舎「あすなろ」\n",
      "図書館\n",
      "学生会館「ひいらぎ」\n",
      "麗澤大学生涯教育プラザ\n",
      "校舎「さつき」\n"
     ]
    }
   ],
   "source": [
    "# loop through your data\n",
    "for index, row in df.iterrows():\n",
    "    print(row['name'])"
   ]
  },
  {
   "attachments": {},
   "cell_type": "markdown",
   "metadata": {},
   "source": [
    "このように、`row` の変数は【各行】を意味するので、`for loop` に入っているときは変数名と共に各行の値をアウトプットすることができる。複数の変数をアウトプットも可能："
   ]
  },
  {
   "cell_type": "code",
   "execution_count": 22,
   "metadata": {},
   "outputs": [
    {
     "name": "stdout",
     "output_type": "stream",
     "text": [
      "校舎「かえで」 35.833049 139.9550264\n",
      "校舎「あすなろ」 35.83220147 139.9559064\n",
      "図書館 35.83286248 139.9559251\n",
      "学生会館「ひいらぎ」 35.83430366 139.9549849\n",
      "麗澤大学生涯教育プラザ 35.83193431 139.9568801\n",
      "校舎「さつき」 35.83411942 139.9561133\n"
     ]
    }
   ],
   "source": [
    "# loop and output multiple column values\n",
    "for index, row in df.iterrows():\n",
    "    print(row['name'],row['latitude'],row['longitude'])"
   ]
  },
  {
   "attachments": {},
   "cell_type": "markdown",
   "metadata": {},
   "source": [
    "### Use the loop in a map\n",
    "\n",
    "それでは、`for loop` を使って、`df` のポイントを一気にマッピングしよう。"
   ]
  },
  {
   "cell_type": "code",
   "execution_count": 23,
   "metadata": {},
   "outputs": [
    {
     "data": {
      "text/html": [
       "<div style=\"width:100%;\"><div style=\"position:relative;width:100%;height:0;padding-bottom:60%;\"><span style=\"color:#565656\">Make this Notebook Trusted to load map: File -> Trust Notebook</span><iframe srcdoc=\"&lt;!DOCTYPE html&gt;\n",
       "&lt;html&gt;\n",
       "&lt;head&gt;\n",
       "    \n",
       "    &lt;meta http-equiv=&quot;content-type&quot; content=&quot;text/html; charset=UTF-8&quot; /&gt;\n",
       "    \n",
       "        &lt;script&gt;\n",
       "            L_NO_TOUCH = false;\n",
       "            L_DISABLE_3D = false;\n",
       "        &lt;/script&gt;\n",
       "    \n",
       "    &lt;style&gt;html, body {width: 100%;height: 100%;margin: 0;padding: 0;}&lt;/style&gt;\n",
       "    &lt;style&gt;#map {position:absolute;top:0;bottom:0;right:0;left:0;}&lt;/style&gt;\n",
       "    &lt;script src=&quot;https://cdn.jsdelivr.net/npm/leaflet@1.9.3/dist/leaflet.js&quot;&gt;&lt;/script&gt;\n",
       "    &lt;script src=&quot;https://code.jquery.com/jquery-1.12.4.min.js&quot;&gt;&lt;/script&gt;\n",
       "    &lt;script src=&quot;https://cdn.jsdelivr.net/npm/bootstrap@5.2.2/dist/js/bootstrap.bundle.min.js&quot;&gt;&lt;/script&gt;\n",
       "    &lt;script src=&quot;https://cdnjs.cloudflare.com/ajax/libs/Leaflet.awesome-markers/2.0.2/leaflet.awesome-markers.js&quot;&gt;&lt;/script&gt;\n",
       "    &lt;link rel=&quot;stylesheet&quot; href=&quot;https://cdn.jsdelivr.net/npm/leaflet@1.9.3/dist/leaflet.css&quot;/&gt;\n",
       "    &lt;link rel=&quot;stylesheet&quot; href=&quot;https://cdn.jsdelivr.net/npm/bootstrap@5.2.2/dist/css/bootstrap.min.css&quot;/&gt;\n",
       "    &lt;link rel=&quot;stylesheet&quot; href=&quot;https://netdna.bootstrapcdn.com/bootstrap/3.0.0/css/bootstrap.min.css&quot;/&gt;\n",
       "    &lt;link rel=&quot;stylesheet&quot; href=&quot;https://cdn.jsdelivr.net/npm/@fortawesome/fontawesome-free@6.2.0/css/all.min.css&quot;/&gt;\n",
       "    &lt;link rel=&quot;stylesheet&quot; href=&quot;https://cdnjs.cloudflare.com/ajax/libs/Leaflet.awesome-markers/2.0.2/leaflet.awesome-markers.css&quot;/&gt;\n",
       "    &lt;link rel=&quot;stylesheet&quot; href=&quot;https://cdn.jsdelivr.net/gh/python-visualization/folium/folium/templates/leaflet.awesome.rotate.min.css&quot;/&gt;\n",
       "    \n",
       "            &lt;meta name=&quot;viewport&quot; content=&quot;width=device-width,\n",
       "                initial-scale=1.0, maximum-scale=1.0, user-scalable=no&quot; /&gt;\n",
       "            &lt;style&gt;\n",
       "                #map_20e2ca0805f7236e2206250fad6c8e2c {\n",
       "                    position: relative;\n",
       "                    width: 100.0%;\n",
       "                    height: 100.0%;\n",
       "                    left: 0.0%;\n",
       "                    top: 0.0%;\n",
       "                }\n",
       "                .leaflet-container { font-size: 1rem; }\n",
       "            &lt;/style&gt;\n",
       "        \n",
       "&lt;/head&gt;\n",
       "&lt;body&gt;\n",
       "    \n",
       "    \n",
       "            &lt;div class=&quot;folium-map&quot; id=&quot;map_20e2ca0805f7236e2206250fad6c8e2c&quot; &gt;&lt;/div&gt;\n",
       "        \n",
       "&lt;/body&gt;\n",
       "&lt;script&gt;\n",
       "    \n",
       "    \n",
       "            var map_20e2ca0805f7236e2206250fad6c8e2c = L.map(\n",
       "                &quot;map_20e2ca0805f7236e2206250fad6c8e2c&quot;,\n",
       "                {\n",
       "                    center: [35.833078390000004, 139.95580603333335],\n",
       "                    crs: L.CRS.EPSG3857,\n",
       "                    zoom: 17,\n",
       "                    zoomControl: true,\n",
       "                    preferCanvas: false,\n",
       "                }\n",
       "            );\n",
       "\n",
       "            \n",
       "\n",
       "        \n",
       "    \n",
       "            var tile_layer_9a46d82de043314a43d0536bec1afcbe = L.tileLayer(\n",
       "                &quot;https://{s}.tile.openstreetmap.org/{z}/{x}/{y}.png&quot;,\n",
       "                {&quot;attribution&quot;: &quot;Data by \\u0026copy; \\u003ca target=\\&quot;_blank\\&quot; href=\\&quot;http://openstreetmap.org\\&quot;\\u003eOpenStreetMap\\u003c/a\\u003e, under \\u003ca target=\\&quot;_blank\\&quot; href=\\&quot;http://www.openstreetmap.org/copyright\\&quot;\\u003eODbL\\u003c/a\\u003e.&quot;, &quot;detectRetina&quot;: false, &quot;maxNativeZoom&quot;: 18, &quot;maxZoom&quot;: 18, &quot;minZoom&quot;: 0, &quot;noWrap&quot;: false, &quot;opacity&quot;: 1, &quot;subdomains&quot;: &quot;abc&quot;, &quot;tms&quot;: false}\n",
       "            ).addTo(map_20e2ca0805f7236e2206250fad6c8e2c);\n",
       "        \n",
       "    \n",
       "            var marker_097873e444d8d171b7b935459475ee59 = L.marker(\n",
       "                [35.833049, 139.9550264],\n",
       "                {}\n",
       "            ).addTo(map_20e2ca0805f7236e2206250fad6c8e2c);\n",
       "        \n",
       "    \n",
       "            var icon_da46fd9b67a4af35abd859cc967d0e9b = L.AwesomeMarkers.icon(\n",
       "                {&quot;extraClasses&quot;: &quot;fa-rotate-0&quot;, &quot;icon&quot;: &quot;info-sign&quot;, &quot;iconColor&quot;: &quot;white&quot;, &quot;markerColor&quot;: &quot;green&quot;, &quot;prefix&quot;: &quot;glyphicon&quot;}\n",
       "            );\n",
       "            marker_097873e444d8d171b7b935459475ee59.setIcon(icon_da46fd9b67a4af35abd859cc967d0e9b);\n",
       "        \n",
       "    \n",
       "        var popup_d63e1010ce7c7a46f6fa69c99cf1f919 = L.popup({&quot;maxWidth&quot;: &quot;100%&quot;});\n",
       "\n",
       "        \n",
       "            \n",
       "                var html_d59c88f9ea949dbc93c7cdaec7f6254e = $(`&lt;div id=&quot;html_d59c88f9ea949dbc93c7cdaec7f6254e&quot; style=&quot;width: 100.0%; height: 100.0%;&quot;&gt;&lt;div style=&quot;width:350px&quot;&gt;校舎名の「かえで」には「楓の果実が2つの種子が密着した姿で、それぞれから翼が伸びる翼果であることから、仲間同士で切磋琢磨し合い、成長を遂げていくことができる人材の育成を行う」という願いが込められています。&lt;/div&gt;&lt;/div&gt;`)[0];\n",
       "                popup_d63e1010ce7c7a46f6fa69c99cf1f919.setContent(html_d59c88f9ea949dbc93c7cdaec7f6254e);\n",
       "            \n",
       "        \n",
       "\n",
       "        marker_097873e444d8d171b7b935459475ee59.bindPopup(popup_d63e1010ce7c7a46f6fa69c99cf1f919)\n",
       "        ;\n",
       "\n",
       "        \n",
       "    \n",
       "    \n",
       "            marker_097873e444d8d171b7b935459475ee59.bindTooltip(\n",
       "                `&lt;div&gt;\n",
       "                     校舎「かえで」\n",
       "                 &lt;/div&gt;`,\n",
       "                {&quot;sticky&quot;: true}\n",
       "            );\n",
       "        \n",
       "    \n",
       "            var marker_b96aa298f5d335e19957d8f6f4bf740c = L.marker(\n",
       "                [35.83220147, 139.9559064],\n",
       "                {}\n",
       "            ).addTo(map_20e2ca0805f7236e2206250fad6c8e2c);\n",
       "        \n",
       "    \n",
       "            var icon_778c11b092bf687028721ab79070600d = L.AwesomeMarkers.icon(\n",
       "                {&quot;extraClasses&quot;: &quot;fa-rotate-0&quot;, &quot;icon&quot;: &quot;info-sign&quot;, &quot;iconColor&quot;: &quot;white&quot;, &quot;markerColor&quot;: &quot;green&quot;, &quot;prefix&quot;: &quot;glyphicon&quot;}\n",
       "            );\n",
       "            marker_b96aa298f5d335e19957d8f6f4bf740c.setIcon(icon_778c11b092bf687028721ab79070600d);\n",
       "        \n",
       "    \n",
       "        var popup_206873a81002d247a843cb357e1a69de = L.popup({&quot;maxWidth&quot;: &quot;100%&quot;});\n",
       "\n",
       "        \n",
       "            \n",
       "                var html_3a6d495d55274160e4d63c68dd9f66fb = $(`&lt;div id=&quot;html_3a6d495d55274160e4d63c68dd9f66fb&quot; style=&quot;width: 100.0%; height: 100.0%;&quot;&gt;&lt;div style=&quot;width:350px&quot;&gt;麗澤大学開学50周年記念事業の一環として2011年4月&quot;森と共生するキャンパス&quot;をコンセプトに建設された校舎「あすなろ」。このコンセプトが高く評価され、2012年度グッドデザイン賞を受賞しました。&lt;/div&gt;&lt;/div&gt;`)[0];\n",
       "                popup_206873a81002d247a843cb357e1a69de.setContent(html_3a6d495d55274160e4d63c68dd9f66fb);\n",
       "            \n",
       "        \n",
       "\n",
       "        marker_b96aa298f5d335e19957d8f6f4bf740c.bindPopup(popup_206873a81002d247a843cb357e1a69de)\n",
       "        ;\n",
       "\n",
       "        \n",
       "    \n",
       "    \n",
       "            marker_b96aa298f5d335e19957d8f6f4bf740c.bindTooltip(\n",
       "                `&lt;div&gt;\n",
       "                     校舎「あすなろ」\n",
       "                 &lt;/div&gt;`,\n",
       "                {&quot;sticky&quot;: true}\n",
       "            );\n",
       "        \n",
       "    \n",
       "            var marker_3503fa42fdb3ab3b0f0f7ac31c695b05 = L.marker(\n",
       "                [35.83286248, 139.9559251],\n",
       "                {}\n",
       "            ).addTo(map_20e2ca0805f7236e2206250fad6c8e2c);\n",
       "        \n",
       "    \n",
       "            var icon_10ecf4ab17ef6e3bb3176cb04e2137de = L.AwesomeMarkers.icon(\n",
       "                {&quot;extraClasses&quot;: &quot;fa-rotate-0&quot;, &quot;icon&quot;: &quot;info-sign&quot;, &quot;iconColor&quot;: &quot;white&quot;, &quot;markerColor&quot;: &quot;green&quot;, &quot;prefix&quot;: &quot;glyphicon&quot;}\n",
       "            );\n",
       "            marker_3503fa42fdb3ab3b0f0f7ac31c695b05.setIcon(icon_10ecf4ab17ef6e3bb3176cb04e2137de);\n",
       "        \n",
       "    \n",
       "        var popup_568b3d44d2e2d5ae10cedaeea87346c0 = L.popup({&quot;maxWidth&quot;: &quot;100%&quot;});\n",
       "\n",
       "        \n",
       "            \n",
       "                var html_92059f05c88dc121f5462bc46f7ed2b6 = $(`&lt;div id=&quot;html_92059f05c88dc121f5462bc46f7ed2b6&quot; style=&quot;width: 100.0%; height: 100.0%;&quot;&gt;&lt;div style=&quot;width:350px&quot;&gt;AVホール・CALL教室を持ち、授業開講時は8:50から19:00（閉講期間中は9:00から16:45）まで利用可能。開架式を採用しており、貴重書を除くほとんどの資料を、自由に閲覧することができます。&lt;br&gt;&lt;br&gt; 開館時間は8：50～19：00（月～金）&lt;br&gt; ※授業閉講時は9：00～16：45まで開館（月～金）&lt;/div&gt;&lt;/div&gt;`)[0];\n",
       "                popup_568b3d44d2e2d5ae10cedaeea87346c0.setContent(html_92059f05c88dc121f5462bc46f7ed2b6);\n",
       "            \n",
       "        \n",
       "\n",
       "        marker_3503fa42fdb3ab3b0f0f7ac31c695b05.bindPopup(popup_568b3d44d2e2d5ae10cedaeea87346c0)\n",
       "        ;\n",
       "\n",
       "        \n",
       "    \n",
       "    \n",
       "            marker_3503fa42fdb3ab3b0f0f7ac31c695b05.bindTooltip(\n",
       "                `&lt;div&gt;\n",
       "                     図書館\n",
       "                 &lt;/div&gt;`,\n",
       "                {&quot;sticky&quot;: true}\n",
       "            );\n",
       "        \n",
       "    \n",
       "            var marker_cacc07fdd1d7238ea06b8fba15c1b742 = L.marker(\n",
       "                [35.83430366, 139.9549849],\n",
       "                {}\n",
       "            ).addTo(map_20e2ca0805f7236e2206250fad6c8e2c);\n",
       "        \n",
       "    \n",
       "            var icon_b620d109c6801352719ef895bbda4a81 = L.AwesomeMarkers.icon(\n",
       "                {&quot;extraClasses&quot;: &quot;fa-rotate-0&quot;, &quot;icon&quot;: &quot;info-sign&quot;, &quot;iconColor&quot;: &quot;white&quot;, &quot;markerColor&quot;: &quot;cadetblue&quot;, &quot;prefix&quot;: &quot;glyphicon&quot;}\n",
       "            );\n",
       "            marker_cacc07fdd1d7238ea06b8fba15c1b742.setIcon(icon_b620d109c6801352719ef895bbda4a81);\n",
       "        \n",
       "    \n",
       "        var popup_44108b15ae2598a4bb94b1df26db8a2d = L.popup({&quot;maxWidth&quot;: &quot;100%&quot;});\n",
       "\n",
       "        \n",
       "            \n",
       "                var html_27ce2c7ce46425a05997d9b805f27d56 = $(`&lt;div id=&quot;html_27ce2c7ce46425a05997d9b805f27d56&quot; style=&quot;width: 100.0%; height: 100.0%;&quot;&gt;&lt;div style=&quot;width:350px&quot;&gt;2022年9月にリニューアルオープン。木目とグリーンを基調としたアットホームな雰囲気で、窓から見える「緑」の景色とも調和した作りとなっています。「1人席」や「ソファ席」、「ベンチ席」、「ミーティングルーム」等の様々な空間で過ごせるような工夫がされています。 2階にはカフェコーナーを設置し、焼き立てパン、淹れ立てコーヒー、サーティーワンアイスが購入できます。&lt;/div&gt;&lt;/div&gt;`)[0];\n",
       "                popup_44108b15ae2598a4bb94b1df26db8a2d.setContent(html_27ce2c7ce46425a05997d9b805f27d56);\n",
       "            \n",
       "        \n",
       "\n",
       "        marker_cacc07fdd1d7238ea06b8fba15c1b742.bindPopup(popup_44108b15ae2598a4bb94b1df26db8a2d)\n",
       "        ;\n",
       "\n",
       "        \n",
       "    \n",
       "    \n",
       "            marker_cacc07fdd1d7238ea06b8fba15c1b742.bindTooltip(\n",
       "                `&lt;div&gt;\n",
       "                     学生会館「ひいらぎ」\n",
       "                 &lt;/div&gt;`,\n",
       "                {&quot;sticky&quot;: true}\n",
       "            );\n",
       "        \n",
       "    \n",
       "            var marker_4091f15efe4d3c07e8453074ef8f8101 = L.marker(\n",
       "                [35.83193431, 139.9568801],\n",
       "                {}\n",
       "            ).addTo(map_20e2ca0805f7236e2206250fad6c8e2c);\n",
       "        \n",
       "    \n",
       "            var icon_072c62d1b5a418de510e7b49e062b76c = L.AwesomeMarkers.icon(\n",
       "                {&quot;extraClasses&quot;: &quot;fa-rotate-0&quot;, &quot;icon&quot;: &quot;info-sign&quot;, &quot;iconColor&quot;: &quot;white&quot;, &quot;markerColor&quot;: &quot;green&quot;, &quot;prefix&quot;: &quot;glyphicon&quot;}\n",
       "            );\n",
       "            marker_4091f15efe4d3c07e8453074ef8f8101.setIcon(icon_072c62d1b5a418de510e7b49e062b76c);\n",
       "        \n",
       "    \n",
       "        var popup_a9110a5a9a6e553556b8ca4fa17e5232 = L.popup({&quot;maxWidth&quot;: &quot;100%&quot;});\n",
       "\n",
       "        \n",
       "            \n",
       "                var html_89dd6687ef933b2d532171764bc46d3f = $(`&lt;div id=&quot;html_89dd6687ef933b2d532171764bc46d3f&quot; style=&quot;width: 100.0%; height: 100.0%;&quot;&gt;&lt;div style=&quot;width:350px&quot;&gt;2006年（平成18年）2月竣工。大学院、研究センター、情報システム部、麗澤オープンカレッジが入る複合施設。教育活動、研究活動、社会貢献活動を積極的に推進し、これからの生涯学習への需要に的確に応えていくことを目的とした建物です。&lt;/div&gt;&lt;/div&gt;`)[0];\n",
       "                popup_a9110a5a9a6e553556b8ca4fa17e5232.setContent(html_89dd6687ef933b2d532171764bc46d3f);\n",
       "            \n",
       "        \n",
       "\n",
       "        marker_4091f15efe4d3c07e8453074ef8f8101.bindPopup(popup_a9110a5a9a6e553556b8ca4fa17e5232)\n",
       "        ;\n",
       "\n",
       "        \n",
       "    \n",
       "    \n",
       "            marker_4091f15efe4d3c07e8453074ef8f8101.bindTooltip(\n",
       "                `&lt;div&gt;\n",
       "                     麗澤大学生涯教育プラザ\n",
       "                 &lt;/div&gt;`,\n",
       "                {&quot;sticky&quot;: true}\n",
       "            );\n",
       "        \n",
       "    \n",
       "            var marker_90a4445d23ca6b4b0afe98c8e5902d33 = L.marker(\n",
       "                [35.83411942, 139.9561133],\n",
       "                {}\n",
       "            ).addTo(map_20e2ca0805f7236e2206250fad6c8e2c);\n",
       "        \n",
       "    \n",
       "            var icon_adfd2af16f5f25270d826ccda745bb42 = L.AwesomeMarkers.icon(\n",
       "                {&quot;extraClasses&quot;: &quot;fa-rotate-0&quot;, &quot;icon&quot;: &quot;info-sign&quot;, &quot;iconColor&quot;: &quot;white&quot;, &quot;markerColor&quot;: &quot;darkred&quot;, &quot;prefix&quot;: &quot;glyphicon&quot;}\n",
       "            );\n",
       "            marker_90a4445d23ca6b4b0afe98c8e5902d33.setIcon(icon_adfd2af16f5f25270d826ccda745bb42);\n",
       "        \n",
       "    \n",
       "        var popup_781640d36403b41eb22065dd15c351f2 = L.popup({&quot;maxWidth&quot;: &quot;100%&quot;});\n",
       "\n",
       "        \n",
       "            \n",
       "                var html_036a2fd982c6dabf1425624b161fde31 = $(`&lt;div id=&quot;html_036a2fd982c6dabf1425624b161fde31&quot; style=&quot;width: 100.0%; height: 100.0%;&quot;&gt;&lt;div style=&quot;width:350px&quot;&gt;&lt;img src=&quot;https://www.reitaku-u.ac.jp/news/images/fb67d3c1fc242f1c5205423a598be848832b6c2b.jpg&quot; width=100%&gt; &lt;p&gt; さつきの花言葉は「節制」。強健で花付きがよく、毎年花が満開に咲きます。新しい学び舎で、強い信念を持って学問に励み、1人1人が満開の花を咲かせられるようにという想いが込められています。 &lt;/p&gt;&lt;/div&gt;&lt;/div&gt;`)[0];\n",
       "                popup_781640d36403b41eb22065dd15c351f2.setContent(html_036a2fd982c6dabf1425624b161fde31);\n",
       "            \n",
       "        \n",
       "\n",
       "        marker_90a4445d23ca6b4b0afe98c8e5902d33.bindPopup(popup_781640d36403b41eb22065dd15c351f2)\n",
       "        ;\n",
       "\n",
       "        \n",
       "    \n",
       "    \n",
       "            marker_90a4445d23ca6b4b0afe98c8e5902d33.bindTooltip(\n",
       "                `&lt;div&gt;\n",
       "                     校舎「さつき」\n",
       "                 &lt;/div&gt;`,\n",
       "                {&quot;sticky&quot;: true}\n",
       "            );\n",
       "        \n",
       "&lt;/script&gt;\n",
       "&lt;/html&gt;\" style=\"position:absolute;width:100%;height:100%;left:0;top:0;border:none !important;\" allowfullscreen webkitallowfullscreen mozallowfullscreen></iframe></div></div>"
      ],
      "text/plain": [
       "<folium.folium.Map at 0x188a44050>"
      ]
     },
     "execution_count": 23,
     "metadata": {},
     "output_type": "execute_result"
    }
   ],
   "source": [
    "# make the map\n",
    "m = folium.Map(location=[center_lat,center_lon], zoom_start=17)\n",
    "\n",
    "# df をループしてマーカーを作る\n",
    "for index, row in df.iterrows():\n",
    "    latlon = [row['latitude'],row['longitude']]\n",
    "    folium.Marker(latlon, \n",
    "                  popup='<div style=\"width:350px\">'+row['description']+'</div>', \n",
    "                  tooltip=row['name'],\n",
    "                  icon=folium.Icon(color=row['color']\n",
    "                )).add_to(m)\n",
    "\n",
    "# show the map\n",
    "m"
   ]
  },
  {
   "attachments": {},
   "cell_type": "markdown",
   "metadata": {},
   "source": [
    "`popup` の値に注目！そうなんです。日本語のテキストだと、popupが縦に表示されるため、これを回避するにはテキストの周りにHTMLで強引に `width` を設定します。\n",
    "\n",
    "<img src=\"https://raw.githubusercontent.com/yohman/23-1-Reitaku-GIS/main/Weeks/Week06/images/tate%20to%20yoko.png\" width=\"400\">"
   ]
  },
  {
   "attachments": {},
   "cell_type": "markdown",
   "metadata": {},
   "source": [
    "### Basemap 色々\n",
    "\n",
    "デフォルトで使うベースマップは Open Street Map から。でも他にもオプションがいっぱいある。`folium` でマップを作るときに `tiles` と `attr` を指定することによってベースマップの変更が可能になる。\n",
    "\n",
    "日本では国土交通省の国土地理院が様々なベースマップを提供している。以下のURLを `tiles` 変数に指定する。`attr` は `attribute` の略なので、必ず出所を指定する。この場合は `attr=\"国土地理院\"`\n",
    "\n",
    "2007年以降\n",
    "- https://cyberjapandata.gsi.go.jp/xyz/seamlessphoto/{z}/{x}/{y}.jpg\n",
    "\n",
    "1987年～1990年\n",
    "- https://cyberjapandata.gsi.go.jp/xyz/gazo4/{z}/{x}/{y}.jpg\n",
    "\n",
    "1984年～1986年\n",
    "- https://cyberjapandata.gsi.go.jp/xyz/gazo3/{z}/{x}/{y}.jpg\n",
    "\n",
    "1979年～1983年\n",
    "- https://cyberjapandata.gsi.go.jp/xyz/gazo2/{z}/{x}/{y}.jpg\n",
    "\n",
    "1974年～1978年\n",
    "- https://cyberjapandata.gsi.go.jp/xyz/gazo1/{z}/{x}/{y}.jpg\n",
    "\n",
    "1961年～1969年\n",
    "- https://cyberjapandata.gsi.go.jp/xyz/ort_old10/{z}/{x}/{y}.png\n"
   ]
  },
  {
   "cell_type": "code",
   "execution_count": 24,
   "metadata": {},
   "outputs": [
    {
     "data": {
      "text/html": [
       "<div style=\"width:100%;\"><div style=\"position:relative;width:100%;height:0;padding-bottom:60%;\"><span style=\"color:#565656\">Make this Notebook Trusted to load map: File -> Trust Notebook</span><iframe srcdoc=\"&lt;!DOCTYPE html&gt;\n",
       "&lt;html&gt;\n",
       "&lt;head&gt;\n",
       "    \n",
       "    &lt;meta http-equiv=&quot;content-type&quot; content=&quot;text/html; charset=UTF-8&quot; /&gt;\n",
       "    \n",
       "        &lt;script&gt;\n",
       "            L_NO_TOUCH = false;\n",
       "            L_DISABLE_3D = false;\n",
       "        &lt;/script&gt;\n",
       "    \n",
       "    &lt;style&gt;html, body {width: 100%;height: 100%;margin: 0;padding: 0;}&lt;/style&gt;\n",
       "    &lt;style&gt;#map {position:absolute;top:0;bottom:0;right:0;left:0;}&lt;/style&gt;\n",
       "    &lt;script src=&quot;https://cdn.jsdelivr.net/npm/leaflet@1.9.3/dist/leaflet.js&quot;&gt;&lt;/script&gt;\n",
       "    &lt;script src=&quot;https://code.jquery.com/jquery-1.12.4.min.js&quot;&gt;&lt;/script&gt;\n",
       "    &lt;script src=&quot;https://cdn.jsdelivr.net/npm/bootstrap@5.2.2/dist/js/bootstrap.bundle.min.js&quot;&gt;&lt;/script&gt;\n",
       "    &lt;script src=&quot;https://cdnjs.cloudflare.com/ajax/libs/Leaflet.awesome-markers/2.0.2/leaflet.awesome-markers.js&quot;&gt;&lt;/script&gt;\n",
       "    &lt;link rel=&quot;stylesheet&quot; href=&quot;https://cdn.jsdelivr.net/npm/leaflet@1.9.3/dist/leaflet.css&quot;/&gt;\n",
       "    &lt;link rel=&quot;stylesheet&quot; href=&quot;https://cdn.jsdelivr.net/npm/bootstrap@5.2.2/dist/css/bootstrap.min.css&quot;/&gt;\n",
       "    &lt;link rel=&quot;stylesheet&quot; href=&quot;https://netdna.bootstrapcdn.com/bootstrap/3.0.0/css/bootstrap.min.css&quot;/&gt;\n",
       "    &lt;link rel=&quot;stylesheet&quot; href=&quot;https://cdn.jsdelivr.net/npm/@fortawesome/fontawesome-free@6.2.0/css/all.min.css&quot;/&gt;\n",
       "    &lt;link rel=&quot;stylesheet&quot; href=&quot;https://cdnjs.cloudflare.com/ajax/libs/Leaflet.awesome-markers/2.0.2/leaflet.awesome-markers.css&quot;/&gt;\n",
       "    &lt;link rel=&quot;stylesheet&quot; href=&quot;https://cdn.jsdelivr.net/gh/python-visualization/folium/folium/templates/leaflet.awesome.rotate.min.css&quot;/&gt;\n",
       "    \n",
       "            &lt;meta name=&quot;viewport&quot; content=&quot;width=device-width,\n",
       "                initial-scale=1.0, maximum-scale=1.0, user-scalable=no&quot; /&gt;\n",
       "            &lt;style&gt;\n",
       "                #map_c626a32957db79ccb1b3d2a25755df4f {\n",
       "                    position: relative;\n",
       "                    width: 100.0%;\n",
       "                    height: 100.0%;\n",
       "                    left: 0.0%;\n",
       "                    top: 0.0%;\n",
       "                }\n",
       "                .leaflet-container { font-size: 1rem; }\n",
       "            &lt;/style&gt;\n",
       "        \n",
       "&lt;/head&gt;\n",
       "&lt;body&gt;\n",
       "    \n",
       "    \n",
       "            &lt;div class=&quot;folium-map&quot; id=&quot;map_c626a32957db79ccb1b3d2a25755df4f&quot; &gt;&lt;/div&gt;\n",
       "        \n",
       "&lt;/body&gt;\n",
       "&lt;script&gt;\n",
       "    \n",
       "    \n",
       "            var map_c626a32957db79ccb1b3d2a25755df4f = L.map(\n",
       "                &quot;map_c626a32957db79ccb1b3d2a25755df4f&quot;,\n",
       "                {\n",
       "                    center: [35.833078390000004, 139.95580603333335],\n",
       "                    crs: L.CRS.EPSG3857,\n",
       "                    zoom: 17,\n",
       "                    zoomControl: true,\n",
       "                    preferCanvas: false,\n",
       "                }\n",
       "            );\n",
       "\n",
       "            \n",
       "\n",
       "        \n",
       "    \n",
       "            var tile_layer_4232e2cb58520793f89d9d7b5a0a4aa5 = L.tileLayer(\n",
       "                &quot;https://{s}.tile.openstreetmap.org/{z}/{x}/{y}.png&quot;,\n",
       "                {&quot;attribution&quot;: &quot;Data by \\u0026copy; \\u003ca target=\\&quot;_blank\\&quot; href=\\&quot;http://openstreetmap.org\\&quot;\\u003eOpenStreetMap\\u003c/a\\u003e, under \\u003ca target=\\&quot;_blank\\&quot; href=\\&quot;http://www.openstreetmap.org/copyright\\&quot;\\u003eODbL\\u003c/a\\u003e.&quot;, &quot;detectRetina&quot;: false, &quot;maxNativeZoom&quot;: 18, &quot;maxZoom&quot;: 18, &quot;minZoom&quot;: 0, &quot;noWrap&quot;: false, &quot;opacity&quot;: 1, &quot;subdomains&quot;: &quot;abc&quot;, &quot;tms&quot;: false}\n",
       "            ).addTo(map_c626a32957db79ccb1b3d2a25755df4f);\n",
       "        \n",
       "    \n",
       "            var tile_layer_0e0b12288907a9c4b97b0757f78de67d = L.tileLayer(\n",
       "                &quot;https://cyberjapandata.gsi.go.jp/xyz/seamlessphoto/{z}/{x}/{y}.jpg&quot;,\n",
       "                {&quot;attribution&quot;: &quot;\\u56fd\\u571f\\u5730\\u7406\\u9662&quot;, &quot;detectRetina&quot;: false, &quot;maxNativeZoom&quot;: 18, &quot;maxZoom&quot;: 18, &quot;minZoom&quot;: 0, &quot;noWrap&quot;: false, &quot;opacity&quot;: 1, &quot;subdomains&quot;: &quot;abc&quot;, &quot;tms&quot;: false}\n",
       "            ).addTo(map_c626a32957db79ccb1b3d2a25755df4f);\n",
       "        \n",
       "    \n",
       "            var tile_layer_deef246abf1361e0da0537f0fe4c22f7 = L.tileLayer(\n",
       "                &quot;https://cyberjapandata.gsi.go.jp/xyz/gazo4/{z}/{x}/{y}.jpg&quot;,\n",
       "                {&quot;attribution&quot;: &quot;\\u56fd\\u571f\\u5730\\u7406\\u9662&quot;, &quot;detectRetina&quot;: false, &quot;maxNativeZoom&quot;: 18, &quot;maxZoom&quot;: 18, &quot;minZoom&quot;: 0, &quot;noWrap&quot;: false, &quot;opacity&quot;: 1, &quot;subdomains&quot;: &quot;abc&quot;, &quot;tms&quot;: false}\n",
       "            ).addTo(map_c626a32957db79ccb1b3d2a25755df4f);\n",
       "        \n",
       "    \n",
       "            var tile_layer_25459399006a37d39e5eceff3a18299d = L.tileLayer(\n",
       "                &quot;https://cyberjapandata.gsi.go.jp/xyz/gazo3/{z}/{x}/{y}.jpg&quot;,\n",
       "                {&quot;attribution&quot;: &quot;\\u56fd\\u571f\\u5730\\u7406\\u9662&quot;, &quot;detectRetina&quot;: false, &quot;maxNativeZoom&quot;: 18, &quot;maxZoom&quot;: 18, &quot;minZoom&quot;: 0, &quot;noWrap&quot;: false, &quot;opacity&quot;: 1, &quot;subdomains&quot;: &quot;abc&quot;, &quot;tms&quot;: false}\n",
       "            ).addTo(map_c626a32957db79ccb1b3d2a25755df4f);\n",
       "        \n",
       "    \n",
       "            var tile_layer_be25887244ba7a4d2b44f14cd29a998f = L.tileLayer(\n",
       "                &quot;https://cyberjapandata.gsi.go.jp/xyz/gazo2/{z}/{x}/{y}.jpg&quot;,\n",
       "                {&quot;attribution&quot;: &quot;\\u56fd\\u571f\\u5730\\u7406\\u9662&quot;, &quot;detectRetina&quot;: false, &quot;maxNativeZoom&quot;: 18, &quot;maxZoom&quot;: 18, &quot;minZoom&quot;: 0, &quot;noWrap&quot;: false, &quot;opacity&quot;: 1, &quot;subdomains&quot;: &quot;abc&quot;, &quot;tms&quot;: false}\n",
       "            ).addTo(map_c626a32957db79ccb1b3d2a25755df4f);\n",
       "        \n",
       "    \n",
       "            var tile_layer_2bed160cde0aa127f31fbbc11f24564c = L.tileLayer(\n",
       "                &quot;https://cyberjapandata.gsi.go.jp/xyz/gazo1/{z}/{x}/{y}.jpg&quot;,\n",
       "                {&quot;attribution&quot;: &quot;\\u56fd\\u571f\\u5730\\u7406\\u9662&quot;, &quot;detectRetina&quot;: false, &quot;maxNativeZoom&quot;: 18, &quot;maxZoom&quot;: 18, &quot;minZoom&quot;: 0, &quot;noWrap&quot;: false, &quot;opacity&quot;: 1, &quot;subdomains&quot;: &quot;abc&quot;, &quot;tms&quot;: false}\n",
       "            ).addTo(map_c626a32957db79ccb1b3d2a25755df4f);\n",
       "        \n",
       "    \n",
       "            var tile_layer_7fe54fc049f21651c32a0d90f5cf4b6b = L.tileLayer(\n",
       "                &quot;https://cyberjapandata.gsi.go.jp/xyz/ort_old10/{z}/{x}/{y}.png&quot;,\n",
       "                {&quot;attribution&quot;: &quot;\\u56fd\\u571f\\u5730\\u7406\\u9662&quot;, &quot;detectRetina&quot;: false, &quot;maxNativeZoom&quot;: 18, &quot;maxZoom&quot;: 18, &quot;minZoom&quot;: 0, &quot;noWrap&quot;: false, &quot;opacity&quot;: 1, &quot;subdomains&quot;: &quot;abc&quot;, &quot;tms&quot;: false}\n",
       "            ).addTo(map_c626a32957db79ccb1b3d2a25755df4f);\n",
       "        \n",
       "    \n",
       "            var tile_layer_9949fffdb8a8151ed6292c93660a24bd = L.tileLayer(\n",
       "                &quot;https://cyberjapandata.gsi.go.jp/xyz/ort_USA10/{z}/{x}/{y}.png&quot;,\n",
       "                {&quot;attribution&quot;: &quot;\\u56fd\\u571f\\u5730\\u7406\\u9662&quot;, &quot;detectRetina&quot;: false, &quot;maxNativeZoom&quot;: 18, &quot;maxZoom&quot;: 18, &quot;minZoom&quot;: 0, &quot;noWrap&quot;: false, &quot;opacity&quot;: 1, &quot;subdomains&quot;: &quot;abc&quot;, &quot;tms&quot;: false}\n",
       "            ).addTo(map_c626a32957db79ccb1b3d2a25755df4f);\n",
       "        \n",
       "    \n",
       "            var layer_control_3a7ea49dee3112d2032e3a0e30381cbe = {\n",
       "                base_layers : {\n",
       "                    &quot;openstreetmap&quot; : tile_layer_4232e2cb58520793f89d9d7b5a0a4aa5,\n",
       "                    &quot;2007\\u5e74\\u4ee5\\u964d&quot; : tile_layer_0e0b12288907a9c4b97b0757f78de67d,\n",
       "                    &quot;1987\\u5e74\\uff5e1990\\u5e74&quot; : tile_layer_deef246abf1361e0da0537f0fe4c22f7,\n",
       "                    &quot;1984\\u5e74\\uff5e1986\\u5e74&quot; : tile_layer_25459399006a37d39e5eceff3a18299d,\n",
       "                    &quot;1979\\u5e74\\uff5e1983\\u5e74&quot; : tile_layer_be25887244ba7a4d2b44f14cd29a998f,\n",
       "                    &quot;1974\\u5e74\\uff5e1978\\u5e74&quot; : tile_layer_2bed160cde0aa127f31fbbc11f24564c,\n",
       "                    &quot;1961\\u5e74\\uff5e1969\\u5e74&quot; : tile_layer_7fe54fc049f21651c32a0d90f5cf4b6b,\n",
       "                    &quot;1945\\u5e74\\uff5e1950\\u5e74&quot; : tile_layer_9949fffdb8a8151ed6292c93660a24bd,\n",
       "                },\n",
       "                overlays :  {\n",
       "                },\n",
       "            };\n",
       "            L.control.layers(\n",
       "                layer_control_3a7ea49dee3112d2032e3a0e30381cbe.base_layers,\n",
       "                layer_control_3a7ea49dee3112d2032e3a0e30381cbe.overlays,\n",
       "                {&quot;autoZIndex&quot;: true, &quot;collapsed&quot;: true, &quot;position&quot;: &quot;topright&quot;}\n",
       "            ).addTo(map_c626a32957db79ccb1b3d2a25755df4f);\n",
       "            tile_layer_0e0b12288907a9c4b97b0757f78de67d.remove();\n",
       "            tile_layer_deef246abf1361e0da0537f0fe4c22f7.remove();\n",
       "            tile_layer_25459399006a37d39e5eceff3a18299d.remove();\n",
       "            tile_layer_be25887244ba7a4d2b44f14cd29a998f.remove();\n",
       "            tile_layer_2bed160cde0aa127f31fbbc11f24564c.remove();\n",
       "            tile_layer_7fe54fc049f21651c32a0d90f5cf4b6b.remove();\n",
       "            tile_layer_9949fffdb8a8151ed6292c93660a24bd.remove();\n",
       "        \n",
       "    \n",
       "            var marker_0df7a4a7776715f430c3fd7bd421ca4b = L.marker(\n",
       "                [35.833049, 139.9550264],\n",
       "                {}\n",
       "            ).addTo(map_c626a32957db79ccb1b3d2a25755df4f);\n",
       "        \n",
       "    \n",
       "            var icon_4081105e63b811c04a8e9c2383ba8359 = L.AwesomeMarkers.icon(\n",
       "                {&quot;extraClasses&quot;: &quot;fa-rotate-0&quot;, &quot;icon&quot;: &quot;info-sign&quot;, &quot;iconColor&quot;: &quot;white&quot;, &quot;markerColor&quot;: &quot;green&quot;, &quot;prefix&quot;: &quot;glyphicon&quot;}\n",
       "            );\n",
       "            marker_0df7a4a7776715f430c3fd7bd421ca4b.setIcon(icon_4081105e63b811c04a8e9c2383ba8359);\n",
       "        \n",
       "    \n",
       "        var popup_859d24f8d4eb33440a4636feb1ee9e08 = L.popup({&quot;maxWidth&quot;: &quot;100%&quot;});\n",
       "\n",
       "        \n",
       "            \n",
       "                var html_380f1dd5a5ca0147170ba215c2886df1 = $(`&lt;div id=&quot;html_380f1dd5a5ca0147170ba215c2886df1&quot; style=&quot;width: 100.0%; height: 100.0%;&quot;&gt;&lt;div style=&quot;width:150px&quot;&gt;校舎名の「かえで」には「楓の果実が2つの種子が密着した姿で、それぞれから翼が伸びる翼果であることから、仲間同士で切磋琢磨し合い、成長を遂げていくことができる人材の育成を行う」という願いが込められています。&lt;/div&gt;&lt;/div&gt;`)[0];\n",
       "                popup_859d24f8d4eb33440a4636feb1ee9e08.setContent(html_380f1dd5a5ca0147170ba215c2886df1);\n",
       "            \n",
       "        \n",
       "\n",
       "        marker_0df7a4a7776715f430c3fd7bd421ca4b.bindPopup(popup_859d24f8d4eb33440a4636feb1ee9e08)\n",
       "        ;\n",
       "\n",
       "        \n",
       "    \n",
       "    \n",
       "            marker_0df7a4a7776715f430c3fd7bd421ca4b.bindTooltip(\n",
       "                `&lt;div&gt;\n",
       "                     校舎「かえで」\n",
       "                 &lt;/div&gt;`,\n",
       "                {&quot;sticky&quot;: true}\n",
       "            );\n",
       "        \n",
       "    \n",
       "            var marker_24f252f50d1ff0101392d046f74df3fc = L.marker(\n",
       "                [35.83220147, 139.9559064],\n",
       "                {}\n",
       "            ).addTo(map_c626a32957db79ccb1b3d2a25755df4f);\n",
       "        \n",
       "    \n",
       "            var icon_0383262af84ade744f81172a7c8611aa = L.AwesomeMarkers.icon(\n",
       "                {&quot;extraClasses&quot;: &quot;fa-rotate-0&quot;, &quot;icon&quot;: &quot;info-sign&quot;, &quot;iconColor&quot;: &quot;white&quot;, &quot;markerColor&quot;: &quot;green&quot;, &quot;prefix&quot;: &quot;glyphicon&quot;}\n",
       "            );\n",
       "            marker_24f252f50d1ff0101392d046f74df3fc.setIcon(icon_0383262af84ade744f81172a7c8611aa);\n",
       "        \n",
       "    \n",
       "        var popup_a112911cbf73ed11ffa392c461b26ddb = L.popup({&quot;maxWidth&quot;: &quot;100%&quot;});\n",
       "\n",
       "        \n",
       "            \n",
       "                var html_852da1af9f7c4c13d6de0228b9f0cad7 = $(`&lt;div id=&quot;html_852da1af9f7c4c13d6de0228b9f0cad7&quot; style=&quot;width: 100.0%; height: 100.0%;&quot;&gt;&lt;div style=&quot;width:150px&quot;&gt;麗澤大学開学50周年記念事業の一環として2011年4月&quot;森と共生するキャンパス&quot;をコンセプトに建設された校舎「あすなろ」。このコンセプトが高く評価され、2012年度グッドデザイン賞を受賞しました。&lt;/div&gt;&lt;/div&gt;`)[0];\n",
       "                popup_a112911cbf73ed11ffa392c461b26ddb.setContent(html_852da1af9f7c4c13d6de0228b9f0cad7);\n",
       "            \n",
       "        \n",
       "\n",
       "        marker_24f252f50d1ff0101392d046f74df3fc.bindPopup(popup_a112911cbf73ed11ffa392c461b26ddb)\n",
       "        ;\n",
       "\n",
       "        \n",
       "    \n",
       "    \n",
       "            marker_24f252f50d1ff0101392d046f74df3fc.bindTooltip(\n",
       "                `&lt;div&gt;\n",
       "                     校舎「あすなろ」\n",
       "                 &lt;/div&gt;`,\n",
       "                {&quot;sticky&quot;: true}\n",
       "            );\n",
       "        \n",
       "    \n",
       "            var marker_0e94168a7130a798c6aed126c0127588 = L.marker(\n",
       "                [35.83286248, 139.9559251],\n",
       "                {}\n",
       "            ).addTo(map_c626a32957db79ccb1b3d2a25755df4f);\n",
       "        \n",
       "    \n",
       "            var icon_22c83035aa4e90d9d476364086129af4 = L.AwesomeMarkers.icon(\n",
       "                {&quot;extraClasses&quot;: &quot;fa-rotate-0&quot;, &quot;icon&quot;: &quot;info-sign&quot;, &quot;iconColor&quot;: &quot;white&quot;, &quot;markerColor&quot;: &quot;green&quot;, &quot;prefix&quot;: &quot;glyphicon&quot;}\n",
       "            );\n",
       "            marker_0e94168a7130a798c6aed126c0127588.setIcon(icon_22c83035aa4e90d9d476364086129af4);\n",
       "        \n",
       "    \n",
       "        var popup_5360fb193c884e22f17627e89c53179b = L.popup({&quot;maxWidth&quot;: &quot;100%&quot;});\n",
       "\n",
       "        \n",
       "            \n",
       "                var html_e02c31e5981e100f34cf15049678958c = $(`&lt;div id=&quot;html_e02c31e5981e100f34cf15049678958c&quot; style=&quot;width: 100.0%; height: 100.0%;&quot;&gt;&lt;div style=&quot;width:150px&quot;&gt;AVホール・CALL教室を持ち、授業開講時は8:50から19:00（閉講期間中は9:00から16:45）まで利用可能。開架式を採用しており、貴重書を除くほとんどの資料を、自由に閲覧することができます。&lt;br&gt;&lt;br&gt; 開館時間は8：50～19：00（月～金）&lt;br&gt; ※授業閉講時は9：00～16：45まで開館（月～金）&lt;/div&gt;&lt;/div&gt;`)[0];\n",
       "                popup_5360fb193c884e22f17627e89c53179b.setContent(html_e02c31e5981e100f34cf15049678958c);\n",
       "            \n",
       "        \n",
       "\n",
       "        marker_0e94168a7130a798c6aed126c0127588.bindPopup(popup_5360fb193c884e22f17627e89c53179b)\n",
       "        ;\n",
       "\n",
       "        \n",
       "    \n",
       "    \n",
       "            marker_0e94168a7130a798c6aed126c0127588.bindTooltip(\n",
       "                `&lt;div&gt;\n",
       "                     図書館\n",
       "                 &lt;/div&gt;`,\n",
       "                {&quot;sticky&quot;: true}\n",
       "            );\n",
       "        \n",
       "    \n",
       "            var marker_ad8d3876ef50b1e18e5df7eae2f7a983 = L.marker(\n",
       "                [35.83430366, 139.9549849],\n",
       "                {}\n",
       "            ).addTo(map_c626a32957db79ccb1b3d2a25755df4f);\n",
       "        \n",
       "    \n",
       "            var icon_5498806ace92ec28f51a2b2d5fd2da89 = L.AwesomeMarkers.icon(\n",
       "                {&quot;extraClasses&quot;: &quot;fa-rotate-0&quot;, &quot;icon&quot;: &quot;info-sign&quot;, &quot;iconColor&quot;: &quot;white&quot;, &quot;markerColor&quot;: &quot;cadetblue&quot;, &quot;prefix&quot;: &quot;glyphicon&quot;}\n",
       "            );\n",
       "            marker_ad8d3876ef50b1e18e5df7eae2f7a983.setIcon(icon_5498806ace92ec28f51a2b2d5fd2da89);\n",
       "        \n",
       "    \n",
       "        var popup_1327768f8c2be3b3fe8b741e750e544f = L.popup({&quot;maxWidth&quot;: &quot;100%&quot;});\n",
       "\n",
       "        \n",
       "            \n",
       "                var html_0a455258f114e8f8f1288513ed67f4ea = $(`&lt;div id=&quot;html_0a455258f114e8f8f1288513ed67f4ea&quot; style=&quot;width: 100.0%; height: 100.0%;&quot;&gt;&lt;div style=&quot;width:150px&quot;&gt;2022年9月にリニューアルオープン。木目とグリーンを基調としたアットホームな雰囲気で、窓から見える「緑」の景色とも調和した作りとなっています。「1人席」や「ソファ席」、「ベンチ席」、「ミーティングルーム」等の様々な空間で過ごせるような工夫がされています。 2階にはカフェコーナーを設置し、焼き立てパン、淹れ立てコーヒー、サーティーワンアイスが購入できます。&lt;/div&gt;&lt;/div&gt;`)[0];\n",
       "                popup_1327768f8c2be3b3fe8b741e750e544f.setContent(html_0a455258f114e8f8f1288513ed67f4ea);\n",
       "            \n",
       "        \n",
       "\n",
       "        marker_ad8d3876ef50b1e18e5df7eae2f7a983.bindPopup(popup_1327768f8c2be3b3fe8b741e750e544f)\n",
       "        ;\n",
       "\n",
       "        \n",
       "    \n",
       "    \n",
       "            marker_ad8d3876ef50b1e18e5df7eae2f7a983.bindTooltip(\n",
       "                `&lt;div&gt;\n",
       "                     学生会館「ひいらぎ」\n",
       "                 &lt;/div&gt;`,\n",
       "                {&quot;sticky&quot;: true}\n",
       "            );\n",
       "        \n",
       "    \n",
       "            var marker_e244cf5c37922690b3bbcc862d4b734f = L.marker(\n",
       "                [35.83193431, 139.9568801],\n",
       "                {}\n",
       "            ).addTo(map_c626a32957db79ccb1b3d2a25755df4f);\n",
       "        \n",
       "    \n",
       "            var icon_33a1100ab5e8a770d8beaac8093572b9 = L.AwesomeMarkers.icon(\n",
       "                {&quot;extraClasses&quot;: &quot;fa-rotate-0&quot;, &quot;icon&quot;: &quot;info-sign&quot;, &quot;iconColor&quot;: &quot;white&quot;, &quot;markerColor&quot;: &quot;green&quot;, &quot;prefix&quot;: &quot;glyphicon&quot;}\n",
       "            );\n",
       "            marker_e244cf5c37922690b3bbcc862d4b734f.setIcon(icon_33a1100ab5e8a770d8beaac8093572b9);\n",
       "        \n",
       "    \n",
       "        var popup_237444a87485cfcbefe5cb3746cae372 = L.popup({&quot;maxWidth&quot;: &quot;100%&quot;});\n",
       "\n",
       "        \n",
       "            \n",
       "                var html_f11a2a9b9c41dc202ab0b90d529241b8 = $(`&lt;div id=&quot;html_f11a2a9b9c41dc202ab0b90d529241b8&quot; style=&quot;width: 100.0%; height: 100.0%;&quot;&gt;&lt;div style=&quot;width:150px&quot;&gt;2006年（平成18年）2月竣工。大学院、研究センター、情報システム部、麗澤オープンカレッジが入る複合施設。教育活動、研究活動、社会貢献活動を積極的に推進し、これからの生涯学習への需要に的確に応えていくことを目的とした建物です。&lt;/div&gt;&lt;/div&gt;`)[0];\n",
       "                popup_237444a87485cfcbefe5cb3746cae372.setContent(html_f11a2a9b9c41dc202ab0b90d529241b8);\n",
       "            \n",
       "        \n",
       "\n",
       "        marker_e244cf5c37922690b3bbcc862d4b734f.bindPopup(popup_237444a87485cfcbefe5cb3746cae372)\n",
       "        ;\n",
       "\n",
       "        \n",
       "    \n",
       "    \n",
       "            marker_e244cf5c37922690b3bbcc862d4b734f.bindTooltip(\n",
       "                `&lt;div&gt;\n",
       "                     麗澤大学生涯教育プラザ\n",
       "                 &lt;/div&gt;`,\n",
       "                {&quot;sticky&quot;: true}\n",
       "            );\n",
       "        \n",
       "    \n",
       "            var marker_4f1749f3e530d1af52a4cd7a90b39fd0 = L.marker(\n",
       "                [35.83411942, 139.9561133],\n",
       "                {}\n",
       "            ).addTo(map_c626a32957db79ccb1b3d2a25755df4f);\n",
       "        \n",
       "    \n",
       "            var icon_529554a7a8bb8b08e57674c671d19b79 = L.AwesomeMarkers.icon(\n",
       "                {&quot;extraClasses&quot;: &quot;fa-rotate-0&quot;, &quot;icon&quot;: &quot;info-sign&quot;, &quot;iconColor&quot;: &quot;white&quot;, &quot;markerColor&quot;: &quot;darkred&quot;, &quot;prefix&quot;: &quot;glyphicon&quot;}\n",
       "            );\n",
       "            marker_4f1749f3e530d1af52a4cd7a90b39fd0.setIcon(icon_529554a7a8bb8b08e57674c671d19b79);\n",
       "        \n",
       "    \n",
       "        var popup_46ea01e9062aef4a81c26dc99b01c273 = L.popup({&quot;maxWidth&quot;: &quot;100%&quot;});\n",
       "\n",
       "        \n",
       "            \n",
       "                var html_0adf03ee1658b1d5297b8d2e6c50bae3 = $(`&lt;div id=&quot;html_0adf03ee1658b1d5297b8d2e6c50bae3&quot; style=&quot;width: 100.0%; height: 100.0%;&quot;&gt;&lt;div style=&quot;width:150px&quot;&gt;&lt;img src=&quot;https://www.reitaku-u.ac.jp/news/images/fb67d3c1fc242f1c5205423a598be848832b6c2b.jpg&quot; width=100%&gt; &lt;p&gt; さつきの花言葉は「節制」。強健で花付きがよく、毎年花が満開に咲きます。新しい学び舎で、強い信念を持って学問に励み、1人1人が満開の花を咲かせられるようにという想いが込められています。 &lt;/p&gt;&lt;/div&gt;&lt;/div&gt;`)[0];\n",
       "                popup_46ea01e9062aef4a81c26dc99b01c273.setContent(html_0adf03ee1658b1d5297b8d2e6c50bae3);\n",
       "            \n",
       "        \n",
       "\n",
       "        marker_4f1749f3e530d1af52a4cd7a90b39fd0.bindPopup(popup_46ea01e9062aef4a81c26dc99b01c273)\n",
       "        ;\n",
       "\n",
       "        \n",
       "    \n",
       "    \n",
       "            marker_4f1749f3e530d1af52a4cd7a90b39fd0.bindTooltip(\n",
       "                `&lt;div&gt;\n",
       "                     校舎「さつき」\n",
       "                 &lt;/div&gt;`,\n",
       "                {&quot;sticky&quot;: true}\n",
       "            );\n",
       "        \n",
       "&lt;/script&gt;\n",
       "&lt;/html&gt;\" style=\"position:absolute;width:100%;height:100%;left:0;top:0;border:none !important;\" allowfullscreen webkitallowfullscreen mozallowfullscreen></iframe></div></div>"
      ],
      "text/plain": [
       "<folium.folium.Map at 0x188a44f90>"
      ]
     },
     "execution_count": 24,
     "metadata": {},
     "output_type": "execute_result"
    }
   ],
   "source": [
    "# make the map\n",
    "m = folium.Map(location=[center_lat,center_lon], \n",
    "               zoom_start=17,\n",
    "               attr = '国土地理院')\n",
    "\n",
    "# add basemaps\n",
    "folium.TileLayer(name='2007年以降',tiles='https://cyberjapandata.gsi.go.jp/xyz/seamlessphoto/{z}/{x}/{y}.jpg',attr='国土地理院').add_to(m)\n",
    "folium.TileLayer(name='1987年～1990年',tiles='https://cyberjapandata.gsi.go.jp/xyz/gazo4/{z}/{x}/{y}.jpg',attr='国土地理院').add_to(m)\n",
    "folium.TileLayer(name='1984年～1986年',tiles='https://cyberjapandata.gsi.go.jp/xyz/gazo3/{z}/{x}/{y}.jpg',attr='国土地理院').add_to(m)\n",
    "folium.TileLayer(name='1979年～1983年',tiles='https://cyberjapandata.gsi.go.jp/xyz/gazo2/{z}/{x}/{y}.jpg',attr='国土地理院').add_to(m)\n",
    "folium.TileLayer(name='1974年～1978年',tiles='https://cyberjapandata.gsi.go.jp/xyz/gazo1/{z}/{x}/{y}.jpg',attr='国土地理院').add_to(m)\n",
    "folium.TileLayer(name='1961年～1969年',tiles='https://cyberjapandata.gsi.go.jp/xyz/ort_old10/{z}/{x}/{y}.png',attr='国土地理院').add_to(m)\n",
    "folium.TileLayer(name='1945年～1950年',tiles='https://cyberjapandata.gsi.go.jp/xyz/ort_USA10/{z}/{x}/{y}.png',attr='国土地理院').add_to(m)\n",
    "\n",
    "# basemapが選べるボタンをマップに足す\n",
    "folium.LayerControl().add_to(m)\n",
    "\n",
    "# add points\n",
    "for index, row in df.iterrows():\n",
    "    latlon = [row['latitude'],row['longitude']]\n",
    "    folium.Marker(latlon, popup='<div style=\"width:150px\">'+row['description']+'</div>', tooltip=row['name'],icon=folium.Icon(color=row['color'])).add_to(m)\n",
    "\n",
    "# show the map\n",
    "m\n",
    "\n"
   ]
  },
  {
   "attachments": {},
   "cell_type": "markdown",
   "metadata": {},
   "source": [
    "このように同じ「場所」を違う視点から観察することができる。これを見て、何を感じますか？"
   ]
  },
  {
   "attachments": {},
   "cell_type": "markdown",
   "metadata": {},
   "source": [
    "# Extra topic: Mapping Earthquakes\n",
    "\n",
    "世界の地震のデータをリアルタイムで提供しているのは United States Geological Survey (USGS)。このデータをcsv fileとしてダウンロードできるが、直接アクセスすることも可能である。この場合、 `csv` ではなく `geojson` というファイルフォーマットを使う。`geojson` はこれからも使うので、とりあえず、ここで紹介！\n",
    "\n",
    "`geojson` を扱うには新しいライブラリー【geopandas】を使う必要がある。\n",
    "\n",
    "[USGSの地震マップ](https://earthquake.usgs.gov/earthquakes/map/?extent=-82.76537,-120.23438&extent=84.9593,298.47656)"
   ]
  },
  {
   "cell_type": "code",
   "execution_count": 25,
   "metadata": {},
   "outputs": [],
   "source": [
    "import geopandas as gpd"
   ]
  },
  {
   "attachments": {},
   "cell_type": "markdown",
   "metadata": {},
   "source": [
    "`geopandas` を使ってUSGSからのリアルタイムデータを読み込む。`gdf` とは `geodataframe` の略である。"
   ]
  },
  {
   "cell_type": "code",
   "execution_count": 26,
   "metadata": {},
   "outputs": [],
   "source": [
    "gdf = gpd.read_file('https://earthquake.usgs.gov/earthquakes/feed/v1.0/summary/2.5_day.geojson')"
   ]
  },
  {
   "cell_type": "code",
   "execution_count": 27,
   "metadata": {},
   "outputs": [
    {
     "data": {
      "text/html": [
       "<div>\n",
       "<style scoped>\n",
       "    .dataframe tbody tr th:only-of-type {\n",
       "        vertical-align: middle;\n",
       "    }\n",
       "\n",
       "    .dataframe tbody tr th {\n",
       "        vertical-align: top;\n",
       "    }\n",
       "\n",
       "    .dataframe thead th {\n",
       "        text-align: right;\n",
       "    }\n",
       "</style>\n",
       "<table border=\"1\" class=\"dataframe\">\n",
       "  <thead>\n",
       "    <tr style=\"text-align: right;\">\n",
       "      <th></th>\n",
       "      <th>id</th>\n",
       "      <th>mag</th>\n",
       "      <th>place</th>\n",
       "      <th>time</th>\n",
       "      <th>updated</th>\n",
       "      <th>tz</th>\n",
       "      <th>url</th>\n",
       "      <th>detail</th>\n",
       "      <th>felt</th>\n",
       "      <th>cdi</th>\n",
       "      <th>...</th>\n",
       "      <th>sources</th>\n",
       "      <th>types</th>\n",
       "      <th>nst</th>\n",
       "      <th>dmin</th>\n",
       "      <th>rms</th>\n",
       "      <th>gap</th>\n",
       "      <th>magType</th>\n",
       "      <th>type</th>\n",
       "      <th>title</th>\n",
       "      <th>geometry</th>\n",
       "    </tr>\n",
       "  </thead>\n",
       "  <tbody>\n",
       "    <tr>\n",
       "      <th>0</th>\n",
       "      <td>us7000lgm4</td>\n",
       "      <td>4.90</td>\n",
       "      <td>33 km E of Aras-asan, Philippines</td>\n",
       "      <td>1701851584438</td>\n",
       "      <td>1701852667040</td>\n",
       "      <td>NaN</td>\n",
       "      <td>https://earthquake.usgs.gov/earthquakes/eventp...</td>\n",
       "      <td>https://earthquake.usgs.gov/earthquakes/feed/v...</td>\n",
       "      <td>NaN</td>\n",
       "      <td>NaN</td>\n",
       "      <td>...</td>\n",
       "      <td>,us,</td>\n",
       "      <td>,origin,phase-data,</td>\n",
       "      <td>60.0</td>\n",
       "      <td>2.02600</td>\n",
       "      <td>0.98</td>\n",
       "      <td>45.0</td>\n",
       "      <td>mb</td>\n",
       "      <td>earthquake</td>\n",
       "      <td>M 4.9 - 33 km E of Aras-asan, Philippines</td>\n",
       "      <td>POINT Z (126.60940 8.83170 59.04200)</td>\n",
       "    </tr>\n",
       "    <tr>\n",
       "      <th>1</th>\n",
       "      <td>tx2023xvxo</td>\n",
       "      <td>2.60</td>\n",
       "      <td>western Texas</td>\n",
       "      <td>1701846315854</td>\n",
       "      <td>1701848992040</td>\n",
       "      <td>NaN</td>\n",
       "      <td>https://earthquake.usgs.gov/earthquakes/eventp...</td>\n",
       "      <td>https://earthquake.usgs.gov/earthquakes/feed/v...</td>\n",
       "      <td>NaN</td>\n",
       "      <td>NaN</td>\n",
       "      <td>...</td>\n",
       "      <td>,us,tx,</td>\n",
       "      <td>,origin,phase-data,</td>\n",
       "      <td>19.0</td>\n",
       "      <td>0.10000</td>\n",
       "      <td>0.40</td>\n",
       "      <td>70.0</td>\n",
       "      <td>ml</td>\n",
       "      <td>earthquake</td>\n",
       "      <td>M 2.6 - western Texas</td>\n",
       "      <td>POINT Z (-104.32700 31.63900 3.88390)</td>\n",
       "    </tr>\n",
       "    <tr>\n",
       "      <th>2</th>\n",
       "      <td>us7000lglr</td>\n",
       "      <td>5.00</td>\n",
       "      <td>61 km N of Claveria, Philippines</td>\n",
       "      <td>1701843553103</td>\n",
       "      <td>1701844580040</td>\n",
       "      <td>NaN</td>\n",
       "      <td>https://earthquake.usgs.gov/earthquakes/eventp...</td>\n",
       "      <td>https://earthquake.usgs.gov/earthquakes/feed/v...</td>\n",
       "      <td>NaN</td>\n",
       "      <td>NaN</td>\n",
       "      <td>...</td>\n",
       "      <td>,us,</td>\n",
       "      <td>,origin,phase-data,</td>\n",
       "      <td>65.0</td>\n",
       "      <td>3.63900</td>\n",
       "      <td>1.33</td>\n",
       "      <td>99.0</td>\n",
       "      <td>mb</td>\n",
       "      <td>earthquake</td>\n",
       "      <td>M 5.0 - 61 km N of Claveria, Philippines</td>\n",
       "      <td>POINT Z (121.03340 19.16050 34.92300)</td>\n",
       "    </tr>\n",
       "    <tr>\n",
       "      <th>3</th>\n",
       "      <td>tx2023xvtb</td>\n",
       "      <td>2.80</td>\n",
       "      <td>western Texas</td>\n",
       "      <td>1701838111274</td>\n",
       "      <td>1701839933175</td>\n",
       "      <td>NaN</td>\n",
       "      <td>https://earthquake.usgs.gov/earthquakes/eventp...</td>\n",
       "      <td>https://earthquake.usgs.gov/earthquakes/feed/v...</td>\n",
       "      <td>NaN</td>\n",
       "      <td>NaN</td>\n",
       "      <td>...</td>\n",
       "      <td>,tx,</td>\n",
       "      <td>,origin,phase-data,</td>\n",
       "      <td>16.0</td>\n",
       "      <td>0.00000</td>\n",
       "      <td>0.20</td>\n",
       "      <td>53.0</td>\n",
       "      <td>ml</td>\n",
       "      <td>earthquake</td>\n",
       "      <td>M 2.8 - western Texas</td>\n",
       "      <td>POINT Z (-104.01800 31.57500 6.48040)</td>\n",
       "    </tr>\n",
       "    <tr>\n",
       "      <th>4</th>\n",
       "      <td>ci40616768</td>\n",
       "      <td>3.67</td>\n",
       "      <td>11 km E of Ocotillo, CA</td>\n",
       "      <td>1701837022170</td>\n",
       "      <td>1701843434616</td>\n",
       "      <td>NaN</td>\n",
       "      <td>https://earthquake.usgs.gov/earthquakes/eventp...</td>\n",
       "      <td>https://earthquake.usgs.gov/earthquakes/feed/v...</td>\n",
       "      <td>13.0</td>\n",
       "      <td>3.4</td>\n",
       "      <td>...</td>\n",
       "      <td>,ci,</td>\n",
       "      <td>,dyfi,focal-mechanism,nearby-cities,origin,pha...</td>\n",
       "      <td>100.0</td>\n",
       "      <td>0.09537</td>\n",
       "      <td>0.29</td>\n",
       "      <td>29.0</td>\n",
       "      <td>mlr</td>\n",
       "      <td>earthquake</td>\n",
       "      <td>M 3.7 - 11 km E of Ocotillo, CA</td>\n",
       "      <td>POINT Z (-115.87933 32.73600 8.53000)</td>\n",
       "    </tr>\n",
       "  </tbody>\n",
       "</table>\n",
       "<p>5 rows × 28 columns</p>\n",
       "</div>"
      ],
      "text/plain": [
       "           id   mag                              place           time  \\\n",
       "0  us7000lgm4  4.90  33 km E of Aras-asan, Philippines  1701851584438   \n",
       "1  tx2023xvxo  2.60                      western Texas  1701846315854   \n",
       "2  us7000lglr  5.00   61 km N of Claveria, Philippines  1701843553103   \n",
       "3  tx2023xvtb  2.80                      western Texas  1701838111274   \n",
       "4  ci40616768  3.67            11 km E of Ocotillo, CA  1701837022170   \n",
       "\n",
       "         updated  tz                                                url  \\\n",
       "0  1701852667040 NaN  https://earthquake.usgs.gov/earthquakes/eventp...   \n",
       "1  1701848992040 NaN  https://earthquake.usgs.gov/earthquakes/eventp...   \n",
       "2  1701844580040 NaN  https://earthquake.usgs.gov/earthquakes/eventp...   \n",
       "3  1701839933175 NaN  https://earthquake.usgs.gov/earthquakes/eventp...   \n",
       "4  1701843434616 NaN  https://earthquake.usgs.gov/earthquakes/eventp...   \n",
       "\n",
       "                                              detail  felt  cdi  ...  sources  \\\n",
       "0  https://earthquake.usgs.gov/earthquakes/feed/v...   NaN  NaN  ...     ,us,   \n",
       "1  https://earthquake.usgs.gov/earthquakes/feed/v...   NaN  NaN  ...  ,us,tx,   \n",
       "2  https://earthquake.usgs.gov/earthquakes/feed/v...   NaN  NaN  ...     ,us,   \n",
       "3  https://earthquake.usgs.gov/earthquakes/feed/v...   NaN  NaN  ...     ,tx,   \n",
       "4  https://earthquake.usgs.gov/earthquakes/feed/v...  13.0  3.4  ...     ,ci,   \n",
       "\n",
       "                                               types    nst     dmin   rms  \\\n",
       "0                                ,origin,phase-data,   60.0  2.02600  0.98   \n",
       "1                                ,origin,phase-data,   19.0  0.10000  0.40   \n",
       "2                                ,origin,phase-data,   65.0  3.63900  1.33   \n",
       "3                                ,origin,phase-data,   16.0  0.00000  0.20   \n",
       "4  ,dyfi,focal-mechanism,nearby-cities,origin,pha...  100.0  0.09537  0.29   \n",
       "\n",
       "    gap magType        type                                      title  \\\n",
       "0  45.0      mb  earthquake  M 4.9 - 33 km E of Aras-asan, Philippines   \n",
       "1  70.0      ml  earthquake                      M 2.6 - western Texas   \n",
       "2  99.0      mb  earthquake   M 5.0 - 61 km N of Claveria, Philippines   \n",
       "3  53.0      ml  earthquake                      M 2.8 - western Texas   \n",
       "4  29.0     mlr  earthquake            M 3.7 - 11 km E of Ocotillo, CA   \n",
       "\n",
       "                                geometry  \n",
       "0   POINT Z (126.60940 8.83170 59.04200)  \n",
       "1  POINT Z (-104.32700 31.63900 3.88390)  \n",
       "2  POINT Z (121.03340 19.16050 34.92300)  \n",
       "3  POINT Z (-104.01800 31.57500 6.48040)  \n",
       "4  POINT Z (-115.87933 32.73600 8.53000)  \n",
       "\n",
       "[5 rows x 28 columns]"
      ]
     },
     "execution_count": 27,
     "metadata": {},
     "output_type": "execute_result"
    }
   ],
   "source": [
    "# use head to output first 5 rows\n",
    "gdf.head()"
   ]
  },
  {
   "cell_type": "code",
   "execution_count": 28,
   "metadata": {},
   "outputs": [
    {
     "data": {
      "text/html": [
       "<div style=\"width:100%;\"><div style=\"position:relative;width:100%;height:0;padding-bottom:60%;\"><span style=\"color:#565656\">Make this Notebook Trusted to load map: File -> Trust Notebook</span><iframe srcdoc=\"&lt;!DOCTYPE html&gt;\n",
       "&lt;html&gt;\n",
       "&lt;head&gt;\n",
       "    \n",
       "    &lt;meta http-equiv=&quot;content-type&quot; content=&quot;text/html; charset=UTF-8&quot; /&gt;\n",
       "    \n",
       "        &lt;script&gt;\n",
       "            L_NO_TOUCH = false;\n",
       "            L_DISABLE_3D = false;\n",
       "        &lt;/script&gt;\n",
       "    \n",
       "    &lt;style&gt;html, body {width: 100%;height: 100%;margin: 0;padding: 0;}&lt;/style&gt;\n",
       "    &lt;style&gt;#map {position:absolute;top:0;bottom:0;right:0;left:0;}&lt;/style&gt;\n",
       "    &lt;script src=&quot;https://cdn.jsdelivr.net/npm/leaflet@1.9.3/dist/leaflet.js&quot;&gt;&lt;/script&gt;\n",
       "    &lt;script src=&quot;https://code.jquery.com/jquery-1.12.4.min.js&quot;&gt;&lt;/script&gt;\n",
       "    &lt;script src=&quot;https://cdn.jsdelivr.net/npm/bootstrap@5.2.2/dist/js/bootstrap.bundle.min.js&quot;&gt;&lt;/script&gt;\n",
       "    &lt;script src=&quot;https://cdnjs.cloudflare.com/ajax/libs/Leaflet.awesome-markers/2.0.2/leaflet.awesome-markers.js&quot;&gt;&lt;/script&gt;\n",
       "    &lt;link rel=&quot;stylesheet&quot; href=&quot;https://cdn.jsdelivr.net/npm/leaflet@1.9.3/dist/leaflet.css&quot;/&gt;\n",
       "    &lt;link rel=&quot;stylesheet&quot; href=&quot;https://cdn.jsdelivr.net/npm/bootstrap@5.2.2/dist/css/bootstrap.min.css&quot;/&gt;\n",
       "    &lt;link rel=&quot;stylesheet&quot; href=&quot;https://netdna.bootstrapcdn.com/bootstrap/3.0.0/css/bootstrap.min.css&quot;/&gt;\n",
       "    &lt;link rel=&quot;stylesheet&quot; href=&quot;https://cdn.jsdelivr.net/npm/@fortawesome/fontawesome-free@6.2.0/css/all.min.css&quot;/&gt;\n",
       "    &lt;link rel=&quot;stylesheet&quot; href=&quot;https://cdnjs.cloudflare.com/ajax/libs/Leaflet.awesome-markers/2.0.2/leaflet.awesome-markers.css&quot;/&gt;\n",
       "    &lt;link rel=&quot;stylesheet&quot; href=&quot;https://cdn.jsdelivr.net/gh/python-visualization/folium/folium/templates/leaflet.awesome.rotate.min.css&quot;/&gt;\n",
       "    \n",
       "            &lt;meta name=&quot;viewport&quot; content=&quot;width=device-width,\n",
       "                initial-scale=1.0, maximum-scale=1.0, user-scalable=no&quot; /&gt;\n",
       "            &lt;style&gt;\n",
       "                #map_48fc5a47f9b36019c4086901b5901921 {\n",
       "                    position: relative;\n",
       "                    width: 100.0%;\n",
       "                    height: 100.0%;\n",
       "                    left: 0.0%;\n",
       "                    top: 0.0%;\n",
       "                }\n",
       "                .leaflet-container { font-size: 1rem; }\n",
       "            &lt;/style&gt;\n",
       "        \n",
       "    \n",
       "                    &lt;style&gt;\n",
       "                        .foliumtooltip {\n",
       "                            \n",
       "                        }\n",
       "                       .foliumtooltip table{\n",
       "                            margin: auto;\n",
       "                        }\n",
       "                        .foliumtooltip tr{\n",
       "                            text-align: left;\n",
       "                        }\n",
       "                        .foliumtooltip th{\n",
       "                            padding: 2px; padding-right: 8px;\n",
       "                        }\n",
       "                    &lt;/style&gt;\n",
       "            \n",
       "&lt;/head&gt;\n",
       "&lt;body&gt;\n",
       "    \n",
       "    \n",
       "            &lt;div class=&quot;folium-map&quot; id=&quot;map_48fc5a47f9b36019c4086901b5901921&quot; &gt;&lt;/div&gt;\n",
       "        \n",
       "&lt;/body&gt;\n",
       "&lt;script&gt;\n",
       "    \n",
       "    \n",
       "            var map_48fc5a47f9b36019c4086901b5901921 = L.map(\n",
       "                &quot;map_48fc5a47f9b36019c4086901b5901921&quot;,\n",
       "                {\n",
       "                    center: [0.0, 0.0],\n",
       "                    crs: L.CRS.EPSG3857,\n",
       "                    zoom: 1,\n",
       "                    zoomControl: true,\n",
       "                    preferCanvas: false,\n",
       "                }\n",
       "            );\n",
       "\n",
       "            \n",
       "\n",
       "        \n",
       "    \n",
       "            var tile_layer_190cdb82550297d2451695fbe1ca975d = L.tileLayer(\n",
       "                &quot;https://server.arcgisonline.com/ArcGIS/rest/services/World_Imagery/MapServer/tile/{z}/{y}/{x}&quot;,\n",
       "                {&quot;attribution&quot;: &quot;ESRI&quot;, &quot;detectRetina&quot;: false, &quot;maxNativeZoom&quot;: 18, &quot;maxZoom&quot;: 18, &quot;minZoom&quot;: 0, &quot;noWrap&quot;: false, &quot;opacity&quot;: 1, &quot;subdomains&quot;: &quot;abc&quot;, &quot;tms&quot;: false}\n",
       "            ).addTo(map_48fc5a47f9b36019c4086901b5901921);\n",
       "        \n",
       "    \n",
       "\n",
       "        function geo_json_56678175afdec1a2a0b57c7c81567bd2_onEachFeature(feature, layer) {\n",
       "            layer.on({\n",
       "            });\n",
       "        };\n",
       "        var geo_json_56678175afdec1a2a0b57c7c81567bd2 = L.geoJson(null, {\n",
       "                onEachFeature: geo_json_56678175afdec1a2a0b57c7c81567bd2_onEachFeature,\n",
       "            \n",
       "        });\n",
       "\n",
       "        function geo_json_56678175afdec1a2a0b57c7c81567bd2_add (data) {\n",
       "            geo_json_56678175afdec1a2a0b57c7c81567bd2\n",
       "                .addData(data)\n",
       "                .addTo(map_48fc5a47f9b36019c4086901b5901921);\n",
       "        }\n",
       "            geo_json_56678175afdec1a2a0b57c7c81567bd2_add({&quot;bbox&quot;: [-173.0775, -44.2451, 128.2563, 62.1494], &quot;features&quot;: [{&quot;bbox&quot;: [126.6094, 8.8317, 126.6094, 8.8317], &quot;geometry&quot;: {&quot;coordinates&quot;: [126.6094, 8.8317, 59.042], &quot;type&quot;: &quot;Point&quot;}, &quot;id&quot;: &quot;0&quot;, &quot;properties&quot;: {&quot;alert&quot;: null, &quot;cdi&quot;: null, &quot;code&quot;: &quot;7000lgm4&quot;, &quot;detail&quot;: &quot;https://earthquake.usgs.gov/earthquakes/feed/v1.0/detail/us7000lgm4.geojson&quot;, &quot;dmin&quot;: 2.026, &quot;felt&quot;: null, &quot;gap&quot;: 45.0, &quot;id&quot;: &quot;us7000lgm4&quot;, &quot;ids&quot;: &quot;,us7000lgm4,&quot;, &quot;mag&quot;: 4.9, &quot;magType&quot;: &quot;mb&quot;, &quot;mmi&quot;: null, &quot;net&quot;: &quot;us&quot;, &quot;nst&quot;: 60.0, &quot;place&quot;: &quot;33 km E of Aras-asan, Philippines&quot;, &quot;rms&quot;: 0.98, &quot;sig&quot;: 369, &quot;sources&quot;: &quot;,us,&quot;, &quot;status&quot;: &quot;reviewed&quot;, &quot;time&quot;: 1701851584438, &quot;title&quot;: &quot;M 4.9 - 33 km E of Aras-asan, Philippines&quot;, &quot;tsunami&quot;: 0, &quot;type&quot;: &quot;earthquake&quot;, &quot;types&quot;: &quot;,origin,phase-data,&quot;, &quot;tz&quot;: null, &quot;updated&quot;: 1701852667040, &quot;url&quot;: &quot;https://earthquake.usgs.gov/earthquakes/eventpage/us7000lgm4&quot;}, &quot;type&quot;: &quot;Feature&quot;}, {&quot;bbox&quot;: [-104.327, 31.639, -104.327, 31.639], &quot;geometry&quot;: {&quot;coordinates&quot;: [-104.327, 31.639, 3.8839], &quot;type&quot;: &quot;Point&quot;}, &quot;id&quot;: &quot;1&quot;, &quot;properties&quot;: {&quot;alert&quot;: null, &quot;cdi&quot;: null, &quot;code&quot;: &quot;2023xvxo&quot;, &quot;detail&quot;: &quot;https://earthquake.usgs.gov/earthquakes/feed/v1.0/detail/tx2023xvxo.geojson&quot;, &quot;dmin&quot;: 0.1, &quot;felt&quot;: null, &quot;gap&quot;: 70.0, &quot;id&quot;: &quot;tx2023xvxo&quot;, &quot;ids&quot;: &quot;,us7000lglt,tx2023xvxo,&quot;, &quot;mag&quot;: 2.6, &quot;magType&quot;: &quot;ml&quot;, &quot;mmi&quot;: null, &quot;net&quot;: &quot;tx&quot;, &quot;nst&quot;: 19.0, &quot;place&quot;: &quot;western Texas&quot;, &quot;rms&quot;: 0.4, &quot;sig&quot;: 104, &quot;sources&quot;: &quot;,us,tx,&quot;, &quot;status&quot;: &quot;automatic&quot;, &quot;time&quot;: 1701846315854, &quot;title&quot;: &quot;M 2.6 - western Texas&quot;, &quot;tsunami&quot;: 0, &quot;type&quot;: &quot;earthquake&quot;, &quot;types&quot;: &quot;,origin,phase-data,&quot;, &quot;tz&quot;: null, &quot;updated&quot;: 1701848992040, &quot;url&quot;: &quot;https://earthquake.usgs.gov/earthquakes/eventpage/tx2023xvxo&quot;}, &quot;type&quot;: &quot;Feature&quot;}, {&quot;bbox&quot;: [121.0334, 19.1605, 121.0334, 19.1605], &quot;geometry&quot;: {&quot;coordinates&quot;: [121.0334, 19.1605, 34.923], &quot;type&quot;: &quot;Point&quot;}, &quot;id&quot;: &quot;2&quot;, &quot;properties&quot;: {&quot;alert&quot;: null, &quot;cdi&quot;: null, &quot;code&quot;: &quot;7000lglr&quot;, &quot;detail&quot;: &quot;https://earthquake.usgs.gov/earthquakes/feed/v1.0/detail/us7000lglr.geojson&quot;, &quot;dmin&quot;: 3.639, &quot;felt&quot;: null, &quot;gap&quot;: 99.0, &quot;id&quot;: &quot;us7000lglr&quot;, &quot;ids&quot;: &quot;,us7000lglr,&quot;, &quot;mag&quot;: 5.0, &quot;magType&quot;: &quot;mb&quot;, &quot;mmi&quot;: null, &quot;net&quot;: &quot;us&quot;, &quot;nst&quot;: 65.0, &quot;place&quot;: &quot;61 km N of Claveria, Philippines&quot;, &quot;rms&quot;: 1.33, &quot;sig&quot;: 385, &quot;sources&quot;: &quot;,us,&quot;, &quot;status&quot;: &quot;reviewed&quot;, &quot;time&quot;: 1701843553103, &quot;title&quot;: &quot;M 5.0 - 61 km N of Claveria, Philippines&quot;, &quot;tsunami&quot;: 0, &quot;type&quot;: &quot;earthquake&quot;, &quot;types&quot;: &quot;,origin,phase-data,&quot;, &quot;tz&quot;: null, &quot;updated&quot;: 1701844580040, &quot;url&quot;: &quot;https://earthquake.usgs.gov/earthquakes/eventpage/us7000lglr&quot;}, &quot;type&quot;: &quot;Feature&quot;}, {&quot;bbox&quot;: [-104.018, 31.575, -104.018, 31.575], &quot;geometry&quot;: {&quot;coordinates&quot;: [-104.018, 31.575, 6.4804], &quot;type&quot;: &quot;Point&quot;}, &quot;id&quot;: &quot;3&quot;, &quot;properties&quot;: {&quot;alert&quot;: null, &quot;cdi&quot;: null, &quot;code&quot;: &quot;2023xvtb&quot;, &quot;detail&quot;: &quot;https://earthquake.usgs.gov/earthquakes/feed/v1.0/detail/tx2023xvtb.geojson&quot;, &quot;dmin&quot;: 0.0, &quot;felt&quot;: null, &quot;gap&quot;: 53.0, &quot;id&quot;: &quot;tx2023xvtb&quot;, &quot;ids&quot;: &quot;,tx2023xvtb,&quot;, &quot;mag&quot;: 2.8, &quot;magType&quot;: &quot;ml&quot;, &quot;mmi&quot;: null, &quot;net&quot;: &quot;tx&quot;, &quot;nst&quot;: 16.0, &quot;place&quot;: &quot;western Texas&quot;, &quot;rms&quot;: 0.2, &quot;sig&quot;: 121, &quot;sources&quot;: &quot;,tx,&quot;, &quot;status&quot;: &quot;automatic&quot;, &quot;time&quot;: 1701838111274, &quot;title&quot;: &quot;M 2.8 - western Texas&quot;, &quot;tsunami&quot;: 0, &quot;type&quot;: &quot;earthquake&quot;, &quot;types&quot;: &quot;,origin,phase-data,&quot;, &quot;tz&quot;: null, &quot;updated&quot;: 1701839933175, &quot;url&quot;: &quot;https://earthquake.usgs.gov/earthquakes/eventpage/tx2023xvtb&quot;}, &quot;type&quot;: &quot;Feature&quot;}, {&quot;bbox&quot;: [-115.8793335, 32.7360001, -115.8793335, 32.7360001], &quot;geometry&quot;: {&quot;coordinates&quot;: [-115.8793335, 32.7360001, 8.53], &quot;type&quot;: &quot;Point&quot;}, &quot;id&quot;: &quot;4&quot;, &quot;properties&quot;: {&quot;alert&quot;: null, &quot;cdi&quot;: 3.4, &quot;code&quot;: &quot;40616768&quot;, &quot;detail&quot;: &quot;https://earthquake.usgs.gov/earthquakes/feed/v1.0/detail/ci40616768.geojson&quot;, &quot;dmin&quot;: 0.09537, &quot;felt&quot;: 13.0, &quot;gap&quot;: 29.0, &quot;id&quot;: &quot;ci40616768&quot;, &quot;ids&quot;: &quot;,ci40616768,&quot;, &quot;mag&quot;: 3.67, &quot;magType&quot;: &quot;mlr&quot;, &quot;mmi&quot;: 4.0, &quot;net&quot;: &quot;ci&quot;, &quot;nst&quot;: 100.0, &quot;place&quot;: &quot;11 km E of Ocotillo, CA&quot;, &quot;rms&quot;: 0.29, &quot;sig&quot;: 212, &quot;sources&quot;: &quot;,ci,&quot;, &quot;status&quot;: &quot;reviewed&quot;, &quot;time&quot;: 1701837022170, &quot;title&quot;: &quot;M 3.7 - 11 km E of Ocotillo, CA&quot;, &quot;tsunami&quot;: 0, &quot;type&quot;: &quot;earthquake&quot;, &quot;types&quot;: &quot;,dyfi,focal-mechanism,nearby-cities,origin,phase-data,scitech-link,shakemap,&quot;, &quot;tz&quot;: null, &quot;updated&quot;: 1701843434616, &quot;url&quot;: &quot;https://earthquake.usgs.gov/earthquakes/eventpage/ci40616768&quot;}, &quot;type&quot;: &quot;Feature&quot;}, {&quot;bbox&quot;: [-115.8769989, 32.7378349, -115.8769989, 32.7378349], &quot;geometry&quot;: {&quot;coordinates&quot;: [-115.8769989, 32.7378349, 6.93], &quot;type&quot;: &quot;Point&quot;}, &quot;id&quot;: &quot;5&quot;, &quot;properties&quot;: {&quot;alert&quot;: null, &quot;cdi&quot;: 2.7, &quot;code&quot;: &quot;40616744&quot;, &quot;detail&quot;: &quot;https://earthquake.usgs.gov/earthquakes/feed/v1.0/detail/ci40616744.geojson&quot;, &quot;dmin&quot;: 0.09782, &quot;felt&quot;: 4.0, &quot;gap&quot;: 28.0, &quot;id&quot;: &quot;ci40616744&quot;, &quot;ids&quot;: &quot;,ci40616744,&quot;, &quot;mag&quot;: 3.48, &quot;magType&quot;: &quot;ml&quot;, &quot;mmi&quot;: 3.625, &quot;net&quot;: &quot;ci&quot;, &quot;nst&quot;: 98.0, &quot;place&quot;: &quot;11 km E of Ocotillo, CA&quot;, &quot;rms&quot;: 0.27, &quot;sig&quot;: 187, &quot;sources&quot;: &quot;,ci,&quot;, &quot;status&quot;: &quot;reviewed&quot;, &quot;time&quot;: 1701835911420, &quot;title&quot;: &quot;M 3.5 - 11 km E of Ocotillo, CA&quot;, &quot;tsunami&quot;: 0, &quot;type&quot;: &quot;earthquake&quot;, &quot;types&quot;: &quot;,dyfi,focal-mechanism,nearby-cities,origin,phase-data,scitech-link,shakemap,&quot;, &quot;tz&quot;: null, &quot;updated&quot;: 1701843249554, &quot;url&quot;: &quot;https://earthquake.usgs.gov/earthquakes/eventpage/ci40616744&quot;}, &quot;type&quot;: &quot;Feature&quot;}, {&quot;bbox&quot;: [123.1931, 21.5106, 123.1931, 21.5106], &quot;geometry&quot;: {&quot;coordinates&quot;: [123.1931, 21.5106, 20.402], &quot;type&quot;: &quot;Point&quot;}, &quot;id&quot;: &quot;6&quot;, &quot;properties&quot;: {&quot;alert&quot;: null, &quot;cdi&quot;: null, &quot;code&quot;: &quot;7000lgl9&quot;, &quot;detail&quot;: &quot;https://earthquake.usgs.gov/earthquakes/feed/v1.0/detail/us7000lgl9.geojson&quot;, &quot;dmin&quot;: 2.351, &quot;felt&quot;: null, &quot;gap&quot;: 117.0, &quot;id&quot;: &quot;us7000lgl9&quot;, &quot;ids&quot;: &quot;,us7000lgl9,&quot;, &quot;mag&quot;: 4.6, &quot;magType&quot;: &quot;mb&quot;, &quot;mmi&quot;: null, &quot;net&quot;: &quot;us&quot;, &quot;nst&quot;: 19.0, &quot;place&quot;: &quot;173 km NE of Basco, Philippines&quot;, &quot;rms&quot;: 0.98, &quot;sig&quot;: 326, &quot;sources&quot;: &quot;,us,&quot;, &quot;status&quot;: &quot;reviewed&quot;, &quot;time&quot;: 1701835642686, &quot;title&quot;: &quot;M 4.6 - 173 km NE of Basco, Philippines&quot;, &quot;tsunami&quot;: 0, &quot;type&quot;: &quot;earthquake&quot;, &quot;types&quot;: &quot;,origin,phase-data,&quot;, &quot;tz&quot;: null, &quot;updated&quot;: 1701836679040, &quot;url&quot;: &quot;https://earthquake.usgs.gov/earthquakes/eventpage/us7000lgl9&quot;}, &quot;type&quot;: &quot;Feature&quot;}, {&quot;bbox&quot;: [126.5931, 9.2241, 126.5931, 9.2241], &quot;geometry&quot;: {&quot;coordinates&quot;: [126.5931, 9.2241, 64.919], &quot;type&quot;: &quot;Point&quot;}, &quot;id&quot;: &quot;7&quot;, &quot;properties&quot;: {&quot;alert&quot;: null, &quot;cdi&quot;: null, &quot;code&quot;: &quot;7000lgld&quot;, &quot;detail&quot;: &quot;https://earthquake.usgs.gov/earthquakes/feed/v1.0/detail/us7000lgld.geojson&quot;, &quot;dmin&quot;: 2.364, &quot;felt&quot;: null, &quot;gap&quot;: 132.0, &quot;id&quot;: &quot;us7000lgld&quot;, &quot;ids&quot;: &quot;,us7000lgld,&quot;, &quot;mag&quot;: 4.6, &quot;magType&quot;: &quot;mb&quot;, &quot;mmi&quot;: null, &quot;net&quot;: &quot;us&quot;, &quot;nst&quot;: 31.0, &quot;place&quot;: &quot;44 km E of Cortes, Philippines&quot;, &quot;rms&quot;: 0.67, &quot;sig&quot;: 326, &quot;sources&quot;: &quot;,us,&quot;, &quot;status&quot;: &quot;reviewed&quot;, &quot;time&quot;: 1701835219918, &quot;title&quot;: &quot;M 4.6 - 44 km E of Cortes, Philippines&quot;, &quot;tsunami&quot;: 0, &quot;type&quot;: &quot;earthquake&quot;, &quot;types&quot;: &quot;,origin,phase-data,&quot;, &quot;tz&quot;: null, &quot;updated&quot;: 1701837792040, &quot;url&quot;: &quot;https://earthquake.usgs.gov/earthquakes/eventpage/us7000lgld&quot;}, &quot;type&quot;: &quot;Feature&quot;}, {&quot;bbox&quot;: [-152.9902, 60.2742, -152.9902, 60.2742], &quot;geometry&quot;: {&quot;coordinates&quot;: [-152.9902, 60.2742, 124.2], &quot;type&quot;: &quot;Point&quot;}, &quot;id&quot;: &quot;8&quot;, &quot;properties&quot;: {&quot;alert&quot;: null, &quot;cdi&quot;: null, &quot;code&quot;: &quot;023fmcmguu&quot;, &quot;detail&quot;: &quot;https://earthquake.usgs.gov/earthquakes/feed/v1.0/detail/ak023fmcmguu.geojson&quot;, &quot;dmin&quot;: null, &quot;felt&quot;: null, &quot;gap&quot;: null, &quot;id&quot;: &quot;ak023fmcmguu&quot;, &quot;ids&quot;: &quot;,ak023fmcmguu,&quot;, &quot;mag&quot;: 2.7, &quot;magType&quot;: &quot;ml&quot;, &quot;mmi&quot;: null, &quot;net&quot;: &quot;ak&quot;, &quot;nst&quot;: null, &quot;place&quot;: &quot;Southern Alaska&quot;, &quot;rms&quot;: 0.59, &quot;sig&quot;: 112, &quot;sources&quot;: &quot;,ak,&quot;, &quot;status&quot;: &quot;automatic&quot;, &quot;time&quot;: 1701832786250, &quot;title&quot;: &quot;M 2.7 - Southern Alaska&quot;, &quot;tsunami&quot;: 0, &quot;type&quot;: &quot;earthquake&quot;, &quot;types&quot;: &quot;,origin,phase-data,&quot;, &quot;tz&quot;: null, &quot;updated&quot;: 1701832933755, &quot;url&quot;: &quot;https://earthquake.usgs.gov/earthquakes/eventpage/ak023fmcmguu&quot;}, &quot;type&quot;: &quot;Feature&quot;}, {&quot;bbox&quot;: [-154.4871, 58.5437, -154.4871, 58.5437], &quot;geometry&quot;: {&quot;coordinates&quot;: [-154.4871, 58.5437, 0.0], &quot;type&quot;: &quot;Point&quot;}, &quot;id&quot;: &quot;9&quot;, &quot;properties&quot;: {&quot;alert&quot;: null, &quot;cdi&quot;: null, &quot;code&quot;: &quot;023fmcjwt3&quot;, &quot;detail&quot;: &quot;https://earthquake.usgs.gov/earthquakes/feed/v1.0/detail/ak023fmcjwt3.geojson&quot;, &quot;dmin&quot;: null, &quot;felt&quot;: null, &quot;gap&quot;: null, &quot;id&quot;: &quot;ak023fmcjwt3&quot;, &quot;ids&quot;: &quot;,ak023fmcjwt3,&quot;, &quot;mag&quot;: 3.7, &quot;magType&quot;: &quot;ml&quot;, &quot;mmi&quot;: 4.613, &quot;net&quot;: &quot;ak&quot;, &quot;nst&quot;: null, &quot;place&quot;: &quot;101 km S of Kokhanok, Alaska&quot;, &quot;rms&quot;: 0.54, &quot;sig&quot;: 211, &quot;sources&quot;: &quot;,ak,&quot;, &quot;status&quot;: &quot;automatic&quot;, &quot;time&quot;: 1701832076427, &quot;title&quot;: &quot;M 3.7 - 101 km S of Kokhanok, Alaska&quot;, &quot;tsunami&quot;: 0, &quot;type&quot;: &quot;earthquake&quot;, &quot;types&quot;: &quot;,origin,phase-data,shakemap,&quot;, &quot;tz&quot;: null, &quot;updated&quot;: 1701832545497, &quot;url&quot;: &quot;https://earthquake.usgs.gov/earthquakes/eventpage/ak023fmcjwt3&quot;}, &quot;type&quot;: &quot;Feature&quot;}, {&quot;bbox&quot;: [-78.3928, -44.2451, -78.3928, -44.2451], &quot;geometry&quot;: {&quot;coordinates&quot;: [-78.3928, -44.2451, 10.0], &quot;type&quot;: &quot;Point&quot;}, &quot;id&quot;: &quot;10&quot;, &quot;properties&quot;: {&quot;alert&quot;: null, &quot;cdi&quot;: null, &quot;code&quot;: &quot;7000lgkn&quot;, &quot;detail&quot;: &quot;https://earthquake.usgs.gov/earthquakes/feed/v1.0/detail/us7000lgkn.geojson&quot;, &quot;dmin&quot;: 3.596, &quot;felt&quot;: null, &quot;gap&quot;: 151.0, &quot;id&quot;: &quot;us7000lgkn&quot;, &quot;ids&quot;: &quot;,us7000lgkn,&quot;, &quot;mag&quot;: 5.0, &quot;magType&quot;: &quot;mb&quot;, &quot;mmi&quot;: null, &quot;net&quot;: &quot;us&quot;, &quot;nst&quot;: 31.0, &quot;place&quot;: &quot;Off the coast of Aisen, Chile&quot;, &quot;rms&quot;: 0.83, &quot;sig&quot;: 385, &quot;sources&quot;: &quot;,us,&quot;, &quot;status&quot;: &quot;reviewed&quot;, &quot;time&quot;: 1701827924948, &quot;title&quot;: &quot;M 5.0 - Off the coast of Aisen, Chile&quot;, &quot;tsunami&quot;: 0, &quot;type&quot;: &quot;earthquake&quot;, &quot;types&quot;: &quot;,origin,phase-data,&quot;, &quot;tz&quot;: null, &quot;updated&quot;: 1701829068040, &quot;url&quot;: &quot;https://earthquake.usgs.gov/earthquakes/eventpage/us7000lgkn&quot;}, &quot;type&quot;: &quot;Feature&quot;}, {&quot;bbox&quot;: [126.5437, 8.6672, 126.5437, 8.6672], &quot;geometry&quot;: {&quot;coordinates&quot;: [126.5437, 8.6672, 44.127], &quot;type&quot;: &quot;Point&quot;}, &quot;id&quot;: &quot;11&quot;, &quot;properties&quot;: {&quot;alert&quot;: null, &quot;cdi&quot;: 2.9, &quot;code&quot;: &quot;7000lgkp&quot;, &quot;detail&quot;: &quot;https://earthquake.usgs.gov/earthquakes/feed/v1.0/detail/us7000lgkp.geojson&quot;, &quot;dmin&quot;: 1.853, &quot;felt&quot;: 1.0, &quot;gap&quot;: 90.0, &quot;id&quot;: &quot;us7000lgkp&quot;, &quot;ids&quot;: &quot;,us7000lgkp,&quot;, &quot;mag&quot;: 5.3, &quot;magType&quot;: &quot;mb&quot;, &quot;mmi&quot;: null, &quot;net&quot;: &quot;us&quot;, &quot;nst&quot;: 82.0, &quot;place&quot;: &quot;31 km ESE of Marihatag, Philippines&quot;, &quot;rms&quot;: 1.03, &quot;sig&quot;: 432, &quot;sources&quot;: &quot;,us,&quot;, &quot;status&quot;: &quot;reviewed&quot;, &quot;time&quot;: 1701827758429, &quot;title&quot;: &quot;M 5.3 - 31 km ESE of Marihatag, Philippines&quot;, &quot;tsunami&quot;: 0, &quot;type&quot;: &quot;earthquake&quot;, &quot;types&quot;: &quot;,dyfi,origin,phase-data,&quot;, &quot;tz&quot;: null, &quot;updated&quot;: 1701834134848, &quot;url&quot;: &quot;https://earthquake.usgs.gov/earthquakes/eventpage/us7000lgkp&quot;}, &quot;type&quot;: &quot;Feature&quot;}, {&quot;bbox&quot;: [-66.4223333333333, 18.9091666666667, -66.4223333333333, 18.9091666666667], &quot;geometry&quot;: {&quot;coordinates&quot;: [-66.4223333333333, 18.9091666666667, 14.75], &quot;type&quot;: &quot;Point&quot;}, &quot;id&quot;: &quot;12&quot;, &quot;properties&quot;: {&quot;alert&quot;: null, &quot;cdi&quot;: null, &quot;code&quot;: &quot;71433273&quot;, &quot;detail&quot;: &quot;https://earthquake.usgs.gov/earthquakes/feed/v1.0/detail/pr71433273.geojson&quot;, &quot;dmin&quot;: 0.59, &quot;felt&quot;: null, &quot;gap&quot;: 283.0, &quot;id&quot;: &quot;pr71433273&quot;, &quot;ids&quot;: &quot;,pr71433273,&quot;, &quot;mag&quot;: 3.04, &quot;magType&quot;: &quot;md&quot;, &quot;mmi&quot;: null, &quot;net&quot;: &quot;pr&quot;, &quot;nst&quot;: 10.0, &quot;place&quot;: &quot;49 km N of Brenas, Puerto Rico&quot;, &quot;rms&quot;: 0.22, &quot;sig&quot;: 142, &quot;sources&quot;: &quot;,pr,&quot;, &quot;status&quot;: &quot;reviewed&quot;, &quot;time&quot;: 1701827668170, &quot;title&quot;: &quot;M 3.0 - 49 km N of Brenas, Puerto Rico&quot;, &quot;tsunami&quot;: 0, &quot;type&quot;: &quot;earthquake&quot;, &quot;types&quot;: &quot;,origin,phase-data,&quot;, &quot;tz&quot;: null, &quot;updated&quot;: 1701828976610, &quot;url&quot;: &quot;https://earthquake.usgs.gov/earthquakes/eventpage/pr71433273&quot;}, &quot;type&quot;: &quot;Feature&quot;}, {&quot;bbox&quot;: [-150.3856, 61.6137, -150.3856, 61.6137], &quot;geometry&quot;: {&quot;coordinates&quot;: [-150.3856, 61.6137, 55.0], &quot;type&quot;: &quot;Point&quot;}, &quot;id&quot;: &quot;13&quot;, &quot;properties&quot;: {&quot;alert&quot;: null, &quot;cdi&quot;: null, &quot;code&quot;: &quot;023fmbj05o&quot;, &quot;detail&quot;: &quot;https://earthquake.usgs.gov/earthquakes/feed/v1.0/detail/ak023fmbj05o.geojson&quot;, &quot;dmin&quot;: null, &quot;felt&quot;: null, &quot;gap&quot;: null, &quot;id&quot;: &quot;ak023fmbj05o&quot;, &quot;ids&quot;: &quot;,ak023fmbj05o,&quot;, &quot;mag&quot;: 2.6, &quot;magType&quot;: &quot;ml&quot;, &quot;mmi&quot;: null, &quot;net&quot;: &quot;ak&quot;, &quot;nst&quot;: null, &quot;place&quot;: &quot;10 km NE of Susitna, Alaska&quot;, &quot;rms&quot;: 0.16, &quot;sig&quot;: 104, &quot;sources&quot;: &quot;,ak,&quot;, &quot;status&quot;: &quot;automatic&quot;, &quot;time&quot;: 1701826533566, &quot;title&quot;: &quot;M 2.6 - 10 km NE of Susitna, Alaska&quot;, &quot;tsunami&quot;: 0, &quot;type&quot;: &quot;earthquake&quot;, &quot;types&quot;: &quot;,origin,phase-data,&quot;, &quot;tz&quot;: null, &quot;updated&quot;: 1701826618715, &quot;url&quot;: &quot;https://earthquake.usgs.gov/earthquakes/eventpage/ak023fmbj05o&quot;}, &quot;type&quot;: &quot;Feature&quot;}, {&quot;bbox&quot;: [-152.3766, 61.0578, -152.3766, 61.0578], &quot;geometry&quot;: {&quot;coordinates&quot;: [-152.3766, 61.0578, 99.0], &quot;type&quot;: &quot;Point&quot;}, &quot;id&quot;: &quot;14&quot;, &quot;properties&quot;: {&quot;alert&quot;: null, &quot;cdi&quot;: null, &quot;code&quot;: &quot;023fmbibk7&quot;, &quot;detail&quot;: &quot;https://earthquake.usgs.gov/earthquakes/feed/v1.0/detail/ak023fmbibk7.geojson&quot;, &quot;dmin&quot;: null, &quot;felt&quot;: null, &quot;gap&quot;: null, &quot;id&quot;: &quot;ak023fmbibk7&quot;, &quot;ids&quot;: &quot;,ak023fmbibk7,&quot;, &quot;mag&quot;: 2.6, &quot;magType&quot;: &quot;ml&quot;, &quot;mmi&quot;: null, &quot;net&quot;: &quot;ak&quot;, &quot;nst&quot;: null, &quot;place&quot;: &quot;Southern Alaska&quot;, &quot;rms&quot;: 0.8, &quot;sig&quot;: 104, &quot;sources&quot;: &quot;,ak,&quot;, &quot;status&quot;: &quot;automatic&quot;, &quot;time&quot;: 1701826334798, &quot;title&quot;: &quot;M 2.6 - Southern Alaska&quot;, &quot;tsunami&quot;: 0, &quot;type&quot;: &quot;earthquake&quot;, &quot;types&quot;: &quot;,origin,phase-data,&quot;, &quot;tz&quot;: null, &quot;updated&quot;: 1701826483890, &quot;url&quot;: &quot;https://earthquake.usgs.gov/earthquakes/eventpage/ak023fmbibk7&quot;}, &quot;type&quot;: &quot;Feature&quot;}, {&quot;bbox&quot;: [-104.208, 31.669, -104.208, 31.669], &quot;geometry&quot;: {&quot;coordinates&quot;: [-104.208, 31.669, 7.2884], &quot;type&quot;: &quot;Point&quot;}, &quot;id&quot;: &quot;15&quot;, &quot;properties&quot;: {&quot;alert&quot;: null, &quot;cdi&quot;: null, &quot;code&quot;: &quot;2023xvma&quot;, &quot;detail&quot;: &quot;https://earthquake.usgs.gov/earthquakes/feed/v1.0/detail/tx2023xvma.geojson&quot;, &quot;dmin&quot;: 0.0, &quot;felt&quot;: null, &quot;gap&quot;: 82.0, &quot;id&quot;: &quot;tx2023xvma&quot;, &quot;ids&quot;: &quot;,us7000lgkc,tx2023xvma,&quot;, &quot;mag&quot;: 2.9, &quot;magType&quot;: &quot;ml&quot;, &quot;mmi&quot;: null, &quot;net&quot;: &quot;tx&quot;, &quot;nst&quot;: 12.0, &quot;place&quot;: &quot;55 km NW of Toyah, Texas&quot;, &quot;rms&quot;: 0.5, &quot;sig&quot;: 129, &quot;sources&quot;: &quot;,us,tx,&quot;, &quot;status&quot;: &quot;reviewed&quot;, &quot;time&quot;: 1701825273849, &quot;title&quot;: &quot;M 2.9 - 55 km NW of Toyah, Texas&quot;, &quot;tsunami&quot;: 0, &quot;type&quot;: &quot;earthquake&quot;, &quot;types&quot;: &quot;,origin,phase-data,&quot;, &quot;tz&quot;: null, &quot;updated&quot;: 1701826008040, &quot;url&quot;: &quot;https://earthquake.usgs.gov/earthquakes/eventpage/tx2023xvma&quot;}, &quot;type&quot;: &quot;Feature&quot;}, {&quot;bbox&quot;: [-67.2538333333333, 18.305, -67.2538333333333, 18.305], &quot;geometry&quot;: {&quot;coordinates&quot;: [-67.2538333333333, 18.305, 108.34], &quot;type&quot;: &quot;Point&quot;}, &quot;id&quot;: &quot;16&quot;, &quot;properties&quot;: {&quot;alert&quot;: null, &quot;cdi&quot;: null, &quot;code&quot;: &quot;71433263&quot;, &quot;detail&quot;: &quot;https://earthquake.usgs.gov/earthquakes/feed/v1.0/detail/pr71433263.geojson&quot;, &quot;dmin&quot;: 0.205, &quot;felt&quot;: null, &quot;gap&quot;: 156.0, &quot;id&quot;: &quot;pr71433263&quot;, &quot;ids&quot;: &quot;,pr71433263,&quot;, &quot;mag&quot;: 3.23, &quot;magType&quot;: &quot;md&quot;, &quot;mmi&quot;: null, &quot;net&quot;: &quot;pr&quot;, &quot;nst&quot;: 10.0, &quot;place&quot;: &quot;Mona Passage, Puerto Rico&quot;, &quot;rms&quot;: 0.19, &quot;sig&quot;: 161, &quot;sources&quot;: &quot;,pr,&quot;, &quot;status&quot;: &quot;reviewed&quot;, &quot;time&quot;: 1701820413720, &quot;title&quot;: &quot;M 3.2 - Mona Passage, Puerto Rico&quot;, &quot;tsunami&quot;: 0, &quot;type&quot;: &quot;earthquake&quot;, &quot;types&quot;: &quot;,origin,phase-data,&quot;, &quot;tz&quot;: null, &quot;updated&quot;: 1701821694340, &quot;url&quot;: &quot;https://earthquake.usgs.gov/earthquakes/eventpage/pr71433263&quot;}, &quot;type&quot;: &quot;Feature&quot;}, {&quot;bbox&quot;: [-115.4228333, 32.741, -115.4228333, 32.741], &quot;geometry&quot;: {&quot;coordinates&quot;: [-115.4228333, 32.741, 12.12], &quot;type&quot;: &quot;Point&quot;}, &quot;id&quot;: &quot;17&quot;, &quot;properties&quot;: {&quot;alert&quot;: null, &quot;cdi&quot;: 4.3, &quot;code&quot;: &quot;40616600&quot;, &quot;detail&quot;: &quot;https://earthquake.usgs.gov/earthquakes/feed/v1.0/detail/ci40616600.geojson&quot;, &quot;dmin&quot;: 0.06724, &quot;felt&quot;: 5.0, &quot;gap&quot;: 72.0, &quot;id&quot;: &quot;ci40616600&quot;, &quot;ids&quot;: &quot;,ci40616600,&quot;, &quot;mag&quot;: 2.47, &quot;magType&quot;: &quot;ml&quot;, &quot;mmi&quot;: null, &quot;net&quot;: &quot;ci&quot;, &quot;nst&quot;: 37.0, &quot;place&quot;: &quot;9 km SSW of Holtville, CA&quot;, &quot;rms&quot;: 0.26, &quot;sig&quot;: 96, &quot;sources&quot;: &quot;,ci,&quot;, &quot;status&quot;: &quot;automatic&quot;, &quot;time&quot;: 1701820217410, &quot;title&quot;: &quot;M 2.5 - 9 km SSW of Holtville, CA&quot;, &quot;tsunami&quot;: 0, &quot;type&quot;: &quot;earthquake&quot;, &quot;types&quot;: &quot;,dyfi,nearby-cities,origin,phase-data,scitech-link,&quot;, &quot;tz&quot;: null, &quot;updated&quot;: 1701841568954, &quot;url&quot;: &quot;https://earthquake.usgs.gov/earthquakes/eventpage/ci40616600&quot;}, &quot;type&quot;: &quot;Feature&quot;}, {&quot;bbox&quot;: [126.5585, 8.6346, 126.5585, 8.6346], &quot;geometry&quot;: {&quot;coordinates&quot;: [126.5585, 8.6346, 79.298], &quot;type&quot;: &quot;Point&quot;}, &quot;id&quot;: &quot;18&quot;, &quot;properties&quot;: {&quot;alert&quot;: null, &quot;cdi&quot;: null, &quot;code&quot;: &quot;7000lgjx&quot;, &quot;detail&quot;: &quot;https://earthquake.usgs.gov/earthquakes/feed/v1.0/detail/us7000lgjx.geojson&quot;, &quot;dmin&quot;: 1.833, &quot;felt&quot;: null, &quot;gap&quot;: 128.0, &quot;id&quot;: &quot;us7000lgjx&quot;, &quot;ids&quot;: &quot;,us7000lgjx,&quot;, &quot;mag&quot;: 4.7, &quot;magType&quot;: &quot;mb&quot;, &quot;mmi&quot;: null, &quot;net&quot;: &quot;us&quot;, &quot;nst&quot;: 41.0, &quot;place&quot;: &quot;Mindanao, Philippines&quot;, &quot;rms&quot;: 0.7, &quot;sig&quot;: 340, &quot;sources&quot;: &quot;,us,&quot;, &quot;status&quot;: &quot;reviewed&quot;, &quot;time&quot;: 1701819596961, &quot;title&quot;: &quot;M 4.7 - Mindanao, Philippines&quot;, &quot;tsunami&quot;: 0, &quot;type&quot;: &quot;earthquake&quot;, &quot;types&quot;: &quot;,origin,phase-data,&quot;, &quot;tz&quot;: null, &quot;updated&quot;: 1701820511040, &quot;url&quot;: &quot;https://earthquake.usgs.gov/earthquakes/eventpage/us7000lgjx&quot;}, &quot;type&quot;: &quot;Feature&quot;}, {&quot;bbox&quot;: [126.5429, 8.5942, 126.5429, 8.5942], &quot;geometry&quot;: {&quot;coordinates&quot;: [126.5429, 8.5942, 66.378], &quot;type&quot;: &quot;Point&quot;}, &quot;id&quot;: &quot;19&quot;, &quot;properties&quot;: {&quot;alert&quot;: null, &quot;cdi&quot;: null, &quot;code&quot;: &quot;7000lgjv&quot;, &quot;detail&quot;: &quot;https://earthquake.usgs.gov/earthquakes/feed/v1.0/detail/us7000lgjv.geojson&quot;, &quot;dmin&quot;: 1.791, &quot;felt&quot;: null, &quot;gap&quot;: 109.0, &quot;id&quot;: &quot;us7000lgjv&quot;, &quot;ids&quot;: &quot;,us7000lgjv,&quot;, &quot;mag&quot;: 4.7, &quot;magType&quot;: &quot;mb&quot;, &quot;mmi&quot;: null, &quot;net&quot;: &quot;us&quot;, &quot;nst&quot;: 72.0, &quot;place&quot;: &quot;Mindanao, Philippines&quot;, &quot;rms&quot;: 0.88, &quot;sig&quot;: 340, &quot;sources&quot;: &quot;,us,&quot;, &quot;status&quot;: &quot;reviewed&quot;, &quot;time&quot;: 1701819265774, &quot;title&quot;: &quot;M 4.7 - Mindanao, Philippines&quot;, &quot;tsunami&quot;: 0, &quot;type&quot;: &quot;earthquake&quot;, &quot;types&quot;: &quot;,origin,phase-data,&quot;, &quot;tz&quot;: null, &quot;updated&quot;: 1701820630040, &quot;url&quot;: &quot;https://earthquake.usgs.gov/earthquakes/eventpage/us7000lgjv&quot;}, &quot;type&quot;: &quot;Feature&quot;}, {&quot;bbox&quot;: [127.1817, 8.4965, 127.1817, 8.4965], &quot;geometry&quot;: {&quot;coordinates&quot;: [127.1817, 8.4965, 62.145], &quot;type&quot;: &quot;Point&quot;}, &quot;id&quot;: &quot;20&quot;, &quot;properties&quot;: {&quot;alert&quot;: null, &quot;cdi&quot;: 3.9, &quot;code&quot;: &quot;7000lgju&quot;, &quot;detail&quot;: &quot;https://earthquake.usgs.gov/earthquakes/feed/v1.0/detail/us7000lgju.geojson&quot;, &quot;dmin&quot;: 2.129, &quot;felt&quot;: 2.0, &quot;gap&quot;: 129.0, &quot;id&quot;: &quot;us7000lgju&quot;, &quot;ids&quot;: &quot;,us7000lgju,&quot;, &quot;mag&quot;: 4.6, &quot;magType&quot;: &quot;mb&quot;, &quot;mmi&quot;: null, &quot;net&quot;: &quot;us&quot;, &quot;nst&quot;: 45.0, &quot;place&quot;: &quot;Philippine Islands region&quot;, &quot;rms&quot;: 0.73, &quot;sig&quot;: 326, &quot;sources&quot;: &quot;,us,&quot;, &quot;status&quot;: &quot;reviewed&quot;, &quot;time&quot;: 1701818954409, &quot;title&quot;: &quot;M 4.6 - Philippine Islands region&quot;, &quot;tsunami&quot;: 0, &quot;type&quot;: &quot;earthquake&quot;, &quot;types&quot;: &quot;,dyfi,origin,phase-data,&quot;, &quot;tz&quot;: null, &quot;updated&quot;: 1701853449187, &quot;url&quot;: &quot;https://earthquake.usgs.gov/earthquakes/eventpage/us7000lgju&quot;}, &quot;type&quot;: &quot;Feature&quot;}, {&quot;bbox&quot;: [-115.4225, 32.7365, -115.4225, 32.7365], &quot;geometry&quot;: {&quot;coordinates&quot;: [-115.4225, 32.7365, 9.55], &quot;type&quot;: &quot;Point&quot;}, &quot;id&quot;: &quot;21&quot;, &quot;properties&quot;: {&quot;alert&quot;: null, &quot;cdi&quot;: 2.7, &quot;code&quot;: &quot;40616576&quot;, &quot;detail&quot;: &quot;https://earthquake.usgs.gov/earthquakes/feed/v1.0/detail/ci40616576.geojson&quot;, &quot;dmin&quot;: 0.07161, &quot;felt&quot;: 2.0, &quot;gap&quot;: 79.0, &quot;id&quot;: &quot;ci40616576&quot;, &quot;ids&quot;: &quot;,ci40616576,&quot;, &quot;mag&quot;: 2.57, &quot;magType&quot;: &quot;ml&quot;, &quot;mmi&quot;: null, &quot;net&quot;: &quot;ci&quot;, &quot;nst&quot;: 32.0, &quot;place&quot;: &quot;9 km SSW of Holtville, CA&quot;, &quot;rms&quot;: 0.3, &quot;sig&quot;: 102, &quot;sources&quot;: &quot;,ci,&quot;, &quot;status&quot;: &quot;automatic&quot;, &quot;time&quot;: 1701818746030, &quot;title&quot;: &quot;M 2.6 - 9 km SSW of Holtville, CA&quot;, &quot;tsunami&quot;: 0, &quot;type&quot;: &quot;earthquake&quot;, &quot;types&quot;: &quot;,dyfi,nearby-cities,origin,phase-data,scitech-link,&quot;, &quot;tz&quot;: null, &quot;updated&quot;: 1701819280616, &quot;url&quot;: &quot;https://earthquake.usgs.gov/earthquakes/eventpage/ci40616576&quot;}, &quot;type&quot;: &quot;Feature&quot;}, {&quot;bbox&quot;: [47.4455, 12.2116, 47.4455, 12.2116], &quot;geometry&quot;: {&quot;coordinates&quot;: [47.4455, 12.2116, 10.0], &quot;type&quot;: &quot;Point&quot;}, &quot;id&quot;: &quot;22&quot;, &quot;properties&quot;: {&quot;alert&quot;: null, &quot;cdi&quot;: null, &quot;code&quot;: &quot;7000lgjd&quot;, &quot;detail&quot;: &quot;https://earthquake.usgs.gov/earthquakes/feed/v1.0/detail/us7000lgjd.geojson&quot;, &quot;dmin&quot;: 4.552, &quot;felt&quot;: null, &quot;gap&quot;: 151.0, &quot;id&quot;: &quot;us7000lgjd&quot;, &quot;ids&quot;: &quot;,us7000lgjd,&quot;, &quot;mag&quot;: 4.9, &quot;magType&quot;: &quot;mb&quot;, &quot;mmi&quot;: null, &quot;net&quot;: &quot;us&quot;, &quot;nst&quot;: 71.0, &quot;place&quot;: &quot;Gulf of Aden&quot;, &quot;rms&quot;: 0.98, &quot;sig&quot;: 369, &quot;sources&quot;: &quot;,us,&quot;, &quot;status&quot;: &quot;reviewed&quot;, &quot;time&quot;: 1701816680603, &quot;title&quot;: &quot;M 4.9 - Gulf of Aden&quot;, &quot;tsunami&quot;: 0, &quot;type&quot;: &quot;earthquake&quot;, &quot;types&quot;: &quot;,origin,phase-data,&quot;, &quot;tz&quot;: null, &quot;updated&quot;: 1701817824040, &quot;url&quot;: &quot;https://earthquake.usgs.gov/earthquakes/eventpage/us7000lgjd&quot;}, &quot;type&quot;: &quot;Feature&quot;}, {&quot;bbox&quot;: [126.5892, 9.1567, 126.5892, 9.1567], &quot;geometry&quot;: {&quot;coordinates&quot;: [126.5892, 9.1567, 62.693], &quot;type&quot;: &quot;Point&quot;}, &quot;id&quot;: &quot;23&quot;, &quot;properties&quot;: {&quot;alert&quot;: null, &quot;cdi&quot;: null, &quot;code&quot;: &quot;7000lgje&quot;, &quot;detail&quot;: &quot;https://earthquake.usgs.gov/earthquakes/feed/v1.0/detail/us7000lgje.geojson&quot;, &quot;dmin&quot;: 2.302, &quot;felt&quot;: null, &quot;gap&quot;: 149.0, &quot;id&quot;: &quot;us7000lgje&quot;, &quot;ids&quot;: &quot;,us7000lgje,&quot;, &quot;mag&quot;: 4.4, &quot;magType&quot;: &quot;mb&quot;, &quot;mmi&quot;: null, &quot;net&quot;: &quot;us&quot;, &quot;nst&quot;: 26.0, &quot;place&quot;: &quot;40 km ENE of La Paz, Philippines&quot;, &quot;rms&quot;: 0.65, &quot;sig&quot;: 298, &quot;sources&quot;: &quot;,us,&quot;, &quot;status&quot;: &quot;reviewed&quot;, &quot;time&quot;: 1701815008586, &quot;title&quot;: &quot;M 4.4 - 40 km ENE of La Paz, Philippines&quot;, &quot;tsunami&quot;: 0, &quot;type&quot;: &quot;earthquake&quot;, &quot;types&quot;: &quot;,origin,phase-data,&quot;, &quot;tz&quot;: null, &quot;updated&quot;: 1701818332040, &quot;url&quot;: &quot;https://earthquake.usgs.gov/earthquakes/eventpage/us7000lgje&quot;}, &quot;type&quot;: &quot;Feature&quot;}, {&quot;bbox&quot;: [-150.902, 61.9249, -150.902, 61.9249], &quot;geometry&quot;: {&quot;coordinates&quot;: [-150.902, 61.9249, 64.9], &quot;type&quot;: &quot;Point&quot;}, &quot;id&quot;: &quot;24&quot;, &quot;properties&quot;: {&quot;alert&quot;: null, &quot;cdi&quot;: 3.1, &quot;code&quot;: &quot;023fl0erl7&quot;, &quot;detail&quot;: &quot;https://earthquake.usgs.gov/earthquakes/feed/v1.0/detail/ak023fl0erl7.geojson&quot;, &quot;dmin&quot;: null, &quot;felt&quot;: 11.0, &quot;gap&quot;: null, &quot;id&quot;: &quot;ak023fl0erl7&quot;, &quot;ids&quot;: &quot;,ak023fl0erl7,us7000lgja,&quot;, &quot;mag&quot;: 3.8, &quot;magType&quot;: &quot;ml&quot;, &quot;mmi&quot;: 2.739, &quot;net&quot;: &quot;ak&quot;, &quot;nst&quot;: null, &quot;place&quot;: &quot;27 km ESE of Skwentna, Alaska&quot;, &quot;rms&quot;: 0.49, &quot;sig&quot;: 226, &quot;sources&quot;: &quot;,ak,us,&quot;, &quot;status&quot;: &quot;automatic&quot;, &quot;time&quot;: 1701814896912, &quot;title&quot;: &quot;M 3.8 - 27 km ESE of Skwentna, Alaska&quot;, &quot;tsunami&quot;: 0, &quot;type&quot;: &quot;earthquake&quot;, &quot;types&quot;: &quot;,dyfi,origin,phase-data,shakemap,&quot;, &quot;tz&quot;: null, &quot;updated&quot;: 1701831434404, &quot;url&quot;: &quot;https://earthquake.usgs.gov/earthquakes/eventpage/ak023fl0erl7&quot;}, &quot;type&quot;: &quot;Feature&quot;}, {&quot;bbox&quot;: [47.5166, 12.1155, 47.5166, 12.1155], &quot;geometry&quot;: {&quot;coordinates&quot;: [47.5166, 12.1155, 10.0], &quot;type&quot;: &quot;Point&quot;}, &quot;id&quot;: &quot;25&quot;, &quot;properties&quot;: {&quot;alert&quot;: null, &quot;cdi&quot;: null, &quot;code&quot;: &quot;7000lgj9&quot;, &quot;detail&quot;: &quot;https://earthquake.usgs.gov/earthquakes/feed/v1.0/detail/us7000lgj9.geojson&quot;, &quot;dmin&quot;: 4.609, &quot;felt&quot;: null, &quot;gap&quot;: 137.0, &quot;id&quot;: &quot;us7000lgj9&quot;, &quot;ids&quot;: &quot;,us7000lgj9,&quot;, &quot;mag&quot;: 4.5, &quot;magType&quot;: &quot;mb&quot;, &quot;mmi&quot;: null, &quot;net&quot;: &quot;us&quot;, &quot;nst&quot;: 25.0, &quot;place&quot;: &quot;Gulf of Aden&quot;, &quot;rms&quot;: 1.03, &quot;sig&quot;: 312, &quot;sources&quot;: &quot;,us,&quot;, &quot;status&quot;: &quot;reviewed&quot;, &quot;time&quot;: 1701814242027, &quot;title&quot;: &quot;M 4.5 - Gulf of Aden&quot;, &quot;tsunami&quot;: 0, &quot;type&quot;: &quot;earthquake&quot;, &quot;types&quot;: &quot;,origin,phase-data,&quot;, &quot;tz&quot;: null, &quot;updated&quot;: 1701815366040, &quot;url&quot;: &quot;https://earthquake.usgs.gov/earthquakes/eventpage/us7000lgj9&quot;}, &quot;type&quot;: &quot;Feature&quot;}, {&quot;bbox&quot;: [126.7206, 8.5743, 126.7206, 8.5743], &quot;geometry&quot;: {&quot;coordinates&quot;: [126.7206, 8.5743, 62.862], &quot;type&quot;: &quot;Point&quot;}, &quot;id&quot;: &quot;26&quot;, &quot;properties&quot;: {&quot;alert&quot;: null, &quot;cdi&quot;: null, &quot;code&quot;: &quot;7000lgj6&quot;, &quot;detail&quot;: &quot;https://earthquake.usgs.gov/earthquakes/feed/v1.0/detail/us7000lgj6.geojson&quot;, &quot;dmin&quot;: 1.875, &quot;felt&quot;: null, &quot;gap&quot;: 132.0, &quot;id&quot;: &quot;us7000lgj6&quot;, &quot;ids&quot;: &quot;,us7000lgj6,&quot;, &quot;mag&quot;: 4.6, &quot;magType&quot;: &quot;mb&quot;, &quot;mmi&quot;: null, &quot;net&quot;: &quot;us&quot;, &quot;nst&quot;: 44.0, &quot;place&quot;: &quot;Mindanao, Philippines&quot;, &quot;rms&quot;: 0.68, &quot;sig&quot;: 326, &quot;sources&quot;: &quot;,us,&quot;, &quot;status&quot;: &quot;reviewed&quot;, &quot;time&quot;: 1701813132883, &quot;title&quot;: &quot;M 4.6 - Mindanao, Philippines&quot;, &quot;tsunami&quot;: 0, &quot;type&quot;: &quot;earthquake&quot;, &quot;types&quot;: &quot;,origin,phase-data,&quot;, &quot;tz&quot;: null, &quot;updated&quot;: 1701814964040, &quot;url&quot;: &quot;https://earthquake.usgs.gov/earthquakes/eventpage/us7000lgj6&quot;}, &quot;type&quot;: &quot;Feature&quot;}, {&quot;bbox&quot;: [125.3104, 24.3211, 125.3104, 24.3211], &quot;geometry&quot;: {&quot;coordinates&quot;: [125.3104, 24.3211, 10.0], &quot;type&quot;: &quot;Point&quot;}, &quot;id&quot;: &quot;27&quot;, &quot;properties&quot;: {&quot;alert&quot;: null, &quot;cdi&quot;: null, &quot;code&quot;: &quot;7000lgit&quot;, &quot;detail&quot;: &quot;https://earthquake.usgs.gov/earthquakes/feed/v1.0/detail/us7000lgit.geojson&quot;, &quot;dmin&quot;: 0.983, &quot;felt&quot;: null, &quot;gap&quot;: 203.0, &quot;id&quot;: &quot;us7000lgit&quot;, &quot;ids&quot;: &quot;,us7000lgit,&quot;, &quot;mag&quot;: 4.3, &quot;magType&quot;: &quot;mb&quot;, &quot;mmi&quot;: null, &quot;net&quot;: &quot;us&quot;, &quot;nst&quot;: 24.0, &quot;place&quot;: &quot;southwestern Ryukyu Islands, Japan&quot;, &quot;rms&quot;: 0.83, &quot;sig&quot;: 284, &quot;sources&quot;: &quot;,us,&quot;, &quot;status&quot;: &quot;reviewed&quot;, &quot;time&quot;: 1701810175606, &quot;title&quot;: &quot;M 4.3 - southwestern Ryukyu Islands, Japan&quot;, &quot;tsunami&quot;: 0, &quot;type&quot;: &quot;earthquake&quot;, &quot;types&quot;: &quot;,origin,phase-data,&quot;, &quot;tz&quot;: null, &quot;updated&quot;: 1701821567040, &quot;url&quot;: &quot;https://earthquake.usgs.gov/earthquakes/eventpage/us7000lgit&quot;}, &quot;type&quot;: &quot;Feature&quot;}, {&quot;bbox&quot;: [-66.9263333333333, 18.6708333333333, -66.9263333333333, 18.6708333333333], &quot;geometry&quot;: {&quot;coordinates&quot;: [-66.9263333333333, 18.6708333333333, 19.86], &quot;type&quot;: &quot;Point&quot;}, &quot;id&quot;: &quot;28&quot;, &quot;properties&quot;: {&quot;alert&quot;: null, &quot;cdi&quot;: null, &quot;code&quot;: &quot;71433238&quot;, &quot;detail&quot;: &quot;https://earthquake.usgs.gov/earthquakes/feed/v1.0/detail/pr71433238.geojson&quot;, &quot;dmin&quot;: 0.1929, &quot;felt&quot;: null, &quot;gap&quot;: 232.0, &quot;id&quot;: &quot;pr71433238&quot;, &quot;ids&quot;: &quot;,pr71433238,&quot;, &quot;mag&quot;: 2.95, &quot;magType&quot;: &quot;md&quot;, &quot;mmi&quot;: null, &quot;net&quot;: &quot;pr&quot;, &quot;nst&quot;: 29.0, &quot;place&quot;: &quot;21 km NNE of Isabela, Puerto Rico&quot;, &quot;rms&quot;: 0.22, &quot;sig&quot;: 134, &quot;sources&quot;: &quot;,pr,&quot;, &quot;status&quot;: &quot;reviewed&quot;, &quot;time&quot;: 1701809604010, &quot;title&quot;: &quot;M 3.0 - 21 km NNE of Isabela, Puerto Rico&quot;, &quot;tsunami&quot;: 0, &quot;type&quot;: &quot;earthquake&quot;, &quot;types&quot;: &quot;,origin,phase-data,&quot;, &quot;tz&quot;: null, &quot;updated&quot;: 1701810994940, &quot;url&quot;: &quot;https://earthquake.usgs.gov/earthquakes/eventpage/pr71433238&quot;}, &quot;type&quot;: &quot;Feature&quot;}, {&quot;bbox&quot;: [47.4968, 12.3388, 47.4968, 12.3388], &quot;geometry&quot;: {&quot;coordinates&quot;: [47.4968, 12.3388, 10.0], &quot;type&quot;: &quot;Point&quot;}, &quot;id&quot;: &quot;29&quot;, &quot;properties&quot;: {&quot;alert&quot;: &quot;green&quot;, &quot;cdi&quot;: null, &quot;code&quot;: &quot;7000lghy&quot;, &quot;detail&quot;: &quot;https://earthquake.usgs.gov/earthquakes/feed/v1.0/detail/us7000lghy.geojson&quot;, &quot;dmin&quot;: 4.621, &quot;felt&quot;: null, &quot;gap&quot;: 66.0, &quot;id&quot;: &quot;us7000lghy&quot;, &quot;ids&quot;: &quot;,us7000lghy,&quot;, &quot;mag&quot;: 5.4, &quot;magType&quot;: &quot;mww&quot;, &quot;mmi&quot;: 3.462, &quot;net&quot;: &quot;us&quot;, &quot;nst&quot;: 75.0, &quot;place&quot;: &quot;Gulf of Aden&quot;, &quot;rms&quot;: 1.12, &quot;sig&quot;: 449, &quot;sources&quot;: &quot;,us,&quot;, &quot;status&quot;: &quot;reviewed&quot;, &quot;time&quot;: 1701807593703, &quot;title&quot;: &quot;M 5.4 - Gulf of Aden&quot;, &quot;tsunami&quot;: 0, &quot;type&quot;: &quot;earthquake&quot;, &quot;types&quot;: &quot;,losspager,origin,phase-data,shakemap,&quot;, &quot;tz&quot;: null, &quot;updated&quot;: 1701815006296, &quot;url&quot;: &quot;https://earthquake.usgs.gov/earthquakes/eventpage/us7000lghy&quot;}, &quot;type&quot;: &quot;Feature&quot;}, {&quot;bbox&quot;: [-173.0775, -15.303, -173.0775, -15.303], &quot;geometry&quot;: {&quot;coordinates&quot;: [-173.0775, -15.303, 38.917], &quot;type&quot;: &quot;Point&quot;}, &quot;id&quot;: &quot;30&quot;, &quot;properties&quot;: {&quot;alert&quot;: null, &quot;cdi&quot;: null, &quot;code&quot;: &quot;7000lghh&quot;, &quot;detail&quot;: &quot;https://earthquake.usgs.gov/earthquakes/feed/v1.0/detail/us7000lghh.geojson&quot;, &quot;dmin&quot;: 2.648, &quot;felt&quot;: null, &quot;gap&quot;: 68.0, &quot;id&quot;: &quot;us7000lghh&quot;, &quot;ids&quot;: &quot;,us7000lghh,&quot;, &quot;mag&quot;: 4.7, &quot;magType&quot;: &quot;mb&quot;, &quot;mmi&quot;: null, &quot;net&quot;: &quot;us&quot;, &quot;nst&quot;: 126.0, &quot;place&quot;: &quot;Tonga&quot;, &quot;rms&quot;: 0.59, &quot;sig&quot;: 340, &quot;sources&quot;: &quot;,us,&quot;, &quot;status&quot;: &quot;reviewed&quot;, &quot;time&quot;: 1701802417615, &quot;title&quot;: &quot;M 4.7 - Tonga&quot;, &quot;tsunami&quot;: 0, &quot;type&quot;: &quot;earthquake&quot;, &quot;types&quot;: &quot;,origin,phase-data,&quot;, &quot;tz&quot;: null, &quot;updated&quot;: 1701816851040, &quot;url&quot;: &quot;https://earthquake.usgs.gov/earthquakes/eventpage/us7000lghh&quot;}, &quot;type&quot;: &quot;Feature&quot;}, {&quot;bbox&quot;: [47.3968, 12.0707, 47.3968, 12.0707], &quot;geometry&quot;: {&quot;coordinates&quot;: [47.3968, 12.0707, 10.0], &quot;type&quot;: &quot;Point&quot;}, &quot;id&quot;: &quot;31&quot;, &quot;properties&quot;: {&quot;alert&quot;: null, &quot;cdi&quot;: null, &quot;code&quot;: &quot;7000lgh7&quot;, &quot;detail&quot;: &quot;https://earthquake.usgs.gov/earthquakes/feed/v1.0/detail/us7000lgh7.geojson&quot;, &quot;dmin&quot;: 4.487, &quot;felt&quot;: null, &quot;gap&quot;: 50.0, &quot;id&quot;: &quot;us7000lgh7&quot;, &quot;ids&quot;: &quot;,us7000lgh7,&quot;, &quot;mag&quot;: 4.5, &quot;magType&quot;: &quot;mb&quot;, &quot;mmi&quot;: null, &quot;net&quot;: &quot;us&quot;, &quot;nst&quot;: 85.0, &quot;place&quot;: &quot;Gulf of Aden&quot;, &quot;rms&quot;: 0.5, &quot;sig&quot;: 312, &quot;sources&quot;: &quot;,us,&quot;, &quot;status&quot;: &quot;reviewed&quot;, &quot;time&quot;: 1701799832918, &quot;title&quot;: &quot;M 4.5 - Gulf of Aden&quot;, &quot;tsunami&quot;: 0, &quot;type&quot;: &quot;earthquake&quot;, &quot;types&quot;: &quot;,origin,phase-data,&quot;, &quot;tz&quot;: null, &quot;updated&quot;: 1701813156040, &quot;url&quot;: &quot;https://earthquake.usgs.gov/earthquakes/eventpage/us7000lgh7&quot;}, &quot;type&quot;: &quot;Feature&quot;}, {&quot;bbox&quot;: [126.9131, 8.9826, 126.9131, 8.9826], &quot;geometry&quot;: {&quot;coordinates&quot;: [126.9131, 8.9826, 43.977], &quot;type&quot;: &quot;Point&quot;}, &quot;id&quot;: &quot;32&quot;, &quot;properties&quot;: {&quot;alert&quot;: null, &quot;cdi&quot;: null, &quot;code&quot;: &quot;7000lgh5&quot;, &quot;detail&quot;: &quot;https://earthquake.usgs.gov/earthquakes/feed/v1.0/detail/us7000lgh5.geojson&quot;, &quot;dmin&quot;: 2.315, &quot;felt&quot;: null, &quot;gap&quot;: 44.0, &quot;id&quot;: &quot;us7000lgh5&quot;, &quot;ids&quot;: &quot;,us7000lgh5,&quot;, &quot;mag&quot;: 4.5, &quot;magType&quot;: &quot;mb&quot;, &quot;mmi&quot;: null, &quot;net&quot;: &quot;us&quot;, &quot;nst&quot;: 85.0, &quot;place&quot;: &quot;Mindanao, Philippines&quot;, &quot;rms&quot;: 0.63, &quot;sig&quot;: 312, &quot;sources&quot;: &quot;,us,&quot;, &quot;status&quot;: &quot;reviewed&quot;, &quot;time&quot;: 1701799789325, &quot;title&quot;: &quot;M 4.5 - Mindanao, Philippines&quot;, &quot;tsunami&quot;: 0, &quot;type&quot;: &quot;earthquake&quot;, &quot;types&quot;: &quot;,origin,phase-data,&quot;, &quot;tz&quot;: null, &quot;updated&quot;: 1701807759040, &quot;url&quot;: &quot;https://earthquake.usgs.gov/earthquakes/eventpage/us7000lgh5&quot;}, &quot;type&quot;: &quot;Feature&quot;}, {&quot;bbox&quot;: [126.6158, 8.95, 126.6158, 8.95], &quot;geometry&quot;: {&quot;coordinates&quot;: [126.6158, 8.95, 53.701], &quot;type&quot;: &quot;Point&quot;}, &quot;id&quot;: &quot;33&quot;, &quot;properties&quot;: {&quot;alert&quot;: null, &quot;cdi&quot;: 4.9, &quot;code&quot;: &quot;7000lgfs&quot;, &quot;detail&quot;: &quot;https://earthquake.usgs.gov/earthquakes/feed/v1.0/detail/us7000lgfs.geojson&quot;, &quot;dmin&quot;: 2.132, &quot;felt&quot;: 2.0, &quot;gap&quot;: 55.0, &quot;id&quot;: &quot;us7000lgfs&quot;, &quot;ids&quot;: &quot;,us7000lgfs,&quot;, &quot;mag&quot;: 4.8, &quot;magType&quot;: &quot;mb&quot;, &quot;mmi&quot;: null, &quot;net&quot;: &quot;us&quot;, &quot;nst&quot;: 132.0, &quot;place&quot;: &quot;Mindanao, Philippines&quot;, &quot;rms&quot;: 0.59, &quot;sig&quot;: 355, &quot;sources&quot;: &quot;,us,&quot;, &quot;status&quot;: &quot;reviewed&quot;, &quot;time&quot;: 1701797601864, &quot;title&quot;: &quot;M 4.8 - Mindanao, Philippines&quot;, &quot;tsunami&quot;: 0, &quot;type&quot;: &quot;earthquake&quot;, &quot;types&quot;: &quot;,dyfi,origin,phase-data,&quot;, &quot;tz&quot;: null, &quot;updated&quot;: 1701804795270, &quot;url&quot;: &quot;https://earthquake.usgs.gov/earthquakes/eventpage/us7000lgfs&quot;}, &quot;type&quot;: &quot;Feature&quot;}, {&quot;bbox&quot;: [47.4024, 12.1546, 47.4024, 12.1546], &quot;geometry&quot;: {&quot;coordinates&quot;: [47.4024, 12.1546, 10.0], &quot;type&quot;: &quot;Point&quot;}, &quot;id&quot;: &quot;34&quot;, &quot;properties&quot;: {&quot;alert&quot;: null, &quot;cdi&quot;: null, &quot;code&quot;: &quot;7000lgfp&quot;, &quot;detail&quot;: &quot;https://earthquake.usgs.gov/earthquakes/feed/v1.0/detail/us7000lgfp.geojson&quot;, &quot;dmin&quot;: 4.503, &quot;felt&quot;: null, &quot;gap&quot;: 111.0, &quot;id&quot;: &quot;us7000lgfp&quot;, &quot;ids&quot;: &quot;,us7000lgfp,&quot;, &quot;mag&quot;: 4.4, &quot;magType&quot;: &quot;mb&quot;, &quot;mmi&quot;: null, &quot;net&quot;: &quot;us&quot;, &quot;nst&quot;: 63.0, &quot;place&quot;: &quot;Gulf of Aden&quot;, &quot;rms&quot;: 0.64, &quot;sig&quot;: 298, &quot;sources&quot;: &quot;,us,&quot;, &quot;status&quot;: &quot;reviewed&quot;, &quot;time&quot;: 1701796684107, &quot;title&quot;: &quot;M 4.4 - Gulf of Aden&quot;, &quot;tsunami&quot;: 0, &quot;type&quot;: &quot;earthquake&quot;, &quot;types&quot;: &quot;,origin,phase-data,&quot;, &quot;tz&quot;: null, &quot;updated&quot;: 1701798705040, &quot;url&quot;: &quot;https://earthquake.usgs.gov/earthquakes/eventpage/us7000lgfp&quot;}, &quot;type&quot;: &quot;Feature&quot;}, {&quot;bbox&quot;: [-64.3908, 18.7928, -64.3908, 18.7928], &quot;geometry&quot;: {&quot;coordinates&quot;: [-64.3908, 18.7928, 14.0], &quot;type&quot;: &quot;Point&quot;}, &quot;id&quot;: &quot;35&quot;, &quot;properties&quot;: {&quot;alert&quot;: null, &quot;cdi&quot;: null, &quot;code&quot;: &quot;2023339000&quot;, &quot;detail&quot;: &quot;https://earthquake.usgs.gov/earthquakes/feed/v1.0/detail/pr2023339000.geojson&quot;, &quot;dmin&quot;: 0.4412, &quot;felt&quot;: null, &quot;gap&quot;: 303.0, &quot;id&quot;: &quot;pr2023339000&quot;, &quot;ids&quot;: &quot;,us7000lgfi,pr2023339000,&quot;, &quot;mag&quot;: 3.55, &quot;magType&quot;: &quot;md&quot;, &quot;mmi&quot;: null, &quot;net&quot;: &quot;pr&quot;, &quot;nst&quot;: 9.0, &quot;place&quot;: &quot;66 km NE of Cruz Bay, U.S. Virgin Islands&quot;, &quot;rms&quot;: 0.29, &quot;sig&quot;: 194, &quot;sources&quot;: &quot;,us,pr,&quot;, &quot;status&quot;: &quot;reviewed&quot;, &quot;time&quot;: 1701792405080, &quot;title&quot;: &quot;M 3.6 - 66 km NE of Cruz Bay, U.S. Virgin Islands&quot;, &quot;tsunami&quot;: 0, &quot;type&quot;: &quot;earthquake&quot;, &quot;types&quot;: &quot;,origin,phase-data,&quot;, &quot;tz&quot;: null, &quot;updated&quot;: 1701797967040, &quot;url&quot;: &quot;https://earthquake.usgs.gov/earthquakes/eventpage/pr2023339000&quot;}, &quot;type&quot;: &quot;Feature&quot;}, {&quot;bbox&quot;: [93.9945, 9.3615, 93.9945, 9.3615], &quot;geometry&quot;: {&quot;coordinates&quot;: [93.9945, 9.3615, 10.0], &quot;type&quot;: &quot;Point&quot;}, &quot;id&quot;: &quot;36&quot;, &quot;properties&quot;: {&quot;alert&quot;: null, &quot;cdi&quot;: null, &quot;code&quot;: &quot;7000lgf0&quot;, &quot;detail&quot;: &quot;https://earthquake.usgs.gov/earthquakes/feed/v1.0/detail/us7000lgf0.geojson&quot;, &quot;dmin&quot;: 5.043, &quot;felt&quot;: null, &quot;gap&quot;: 47.0, &quot;id&quot;: &quot;us7000lgf0&quot;, &quot;ids&quot;: &quot;,us7000lgf0,&quot;, &quot;mag&quot;: 4.8, &quot;magType&quot;: &quot;mb&quot;, &quot;mmi&quot;: null, &quot;net&quot;: &quot;us&quot;, &quot;nst&quot;: 61.0, &quot;place&quot;: &quot;289 km SSE of Port Blair, India&quot;, &quot;rms&quot;: 0.71, &quot;sig&quot;: 354, &quot;sources&quot;: &quot;,us,&quot;, &quot;status&quot;: &quot;reviewed&quot;, &quot;time&quot;: 1701787503301, &quot;title&quot;: &quot;M 4.8 - 289 km SSE of Port Blair, India&quot;, &quot;tsunami&quot;: 0, &quot;type&quot;: &quot;earthquake&quot;, &quot;types&quot;: &quot;,origin,phase-data,&quot;, &quot;tz&quot;: null, &quot;updated&quot;: 1701790283040, &quot;url&quot;: &quot;https://earthquake.usgs.gov/earthquakes/eventpage/us7000lgf0&quot;}, &quot;type&quot;: &quot;Feature&quot;}, {&quot;bbox&quot;: [126.8689, 9.1263, 126.8689, 9.1263], &quot;geometry&quot;: {&quot;coordinates&quot;: [126.8689, 9.1263, 35.0], &quot;type&quot;: &quot;Point&quot;}, &quot;id&quot;: &quot;37&quot;, &quot;properties&quot;: {&quot;alert&quot;: &quot;green&quot;, &quot;cdi&quot;: 4.1, &quot;code&quot;: &quot;7000lges&quot;, &quot;detail&quot;: &quot;https://earthquake.usgs.gov/earthquakes/feed/v1.0/detail/us7000lges.geojson&quot;, &quot;dmin&quot;: 2.41, &quot;felt&quot;: 4.0, &quot;gap&quot;: 91.0, &quot;id&quot;: &quot;us7000lges&quot;, &quot;ids&quot;: &quot;,us7000lges,&quot;, &quot;mag&quot;: 5.8, &quot;magType&quot;: &quot;mww&quot;, &quot;mmi&quot;: 4.183, &quot;net&quot;: &quot;us&quot;, &quot;nst&quot;: 71.0, &quot;place&quot;: &quot;Mindanao, Philippines&quot;, &quot;rms&quot;: 1.0, &quot;sig&quot;: 519, &quot;sources&quot;: &quot;,us,&quot;, &quot;status&quot;: &quot;reviewed&quot;, &quot;time&quot;: 1701783399656, &quot;title&quot;: &quot;M 5.8 - Mindanao, Philippines&quot;, &quot;tsunami&quot;: 0, &quot;type&quot;: &quot;earthquake&quot;, &quot;types&quot;: &quot;,dyfi,losspager,moment-tensor,origin,phase-data,shakemap,&quot;, &quot;tz&quot;: null, &quot;updated&quot;: 1701818829073, &quot;url&quot;: &quot;https://earthquake.usgs.gov/earthquakes/eventpage/us7000lges&quot;}, &quot;type&quot;: &quot;Feature&quot;}, {&quot;bbox&quot;: [126.6427, 8.4858, 126.6427, 8.4858], &quot;geometry&quot;: {&quot;coordinates&quot;: [126.6427, 8.4858, 60.278], &quot;type&quot;: &quot;Point&quot;}, &quot;id&quot;: &quot;38&quot;, &quot;properties&quot;: {&quot;alert&quot;: null, &quot;cdi&quot;: 4.1, &quot;code&quot;: &quot;7000lgeh&quot;, &quot;detail&quot;: &quot;https://earthquake.usgs.gov/earthquakes/feed/v1.0/detail/us7000lgeh.geojson&quot;, &quot;dmin&quot;: 1.758, &quot;felt&quot;: 1.0, &quot;gap&quot;: 45.0, &quot;id&quot;: &quot;us7000lgeh&quot;, &quot;ids&quot;: &quot;,us7000lgeh,&quot;, &quot;mag&quot;: 5.1, &quot;magType&quot;: &quot;mb&quot;, &quot;mmi&quot;: null, &quot;net&quot;: &quot;us&quot;, &quot;nst&quot;: 76.0, &quot;place&quot;: &quot;36 km ENE of Hinatuan, Philippines&quot;, &quot;rms&quot;: 0.68, &quot;sig&quot;: 401, &quot;sources&quot;: &quot;,us,&quot;, &quot;status&quot;: &quot;reviewed&quot;, &quot;time&quot;: 1701780155170, &quot;title&quot;: &quot;M 5.1 - 36 km ENE of Hinatuan, Philippines&quot;, &quot;tsunami&quot;: 0, &quot;type&quot;: &quot;earthquake&quot;, &quot;types&quot;: &quot;,dyfi,origin,phase-data,&quot;, &quot;tz&quot;: null, &quot;updated&quot;: 1701783925957, &quot;url&quot;: &quot;https://earthquake.usgs.gov/earthquakes/eventpage/us7000lgeh&quot;}, &quot;type&quot;: &quot;Feature&quot;}, {&quot;bbox&quot;: [128.2563, 2.5566, 128.2563, 2.5566], &quot;geometry&quot;: {&quot;coordinates&quot;: [128.2563, 2.5566, 67.028], &quot;type&quot;: &quot;Point&quot;}, &quot;id&quot;: &quot;39&quot;, &quot;properties&quot;: {&quot;alert&quot;: null, &quot;cdi&quot;: null, &quot;code&quot;: &quot;7000lgee&quot;, &quot;detail&quot;: &quot;https://earthquake.usgs.gov/earthquakes/feed/v1.0/detail/us7000lgee.geojson&quot;, &quot;dmin&quot;: 1.983, &quot;felt&quot;: null, &quot;gap&quot;: 34.0, &quot;id&quot;: &quot;us7000lgee&quot;, &quot;ids&quot;: &quot;,us7000lgee,&quot;, &quot;mag&quot;: 5.1, &quot;magType&quot;: &quot;mww&quot;, &quot;mmi&quot;: null, &quot;net&quot;: &quot;us&quot;, &quot;nst&quot;: 103.0, &quot;place&quot;: &quot;95 km NNE of Tobelo, Indonesia&quot;, &quot;rms&quot;: 0.59, &quot;sig&quot;: 400, &quot;sources&quot;: &quot;,us,&quot;, &quot;status&quot;: &quot;reviewed&quot;, &quot;time&quot;: 1701779798780, &quot;title&quot;: &quot;M 5.1 - 95 km NNE of Tobelo, Indonesia&quot;, &quot;tsunami&quot;: 0, &quot;type&quot;: &quot;earthquake&quot;, &quot;types&quot;: &quot;,origin,phase-data,&quot;, &quot;tz&quot;: null, &quot;updated&quot;: 1701780796040, &quot;url&quot;: &quot;https://earthquake.usgs.gov/earthquakes/eventpage/us7000lgee&quot;}, &quot;type&quot;: &quot;Feature&quot;}, {&quot;bbox&quot;: [47.3446, 12.5183, 47.3446, 12.5183], &quot;geometry&quot;: {&quot;coordinates&quot;: [47.3446, 12.5183, 10.0], &quot;type&quot;: &quot;Point&quot;}, &quot;id&quot;: &quot;40&quot;, &quot;properties&quot;: {&quot;alert&quot;: null, &quot;cdi&quot;: null, &quot;code&quot;: &quot;7000lged&quot;, &quot;detail&quot;: &quot;https://earthquake.usgs.gov/earthquakes/feed/v1.0/detail/us7000lged.geojson&quot;, &quot;dmin&quot;: 4.509, &quot;felt&quot;: null, &quot;gap&quot;: 107.0, &quot;id&quot;: &quot;us7000lged&quot;, &quot;ids&quot;: &quot;,us7000lged,&quot;, &quot;mag&quot;: 4.6, &quot;magType&quot;: &quot;mb&quot;, &quot;mmi&quot;: null, &quot;net&quot;: &quot;us&quot;, &quot;nst&quot;: 39.0, &quot;place&quot;: &quot;176 km NNW of Las Khorey, Somalia&quot;, &quot;rms&quot;: 0.89, &quot;sig&quot;: 326, &quot;sources&quot;: &quot;,us,&quot;, &quot;status&quot;: &quot;reviewed&quot;, &quot;time&quot;: 1701778889300, &quot;title&quot;: &quot;M 4.6 - 176 km NNW of Las Khorey, Somalia&quot;, &quot;tsunami&quot;: 0, &quot;type&quot;: &quot;earthquake&quot;, &quot;types&quot;: &quot;,origin,phase-data,&quot;, &quot;tz&quot;: null, &quot;updated&quot;: 1701797970040, &quot;url&quot;: &quot;https://earthquake.usgs.gov/earthquakes/eventpage/us7000lged&quot;}, &quot;type&quot;: &quot;Feature&quot;}, {&quot;bbox&quot;: [-156.330166666667, 19.1901666666667, -156.330166666667, 19.1901666666667], &quot;geometry&quot;: {&quot;coordinates&quot;: [-156.330166666667, 19.1901666666667, 34.32], &quot;type&quot;: &quot;Point&quot;}, &quot;id&quot;: &quot;41&quot;, &quot;properties&quot;: {&quot;alert&quot;: null, &quot;cdi&quot;: null, &quot;code&quot;: &quot;73673667&quot;, &quot;detail&quot;: &quot;https://earthquake.usgs.gov/earthquakes/feed/v1.0/detail/hv73673667.geojson&quot;, &quot;dmin&quot;: null, &quot;felt&quot;: null, &quot;gap&quot;: 284.0, &quot;id&quot;: &quot;hv73673667&quot;, &quot;ids&quot;: &quot;,us7000lgeb,hv73673667,&quot;, &quot;mag&quot;: 2.56, &quot;magType&quot;: &quot;md&quot;, &quot;mmi&quot;: null, &quot;net&quot;: &quot;hv&quot;, &quot;nst&quot;: 31.0, &quot;place&quot;: &quot;54 km SW of Captain Cook, Hawaii&quot;, &quot;rms&quot;: 0.19, &quot;sig&quot;: 101, &quot;sources&quot;: &quot;,us,hv,&quot;, &quot;status&quot;: &quot;reviewed&quot;, &quot;time&quot;: 1701778304770, &quot;title&quot;: &quot;M 2.6 - 54 km SW of Captain Cook, Hawaii&quot;, &quot;tsunami&quot;: 0, &quot;type&quot;: &quot;earthquake&quot;, &quot;types&quot;: &quot;,origin,phase-data,&quot;, &quot;tz&quot;: null, &quot;updated&quot;: 1701845755040, &quot;url&quot;: &quot;https://earthquake.usgs.gov/earthquakes/eventpage/hv73673667&quot;}, &quot;type&quot;: &quot;Feature&quot;}, {&quot;bbox&quot;: [-152.6243, 62.1494, -152.6243, 62.1494], &quot;geometry&quot;: {&quot;coordinates&quot;: [-152.6243, 62.1494, 13.5], &quot;type&quot;: &quot;Point&quot;}, &quot;id&quot;: &quot;42&quot;, &quot;properties&quot;: {&quot;alert&quot;: null, &quot;cdi&quot;: 2.2, &quot;code&quot;: &quot;023fkudta4&quot;, &quot;detail&quot;: &quot;https://earthquake.usgs.gov/earthquakes/feed/v1.0/detail/ak023fkudta4.geojson&quot;, &quot;dmin&quot;: null, &quot;felt&quot;: 1.0, &quot;gap&quot;: null, &quot;id&quot;: &quot;ak023fkudta4&quot;, &quot;ids&quot;: &quot;,ak023fkudta4,us7000lgea,&quot;, &quot;mag&quot;: 3.6, &quot;magType&quot;: &quot;ml&quot;, &quot;mmi&quot;: 2.802, &quot;net&quot;: &quot;ak&quot;, &quot;nst&quot;: null, &quot;place&quot;: &quot;Central Alaska&quot;, &quot;rms&quot;: 0.79, &quot;sig&quot;: 200, &quot;sources&quot;: &quot;,ak,us,&quot;, &quot;status&quot;: &quot;reviewed&quot;, &quot;time&quot;: 1701778154932, &quot;title&quot;: &quot;M 3.6 - Central Alaska&quot;, &quot;tsunami&quot;: 0, &quot;type&quot;: &quot;earthquake&quot;, &quot;types&quot;: &quot;,dyfi,origin,phase-data,shakemap,&quot;, &quot;tz&quot;: null, &quot;updated&quot;: 1701798053574, &quot;url&quot;: &quot;https://earthquake.usgs.gov/earthquakes/eventpage/ak023fkudta4&quot;}, &quot;type&quot;: &quot;Feature&quot;}, {&quot;bbox&quot;: [-151.8903, 61.4394, -151.8903, 61.4394], &quot;geometry&quot;: {&quot;coordinates&quot;: [-151.8903, 61.4394, 66.3], &quot;type&quot;: &quot;Point&quot;}, &quot;id&quot;: &quot;43&quot;, &quot;properties&quot;: {&quot;alert&quot;: null, &quot;cdi&quot;: null, &quot;code&quot;: &quot;023fkudt2o&quot;, &quot;detail&quot;: &quot;https://earthquake.usgs.gov/earthquakes/feed/v1.0/detail/ak023fkudt2o.geojson&quot;, &quot;dmin&quot;: null, &quot;felt&quot;: null, &quot;gap&quot;: null, &quot;id&quot;: &quot;ak023fkudt2o&quot;, &quot;ids&quot;: &quot;,ak023fkudt2o,&quot;, &quot;mag&quot;: 3.1, &quot;magType&quot;: &quot;ml&quot;, &quot;mmi&quot;: null, &quot;net&quot;: &quot;ak&quot;, &quot;nst&quot;: null, &quot;place&quot;: &quot;Southern Alaska&quot;, &quot;rms&quot;: 1.45, &quot;sig&quot;: 148, &quot;sources&quot;: &quot;,ak,&quot;, &quot;status&quot;: &quot;automatic&quot;, &quot;time&quot;: 1701778152485, &quot;title&quot;: &quot;M 3.1 - Southern Alaska&quot;, &quot;tsunami&quot;: 0, &quot;type&quot;: &quot;earthquake&quot;, &quot;types&quot;: &quot;,origin,phase-data,&quot;, &quot;tz&quot;: null, &quot;updated&quot;: 1701778271358, &quot;url&quot;: &quot;https://earthquake.usgs.gov/earthquakes/eventpage/ak023fkudt2o&quot;}, &quot;type&quot;: &quot;Feature&quot;}, {&quot;bbox&quot;: [47.534, 12.2319, 47.534, 12.2319], &quot;geometry&quot;: {&quot;coordinates&quot;: [47.534, 12.2319, 10.0], &quot;type&quot;: &quot;Point&quot;}, &quot;id&quot;: &quot;44&quot;, &quot;properties&quot;: {&quot;alert&quot;: null, &quot;cdi&quot;: null, &quot;code&quot;: &quot;7000lge9&quot;, &quot;detail&quot;: &quot;https://earthquake.usgs.gov/earthquakes/feed/v1.0/detail/us7000lge9.geojson&quot;, &quot;dmin&quot;: 4.641, &quot;felt&quot;: null, &quot;gap&quot;: 94.0, &quot;id&quot;: &quot;us7000lge9&quot;, &quot;ids&quot;: &quot;,us7000lge9,&quot;, &quot;mag&quot;: 4.9, &quot;magType&quot;: &quot;mb&quot;, &quot;mmi&quot;: null, &quot;net&quot;: &quot;us&quot;, &quot;nst&quot;: 64.0, &quot;place&quot;: &quot;138 km NNW of Las Khorey, Somalia&quot;, &quot;rms&quot;: 0.46, &quot;sig&quot;: 369, &quot;sources&quot;: &quot;,us,&quot;, &quot;status&quot;: &quot;reviewed&quot;, &quot;time&quot;: 1701776661715, &quot;title&quot;: &quot;M 4.9 - 138 km NNW of Las Khorey, Somalia&quot;, &quot;tsunami&quot;: 0, &quot;type&quot;: &quot;earthquake&quot;, &quot;types&quot;: &quot;,origin,phase-data,&quot;, &quot;tz&quot;: null, &quot;updated&quot;: 1701778592040, &quot;url&quot;: &quot;https://earthquake.usgs.gov/earthquakes/eventpage/us7000lge9&quot;}, &quot;type&quot;: &quot;Feature&quot;}, {&quot;bbox&quot;: [126.5318, 8.3414, 126.5318, 8.3414], &quot;geometry&quot;: {&quot;coordinates&quot;: [126.5318, 8.3414, 85.842], &quot;type&quot;: &quot;Point&quot;}, &quot;id&quot;: &quot;45&quot;, &quot;properties&quot;: {&quot;alert&quot;: null, &quot;cdi&quot;: null, &quot;code&quot;: &quot;7000lge7&quot;, &quot;detail&quot;: &quot;https://earthquake.usgs.gov/earthquakes/feed/v1.0/detail/us7000lge7.geojson&quot;, &quot;dmin&quot;: 1.577, &quot;felt&quot;: null, &quot;gap&quot;: 44.0, &quot;id&quot;: &quot;us7000lge7&quot;, &quot;ids&quot;: &quot;,us7000lge7,&quot;, &quot;mag&quot;: 4.9, &quot;magType&quot;: &quot;mb&quot;, &quot;mmi&quot;: null, &quot;net&quot;: &quot;us&quot;, &quot;nst&quot;: 74.0, &quot;place&quot;: &quot;21 km ENE of Tidman, Philippines&quot;, &quot;rms&quot;: 0.72, &quot;sig&quot;: 369, &quot;sources&quot;: &quot;,us,&quot;, &quot;status&quot;: &quot;reviewed&quot;, &quot;time&quot;: 1701775980626, &quot;title&quot;: &quot;M 4.9 - 21 km ENE of Tidman, Philippines&quot;, &quot;tsunami&quot;: 0, &quot;type&quot;: &quot;earthquake&quot;, &quot;types&quot;: &quot;,origin,phase-data,&quot;, &quot;tz&quot;: null, &quot;updated&quot;: 1701777489040, &quot;url&quot;: &quot;https://earthquake.usgs.gov/earthquakes/eventpage/us7000lge7&quot;}, &quot;type&quot;: &quot;Feature&quot;}, {&quot;bbox&quot;: [126.8671, 8.4316, 126.8671, 8.4316], &quot;geometry&quot;: {&quot;coordinates&quot;: [126.8671, 8.4316, 58.77], &quot;type&quot;: &quot;Point&quot;}, &quot;id&quot;: &quot;46&quot;, &quot;properties&quot;: {&quot;alert&quot;: null, &quot;cdi&quot;: null, &quot;code&quot;: &quot;7000lge3&quot;, &quot;detail&quot;: &quot;https://earthquake.usgs.gov/earthquakes/feed/v1.0/detail/us7000lge3.geojson&quot;, &quot;dmin&quot;: 1.86, &quot;felt&quot;: null, &quot;gap&quot;: 115.0, &quot;id&quot;: &quot;us7000lge3&quot;, &quot;ids&quot;: &quot;,us7000lge3,&quot;, &quot;mag&quot;: 4.5, &quot;magType&quot;: &quot;mb&quot;, &quot;mmi&quot;: null, &quot;net&quot;: &quot;us&quot;, &quot;nst&quot;: 33.0, &quot;place&quot;: &quot;56 km ENE of Barcelona, Philippines&quot;, &quot;rms&quot;: 0.55, &quot;sig&quot;: 312, &quot;sources&quot;: &quot;,us,&quot;, &quot;status&quot;: &quot;reviewed&quot;, &quot;time&quot;: 1701774031642, &quot;title&quot;: &quot;M 4.5 - 56 km ENE of Barcelona, Philippines&quot;, &quot;tsunami&quot;: 0, &quot;type&quot;: &quot;earthquake&quot;, &quot;types&quot;: &quot;,origin,phase-data,&quot;, &quot;tz&quot;: null, &quot;updated&quot;: 1701796301040, &quot;url&quot;: &quot;https://earthquake.usgs.gov/earthquakes/eventpage/us7000lge3&quot;}, &quot;type&quot;: &quot;Feature&quot;}, {&quot;bbox&quot;: [47.4767, 12.457, 47.4767, 12.457], &quot;geometry&quot;: {&quot;coordinates&quot;: [47.4767, 12.457, 10.0], &quot;type&quot;: &quot;Point&quot;}, &quot;id&quot;: &quot;47&quot;, &quot;properties&quot;: {&quot;alert&quot;: null, &quot;cdi&quot;: null, &quot;code&quot;: &quot;7000lge1&quot;, &quot;detail&quot;: &quot;https://earthquake.usgs.gov/earthquakes/feed/v1.0/detail/us7000lge1.geojson&quot;, &quot;dmin&quot;: 4.623, &quot;felt&quot;: null, &quot;gap&quot;: 108.0, &quot;id&quot;: &quot;us7000lge1&quot;, &quot;ids&quot;: &quot;,us7000lge1,&quot;, &quot;mag&quot;: 4.7, &quot;magType&quot;: &quot;mb&quot;, &quot;mmi&quot;: null, &quot;net&quot;: &quot;us&quot;, &quot;nst&quot;: 45.0, &quot;place&quot;: &quot;Gulf of Aden&quot;, &quot;rms&quot;: 0.74, &quot;sig&quot;: 340, &quot;sources&quot;: &quot;,us,&quot;, &quot;status&quot;: &quot;reviewed&quot;, &quot;time&quot;: 1701772873192, &quot;title&quot;: &quot;M 4.7 - Gulf of Aden&quot;, &quot;tsunami&quot;: 0, &quot;type&quot;: &quot;earthquake&quot;, &quot;types&quot;: &quot;,origin,phase-data,&quot;, &quot;tz&quot;: null, &quot;updated&quot;: 1701775487040, &quot;url&quot;: &quot;https://earthquake.usgs.gov/earthquakes/eventpage/us7000lge1&quot;}, &quot;type&quot;: &quot;Feature&quot;}, {&quot;bbox&quot;: [126.5747, 9.3113, 126.5747, 9.3113], &quot;geometry&quot;: {&quot;coordinates&quot;: [126.5747, 9.3113, 33.632], &quot;type&quot;: &quot;Point&quot;}, &quot;id&quot;: &quot;48&quot;, &quot;properties&quot;: {&quot;alert&quot;: null, &quot;cdi&quot;: 1.0, &quot;code&quot;: &quot;7000lgdv&quot;, &quot;detail&quot;: &quot;https://earthquake.usgs.gov/earthquakes/feed/v1.0/detail/us7000lgdv.geojson&quot;, &quot;dmin&quot;: 2.435, &quot;felt&quot;: 1.0, &quot;gap&quot;: 117.0, &quot;id&quot;: &quot;us7000lgdv&quot;, &quot;ids&quot;: &quot;,us7000lgdv,&quot;, &quot;mag&quot;: 4.7, &quot;magType&quot;: &quot;mb&quot;, &quot;mmi&quot;: null, &quot;net&quot;: &quot;us&quot;, &quot;nst&quot;: 55.0, &quot;place&quot;: &quot;42 km E of Cortes, Philippines&quot;, &quot;rms&quot;: 0.71, &quot;sig&quot;: 340, &quot;sources&quot;: &quot;,us,&quot;, &quot;status&quot;: &quot;reviewed&quot;, &quot;time&quot;: 1701770368968, &quot;title&quot;: &quot;M 4.7 - 42 km E of Cortes, Philippines&quot;, &quot;tsunami&quot;: 0, &quot;type&quot;: &quot;earthquake&quot;, &quot;types&quot;: &quot;,dyfi,origin,phase-data,&quot;, &quot;tz&quot;: null, &quot;updated&quot;: 1701777730139, &quot;url&quot;: &quot;https://earthquake.usgs.gov/earthquakes/eventpage/us7000lgdv&quot;}, &quot;type&quot;: &quot;Feature&quot;}, {&quot;bbox&quot;: [-152.8526, 59.6979, -152.8526, 59.6979], &quot;geometry&quot;: {&quot;coordinates&quot;: [-152.8526, 59.6979, 89.7], &quot;type&quot;: &quot;Point&quot;}, &quot;id&quot;: &quot;49&quot;, &quot;properties&quot;: {&quot;alert&quot;: null, &quot;cdi&quot;: null, &quot;code&quot;: &quot;023fksvkvc&quot;, &quot;detail&quot;: &quot;https://earthquake.usgs.gov/earthquakes/feed/v1.0/detail/ak023fksvkvc.geojson&quot;, &quot;dmin&quot;: null, &quot;felt&quot;: null, &quot;gap&quot;: null, &quot;id&quot;: &quot;ak023fksvkvc&quot;, &quot;ids&quot;: &quot;,ak023fksvkvc,&quot;, &quot;mag&quot;: 2.6, &quot;magType&quot;: &quot;ml&quot;, &quot;mmi&quot;: null, &quot;net&quot;: &quot;ak&quot;, &quot;nst&quot;: null, &quot;place&quot;: &quot;Southern Alaska&quot;, &quot;rms&quot;: 0.71, &quot;sig&quot;: 104, &quot;sources&quot;: &quot;,ak,&quot;, &quot;status&quot;: &quot;automatic&quot;, &quot;time&quot;: 1701770171923, &quot;title&quot;: &quot;M 2.6 - Southern Alaska&quot;, &quot;tsunami&quot;: 0, &quot;type&quot;: &quot;earthquake&quot;, &quot;types&quot;: &quot;,origin,phase-data,&quot;, &quot;tz&quot;: null, &quot;updated&quot;: 1701770310267, &quot;url&quot;: &quot;https://earthquake.usgs.gov/earthquakes/eventpage/ak023fksvkvc&quot;}, &quot;type&quot;: &quot;Feature&quot;}, {&quot;bbox&quot;: [126.7482, 9.1558, 126.7482, 9.1558], &quot;geometry&quot;: {&quot;coordinates&quot;: [126.7482, 9.1558, 56.752], &quot;type&quot;: &quot;Point&quot;}, &quot;id&quot;: &quot;50&quot;, &quot;properties&quot;: {&quot;alert&quot;: null, &quot;cdi&quot;: null, &quot;code&quot;: &quot;7000lgdp&quot;, &quot;detail&quot;: &quot;https://earthquake.usgs.gov/earthquakes/feed/v1.0/detail/us7000lgdp.geojson&quot;, &quot;dmin&quot;: 2.374, &quot;felt&quot;: null, &quot;gap&quot;: 115.0, &quot;id&quot;: &quot;us7000lgdp&quot;, &quot;ids&quot;: &quot;,us7000lgdp,&quot;, &quot;mag&quot;: 4.9, &quot;magType&quot;: &quot;mb&quot;, &quot;mmi&quot;: null, &quot;net&quot;: &quot;us&quot;, &quot;nst&quot;: 82.0, &quot;place&quot;: &quot;Mindanao, Philippines&quot;, &quot;rms&quot;: 0.59, &quot;sig&quot;: 369, &quot;sources&quot;: &quot;,us,&quot;, &quot;status&quot;: &quot;reviewed&quot;, &quot;time&quot;: 1701769958665, &quot;title&quot;: &quot;M 4.9 - Mindanao, Philippines&quot;, &quot;tsunami&quot;: 0, &quot;type&quot;: &quot;earthquake&quot;, &quot;types&quot;: &quot;,origin,phase-data,&quot;, &quot;tz&quot;: null, &quot;updated&quot;: 1701771175040, &quot;url&quot;: &quot;https://earthquake.usgs.gov/earthquakes/eventpage/us7000lgdp&quot;}, &quot;type&quot;: &quot;Feature&quot;}, {&quot;bbox&quot;: [126.7094, 9.1263, 126.7094, 9.1263], &quot;geometry&quot;: {&quot;coordinates&quot;: [126.7094, 9.1263, 45.905], &quot;type&quot;: &quot;Point&quot;}, &quot;id&quot;: &quot;51&quot;, &quot;properties&quot;: {&quot;alert&quot;: &quot;green&quot;, &quot;cdi&quot;: null, &quot;code&quot;: &quot;7000lgdg&quot;, &quot;detail&quot;: &quot;https://earthquake.usgs.gov/earthquakes/feed/v1.0/detail/us7000lgdg.geojson&quot;, &quot;dmin&quot;: 2.33, &quot;felt&quot;: null, &quot;gap&quot;: 88.0, &quot;id&quot;: &quot;us7000lgdg&quot;, &quot;ids&quot;: &quot;,us7000lgdg,&quot;, &quot;mag&quot;: 5.4, &quot;magType&quot;: &quot;mww&quot;, &quot;mmi&quot;: 3.956, &quot;net&quot;: &quot;us&quot;, &quot;nst&quot;: 94.0, &quot;place&quot;: &quot;50 km ENE of Bacolod, Philippines&quot;, &quot;rms&quot;: 0.72, &quot;sig&quot;: 449, &quot;sources&quot;: &quot;,us,&quot;, &quot;status&quot;: &quot;reviewed&quot;, &quot;time&quot;: 1701769374918, &quot;title&quot;: &quot;M 5.4 - 50 km ENE of Bacolod, Philippines&quot;, &quot;tsunami&quot;: 0, &quot;type&quot;: &quot;earthquake&quot;, &quot;types&quot;: &quot;,losspager,moment-tensor,origin,phase-data,shakemap,&quot;, &quot;tz&quot;: null, &quot;updated&quot;: 1701812965040, &quot;url&quot;: &quot;https://earthquake.usgs.gov/earthquakes/eventpage/us7000lgdg&quot;}, &quot;type&quot;: &quot;Feature&quot;}], &quot;type&quot;: &quot;FeatureCollection&quot;});\n",
       "\n",
       "        \n",
       "    \n",
       "    geo_json_56678175afdec1a2a0b57c7c81567bd2.bindTooltip(\n",
       "    function(layer){\n",
       "    let div = L.DomUtil.create(&#x27;div&#x27;);\n",
       "    \n",
       "    let handleObject = feature=&gt;typeof(feature)==&#x27;object&#x27; ? JSON.stringify(feature) : feature;\n",
       "    let fields = [&quot;place&quot;, &quot;mag&quot;];\n",
       "    let aliases = [&quot;place&quot;, &quot;mag&quot;];\n",
       "    let table = &#x27;&lt;table&gt;&#x27; +\n",
       "        String(\n",
       "        fields.map(\n",
       "        (v,i)=&gt;\n",
       "        `&lt;tr&gt;\n",
       "            &lt;th&gt;${aliases[i]}&lt;/th&gt;\n",
       "            \n",
       "            &lt;td&gt;${handleObject(layer.feature.properties[v])}&lt;/td&gt;\n",
       "        &lt;/tr&gt;`).join(&#x27;&#x27;))\n",
       "    +&#x27;&lt;/table&gt;&#x27;;\n",
       "    div.innerHTML=table;\n",
       "    \n",
       "    return div\n",
       "    }\n",
       "    ,{&quot;className&quot;: &quot;foliumtooltip&quot;, &quot;sticky&quot;: true});\n",
       "                     \n",
       "&lt;/script&gt;\n",
       "&lt;/html&gt;\" style=\"position:absolute;width:100%;height:100%;left:0;top:0;border:none !important;\" allowfullscreen webkitallowfullscreen mozallowfullscreen></iframe></div></div>"
      ],
      "text/plain": [
       "<folium.folium.Map at 0x18cbbcd10>"
      ]
     },
     "execution_count": 28,
     "metadata": {},
     "output_type": "execute_result"
    }
   ],
   "source": [
    "# make the map\n",
    "eqmap = folium.Map(location=[0,0], \n",
    "               zoom_start=1,\n",
    "               tiles = 'https://server.arcgisonline.com/ArcGIS/rest/services/World_Imagery/MapServer/tile/{z}/{y}/{x}',\n",
    "               attr = 'ESRI')\n",
    "\n",
    "folium.GeoJson(gdf,\n",
    "               tooltip=folium.GeoJsonTooltip(fields=['place','mag'])).add_to(eqmap)\n",
    "eqmap"
   ]
  },
  {
   "attachments": {},
   "cell_type": "markdown",
   "metadata": {},
   "source": [
    "ここで考えほしいのは、csv をダウンロードした場合と、このように直接出所にリンクしてデータを入手する「違い」とは何か？"
   ]
  },
  {
   "cell_type": "code",
   "execution_count": 29,
   "metadata": {},
   "outputs": [],
   "source": [
    "import folium\n",
    "import random\n",
    "\n",
    "# マップオブジェクトを作成する\n",
    "map_obj = folium.Map(location=[35.6895, 139.6917], zoom_start=12)  # 東京の座標を指定\n",
    "\n",
    "# 100個のランダムなマーカーを追加する\n",
    "for _ in range(100):\n",
    "    # ランダムな緯度と経度を生成する\n",
    "    latitude = random.uniform(35.5, 35.8)  # 緯度の範囲を適宜指定\n",
    "    longitude = random.uniform(139.5, 140.0)  # 経度の範囲を適宜指定\n",
    "    \n",
    "    # マーカーをマップに追加する\n",
    "    folium.Marker([latitude, longitude]).add_to(map_obj)\n",
    "\n",
    "\n",
    "map_obj\n",
    "# マップを保存する\n",
    "map_obj.save('map.html')\n"
   ]
  },
  {
   "cell_type": "code",
   "execution_count": null,
   "metadata": {},
   "outputs": [],
   "source": []
  }
 ],
 "metadata": {
  "kernelspec": {
   "display_name": "geos",
   "language": "python",
   "name": "python3"
  },
  "language_info": {
   "codemirror_mode": {
    "name": "ipython",
    "version": 3
   },
   "file_extension": ".py",
   "mimetype": "text/x-python",
   "name": "python",
   "nbconvert_exporter": "python",
   "pygments_lexer": "ipython3",
   "version": "3.11.0"
  },
  "orig_nbformat": 4
 },
 "nbformat": 4,
 "nbformat_minor": 2
}
