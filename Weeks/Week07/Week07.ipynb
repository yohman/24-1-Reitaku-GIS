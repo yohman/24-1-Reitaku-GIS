{
 "cells": [
  {
   "attachments": {},
   "cell_type": "markdown",
   "metadata": {
    "slideshow": {
     "slide_type": "slide"
    }
   },
   "source": [
    "# Mapping Japan\n",
    "\n",
    "突然だが、日本のレイヤーを三つ取り込んでみよう："
   ]
  },
  {
   "cell_type": "code",
   "execution_count": null,
   "metadata": {},
   "outputs": [],
   "source": [
    "import geopandas as gpd\n",
    "import pandas as pd"
   ]
  },
  {
   "cell_type": "code",
   "execution_count": null,
   "metadata": {},
   "outputs": [],
   "source": [
    "japan0 = gpd.read_file('https://raw.githubusercontent.com/yohman/24-1-Reitaku-GIS/main/Weeks/Week07/data/japan_admin_0.geojson')\n",
    "japan1 = gpd.read_file('https://raw.githubusercontent.com/yohman/24-1-Reitaku-GIS/main/Weeks/Week07/data/japan_admin_1.geojson')\n",
    "japan2 = gpd.read_file('https://raw.githubusercontent.com/yohman/24-1-Reitaku-GIS/main/Weeks/Week07/data/japan_admin_2.geojson')"
   ]
  },
  {
   "cell_type": "markdown",
   "metadata": {},
   "source": [
    "では、一つずつマップを作ってみましょう。\n",
    "- `.plot()`を使ってね〜"
   ]
  },
  {
   "cell_type": "code",
   "execution_count": null,
   "metadata": {},
   "outputs": [],
   "source": []
  },
  {
   "cell_type": "code",
   "execution_count": null,
   "metadata": {},
   "outputs": [],
   "source": []
  },
  {
   "cell_type": "code",
   "execution_count": null,
   "metadata": {},
   "outputs": [],
   "source": []
  },
  {
   "cell_type": "markdown",
   "metadata": {},
   "source": [
    "### Discussion\n",
    "\n",
    "What did you just do? What did you find out?"
   ]
  },
  {
   "attachments": {},
   "cell_type": "markdown",
   "metadata": {
    "slideshow": {
     "slide_type": "slide"
    }
   },
   "source": [
    "# 色んな空間データの形\n",
    "\n",
    "<img src=\"https://raw.githubusercontent.com/yohman/24-1-Reitaku-GIS/def9813e706e7079c7f5622c9ac1fbe4b26b88e0/Weeks/Week07/images/gis%20data.png\" width=400>\n",
    "\n",
    "[Source: ESRI Japan](https://www.esrij.com/gis-guide/gis-datamodel/gis-datamodel/)\n",
    "\n",
    "利用可能なさまざまな空間データ形式と、どの形式が Python での使用に適用できるかを見てみましょう。\n"
   ]
  },
  {
   "attachments": {},
   "cell_type": "markdown",
   "metadata": {
    "slideshow": {
     "slide_type": "subslide"
    }
   },
   "source": [
    "\n",
    "### CSV\n",
    "\n",
    "<img src=\"https://raw.githubusercontent.com/yohman/24-1-Reitaku-GIS/def9813e706e7079c7f5622c9ac1fbe4b26b88e0/Weeks/Week07/images/csv.png\" width=100>\n",
    "\n",
    "csv ファイルは「カンマ区切り値」であり、基本的には EXCEL や Google スプレッドシートなどのスプレッドシート アプリケーションで開くことができる単純なテキスト ファイルです。 CSV ファイルを「空間」ファイルにするには、緯度と経度のフィールドを含める必要があり、これらのフィールドは地図上の座標に変換されます。 GIS 用の CSV ファイルは、通常、ポイント データに使用されます。\n"
   ]
  },
  {
   "attachments": {},
   "cell_type": "markdown",
   "metadata": {
    "slideshow": {
     "slide_type": "subslide"
    }
   },
   "source": [
    "### geojson\n",
    "\n",
    "<img src=\"https://raw.githubusercontent.com/yohman/24-1-Reitaku-GIS/def9813e706e7079c7f5622c9ac1fbe4b26b88e0/Weeks/Week07/images/geojson.png\" width=150>\n",
    "\n",
    "geojson ファイルは地理的な json ファイルであり、json は「JavaScript オブジェクト表記法」を表します。 JavaScript 形式として相互運用性が高く、Python を含むほとんどの GIS アプリケーションで使用できます。 また、オープンソース データ ソリューションとしても広く受け入れられており、オンライン空間データの視覚化およびオーサリング ツールである geojson.io によってサポートされています。 これは、Python ベースの GIS 解析に推奨されるアプローチです。\n",
    "\n",
    "[geojson.io](https://geojson.io/)"
   ]
  },
  {
   "attachments": {},
   "cell_type": "markdown",
   "metadata": {
    "slideshow": {
     "slide_type": "subslide"
    }
   },
   "source": [
    "### shapefile\n",
    "\n",
    "<img src=\"https://raw.githubusercontent.com/yohman/24-1-Reitaku-GIS/def9813e706e7079c7f5622c9ac1fbe4b26b88e0/Weeks/Week07/images/shp.png\" width=150>\n",
    "\n",
    "シェープファイルは、GIS ソフトウェア ベンダーである ESRI によって作成された独自のデータ形式です。 これは長い間存在しており、引き続き GIS データの標準であり、多くの組織がこの形式のデータを使用および提供しています。 シェープファイルは多くのファイルを組み合わせたものであり、それだけに扱いが難しいですが、広く使われ続けていることを考えると、プロジェクトで使用する可能性があります。 シェープファイルは geopandas でサポートされており、Python で使用できます。\n"
   ]
  },
  {
   "attachments": {},
   "cell_type": "markdown",
   "metadata": {},
   "source": [
    "\n",
    "\n",
    "\n",
    "\n",
    "\n",
    "https://www.esrij.com/products/japan-shp/\n",
    "\n"
   ]
  },
  {
   "attachments": {},
   "cell_type": "markdown",
   "metadata": {
    "slideshow": {
     "slide_type": "slide"
    }
   },
   "source": [
    "## GIS と言えば\n",
    "\n",
    "では、GIS 研究の一般的な状況はどのようなものでしょうか? GIS サービスを提供するベンダーは数多くありますが、業界のリーダーをいくつか紹介します。\n"
   ]
  },
  {
   "attachments": {},
   "cell_type": "markdown",
   "metadata": {
    "slideshow": {
     "slide_type": "subslide"
    }
   },
   "source": [
    "### ESRI\n",
    "\n",
    "<img src=\"https://raw.githubusercontent.com/yohman/24-1-Reitaku-GIS/def9813e706e7079c7f5622c9ac1fbe4b26b88e0/Weeks/Week07/images/esri.png\">\n",
    "\n",
    "[ESRI Japan](https://www.esrij.com/)\n",
    "\n",
    "ESRI はカリフォルニア州レッドランズに拠点を置き、70 年代から存在しています。 ジャック・デンジャーモンドによって設立され、多くの人が現代の地図製作法の父と考えています。 ESRI は最も歴史のある GIS 企業の 1 つであり、空間ソリューションにおける業界大手でもあります。 彼らは政府機関や学術機関とのパートナーシップで知られており、世界的に存在感を持っています。\n"
   ]
  },
  {
   "attachments": {},
   "cell_type": "markdown",
   "metadata": {
    "slideshow": {
     "slide_type": "subslide"
    }
   },
   "source": [
    "\n",
    "### Mapbox\n",
    "\n",
    "<img src=\"https://raw.githubusercontent.com/yohman/24-1-Reitaku-GIS/def9813e706e7079c7f5622c9ac1fbe4b26b88e0/Weeks/Week07/images/mapbox.png\" width=500>\n",
    "\n",
    "[Mapbox Japan](https://www.mapbox.jp/)\n",
    "\n",
    "Mapboxは、カスタム地図や位置情報ベースのアプリケーションを作成するためのプラットフォームを提供する会社です。高品質でカスタマイズ可能な地図データと、さまざまなデザインスタイルやインタラクティブな機能を提供しています。また、地図データの統合や解析、リアルタイムの位置情報処理など、高度な地理情報システム（GIS）の機能も提供しています。"
   ]
  },
  {
   "attachments": {},
   "cell_type": "markdown",
   "metadata": {
    "slideshow": {
     "slide_type": "subslide"
    }
   },
   "source": [
    "\n",
    "### Google Earth\n",
    "\n",
    "<img src=\"https://raw.githubusercontent.com/yohman/24-1-Reitaku-GIS/def9813e706e7079c7f5622c9ac1fbe4b26b88e0/Weeks/Week07/images/ge.png\" width=500>\n",
    "\n",
    "[Google Earth](https://earth.google.com/web)\n",
    "\n",
    "Google の地図製品は数多くありますが、今回は、これまでに作成された最初の主力 3D マッピング プラットフォームの 1 つである Google Earth を紹介します。地球の表面を自由に探索し、ズームインやズームアウト、回転、傾けるなどの操作が可能です。また、街の建物や地形の3D表示、ストリートビュー（地上の画像）の閲覧、地図上に注釈やマーカーを追加するなどの機能も提供されています。\n",
    "\n",
    "Google Earthは、教育や観光、研究、衛生管理、都市計画など、さまざまな目的で活用されています。また、歴史的な地理情報や自然災害の追跡、環境変化のモニタリングなどにも役立てられています。\n",
    "\n",
    "- [Urban expansion](https://earth.google.com/web/@25.12809983,55.29469501,32a,74819d,35y,314h,41t,0r/data=CisSKRIgMGM5NzE2MWM0Njk4MTFlYWJlMTMyZGUyNWIyYWZmNjkiBWR1YmFp)\n",
    "- [Tokyo at night](https://earth.google.com/web/@35.71029405,139.73076948,4.48363497a,4507464.54025819d,35y,0h,0t,0r/data=CisSKRIgMGY3ZTJkYzdlOGExMTFlNjk5MGQ2ZjgxOGQ2OWE2ZTciBXRva3lv)\n",
    "- [Tokyo's heat island effect](https://earth.google.com/web/@35.70892705,139.73197113,5.0183326a,4507521.99932186d,35y,0h,0t,0r/data=CjASLhIgYTk3NzMwMDc0NjE3MTFlYWJjNDIyN2FkODE2NGU5NzciCnZveV9zcGxhc2g)"
   ]
  },
  {
   "attachments": {},
   "cell_type": "markdown",
   "metadata": {
    "slideshow": {
     "slide_type": "slide"
    }
   },
   "source": [
    "# Part 1 - GIS Dataのダウンロードと読み込み\n",
    "\n",
    "<img src=\"https://raw.githubusercontent.com/yohman/24-1-Reitaku-GIS/def9813e706e7079c7f5622c9ac1fbe4b26b88e0/Weeks/Week07/images/kokudo.png\" width=400>\n",
    "\n",
    "このラボではすでに【千葉県】の行政区域データを国土交通省からダウンロードしたものを使います。クラスサイトから`chiba_ku.geojson`をダウンロードできますが、元のデータはここからobtainした：\n",
    "\n",
    "https://nlftp.mlit.go.jp/\n",
    "\n",
    "ダウンロードする順序は：\n",
    "\n",
    "- ➡️ 国土数値情報\n",
    "- ➡️ 行政区域\n",
    "- ➡️ 千葉県\n",
    "\n",
    "＊注意：ダウンロードするにあたりアンケートを記入後、.zipファイルを unzip する必要がある。\n",
    "\n",
    "unzip したファイルの中の N03-23_12_230101.geojson を今週のフォルダーの中に入れる。このラボではこのgeojsonファイルを`chiba_ku.geojson`とrenameされたものを使う。"
   ]
  },
  {
   "cell_type": "code",
   "execution_count": null,
   "metadata": {
    "slideshow": {
     "slide_type": "fragment"
    }
   },
   "outputs": [],
   "source": [
    "# データを変数に入れる\n",
    "chiba_ku = gpd.read_file('chiba_ku.geojson')"
   ]
  },
  {
   "cell_type": "code",
   "execution_count": null,
   "metadata": {
    "slideshow": {
     "slide_type": "slide"
    }
   },
   "outputs": [],
   "source": [
    "# とりあえずマップとしてアウトプット\n",
    "chiba_ku.plot()"
   ]
  },
  {
   "cell_type": "code",
   "execution_count": null,
   "metadata": {
    "slideshow": {
     "slide_type": "slide"
    }
   },
   "outputs": [],
   "source": [
    "# 最初の５列は？\n",
    "chiba_ku.sample(6)"
   ]
  },
  {
   "cell_type": "code",
   "execution_count": null,
   "metadata": {
    "slideshow": {
     "slide_type": "slide"
    }
   },
   "outputs": [],
   "source": [
    "# データの情報\n",
    "chiba_ku.info()"
   ]
  },
  {
   "attachments": {},
   "cell_type": "markdown",
   "metadata": {
    "slideshow": {
     "slide_type": "slide"
    }
   },
   "source": [
    "# Part 2 - 国勢調査データをダウンロード\n",
    "\n",
    "<img src=\"https://raw.githubusercontent.com/yohman/24-1-Reitaku-GIS/def9813e706e7079c7f5622c9ac1fbe4b26b88e0/Weeks/Week07/images/estat.png\" width=400>\n",
    "\n",
    "https://www.e-stat.go.jp/\n",
    "\n",
    "次に、国勢調査の【人口総数】データをダウンロードします。 このデータは後に先ほどダウンロードした千葉区データと merge (join) します。\n",
    "\n",
    "ダウロードする順序：\n",
    "\n",
    "- ➡️ 統計データを活用する \n",
    "- ➡️ 地図 \n",
    "- ➡️ 統計データダウンロード \n",
    "- ➡️ 国勢調査 \n",
    "- ➡️ 2020年 \n",
    "- ➡️ 小地域 \n",
    "- ➡️ 男女別人口総数及び世帯総数\n",
    "- ➡️ 12 千葉県　CSV"
   ]
  },
  {
   "attachments": {},
   "cell_type": "markdown",
   "metadata": {},
   "source": [
    "### Data cleanup\n",
    "\n",
    "データを使用できるようにするには、まず Excel でデータをクリーンアップする必要があります。 \n",
    "\n",
    "🧐　ここで注意！e-Statでは【CSV】とは書いてあるもののダウンロードして unzip してみたところ 【txt】ファイルではないか！\n",
    "\n",
    "なので、`tblT001081C12.txt` → `tblT001081C12.csv`に変更してからEXCELで開こう。"
   ]
  },
  {
   "attachments": {},
   "cell_type": "markdown",
   "metadata": {},
   "source": [
    "次にヘッダーを変えます。これから：\n",
    "\n",
    "<img src=\"https://raw.githubusercontent.com/yohman/24-1-Reitaku-GIS/def9813e706e7079c7f5622c9ac1fbe4b26b88e0/Weeks/Week07/images/excel1.png\" width=500>\n"
   ]
  },
  {
   "attachments": {},
   "cell_type": "markdown",
   "metadata": {},
   "source": [
    "\n",
    "これに：\n",
    "\n",
    "<img src=\"https://raw.githubusercontent.com/yohman/24-1-Reitaku-GIS/def9813e706e7079c7f5622c9ac1fbe4b26b88e0/Weeks/Week07/images/excel2.png\" width=500>\n",
    "\n"
   ]
  },
  {
   "attachments": {},
   "cell_type": "markdown",
   "metadata": {},
   "source": [
    "空白の２行目を削除するように\n",
    "\n",
    "<img src=\"https://raw.githubusercontent.com/yohman/24-1-Reitaku-GIS/def9813e706e7079c7f5622c9ac1fbe4b26b88e0/Weeks/Week07/images/excel3.png\" width=500>"
   ]
  },
  {
   "attachments": {},
   "cell_type": "markdown",
   "metadata": {},
   "source": [
    "最後にファイルを「名前つけて保存」(save as)をして CSV UTF-8 フォーマットで chiba.csv と名づけて保存。\n",
    "\n",
    "<img src=\"https://raw.githubusercontent.com/yohman/24-1-Reitaku-GIS/def9813e706e7079c7f5622c9ac1fbe4b26b88e0/Weeks/Week07/images/excel%20utf.png\" width=500>"
   ]
  },
  {
   "cell_type": "code",
   "execution_count": null,
   "metadata": {},
   "outputs": [],
   "source": [
    "chiba_pop = pd.read_csv('chiba.csv')"
   ]
  },
  {
   "cell_type": "code",
   "execution_count": null,
   "metadata": {},
   "outputs": [],
   "source": [
    "chiba_pop.head()"
   ]
  },
  {
   "cell_type": "code",
   "execution_count": null,
   "metadata": {},
   "outputs": [],
   "source": [
    "chiba_pop.info()"
   ]
  },
  {
   "attachments": {},
   "cell_type": "markdown",
   "metadata": {},
   "source": [
    "# Part 3 - GISデータと国勢調査データを`Merge`する\n",
    "\n",
    "<img src=\"https://raw.githubusercontent.com/yohman/24-1-Reitaku-GIS/def9813e706e7079c7f5622c9ac1fbe4b26b88e0/Weeks/Week07/images/merge.png\" width=500>"
   ]
  },
  {
   "attachments": {},
   "cell_type": "markdown",
   "metadata": {},
   "source": [
    "Mergeするには次のチェックポイントを確認：\n",
    "\n",
    "1. mergeするfieldを決める\n",
    "1. field names が同じであることを確認。違う場合は同じにする。\n",
    "1. field達が同じ data type であることを確認\n",
    "\n",
    "この二つがオッケーであれば merge function を使って実行 "
   ]
  },
  {
   "attachments": {},
   "cell_type": "markdown",
   "metadata": {},
   "source": [
    "### 3-1 Mergeするfieldを決めよう\n",
    "\n",
    "- `chiba_ku` → `N03_007`\n",
    "- `chiba_pop` → `KEY_CODE`"
   ]
  },
  {
   "attachments": {},
   "cell_type": "markdown",
   "metadata": {},
   "source": [
    "### 3-2 field names を揃えよう\n",
    "\n",
    "<img src=\"https://raw.githubusercontent.com/yohman/24-1-Reitaku-GIS/def9813e706e7079c7f5622c9ac1fbe4b26b88e0/Weeks/Week07/images/merge2.png\" width=500>\n",
    "\n",
    "残念ながらmergeするfieldnameが違う😩\n",
    "\n",
    "`rename` functionを使って一致するようにしましょう。\n",
    "\n",
    "この場合は `KEY_CODE` に一致しよう。"
   ]
  },
  {
   "cell_type": "code",
   "execution_count": null,
   "metadata": {},
   "outputs": [],
   "source": [
    "# rename\n",
    "chiba_ku.rename(columns={'N03_007':'KEY_CODE'},inplace=True)"
   ]
  },
  {
   "cell_type": "code",
   "execution_count": null,
   "metadata": {},
   "outputs": [],
   "source": [
    "# check the new fieldname\n",
    "chiba_ku"
   ]
  },
  {
   "attachments": {},
   "cell_type": "markdown",
   "metadata": {},
   "source": [
    "### Merge する field の data typeが同じかどうかを確認\n",
    "\n",
    "Oh now! datatypeも違う😩\n",
    "\n",
    "- `chiba_ku['KEY_CODE]` → OBJECT\n",
    "- `chiba_pop['KEY_CODE']` → int64\n",
    "\n",
    "では両方 int にしましょう"
   ]
  },
  {
   "cell_type": "code",
   "execution_count": null,
   "metadata": {},
   "outputs": [],
   "source": [
    "# OBJECTからintに変える\n",
    "chiba_ku['KEY_CODE'] = chiba_ku['KEY_CODE'].astype(int)"
   ]
  },
  {
   "cell_type": "code",
   "execution_count": null,
   "metadata": {},
   "outputs": [],
   "source": [
    "# checkする\n",
    "chiba_ku.info()"
   ]
  },
  {
   "cell_type": "code",
   "execution_count": null,
   "metadata": {},
   "outputs": [],
   "source": [
    "# ここでようやく merge コマンドで統合させて、新しい変数に入れる\n",
    "chiba_ku_pop = chiba_ku.merge(chiba_pop,on='KEY_CODE')"
   ]
  },
  {
   "cell_type": "code",
   "execution_count": null,
   "metadata": {},
   "outputs": [],
   "source": [
    "# check!\n",
    "chiba_ku_pop"
   ]
  },
  {
   "attachments": {},
   "cell_type": "markdown",
   "metadata": {},
   "source": [
    "# Part 4 - Choropleth map を作ろう\n",
    "\n",
    "<img src=\"https://visualizing.jp/assets/fletcher-map-population.jpg\" width=300>\n",
    "\n",
    "そもそも Choropleth map ってなに？\n",
    "\n",
    "https://visualizing.jp/choropleth-map/\n",
    "\n"
   ]
  },
  {
   "attachments": {},
   "cell_type": "markdown",
   "metadata": {},
   "source": [
    "いよいよマップの時間！\n",
    "\n",
    "Choropleth map を作る手順は：\n",
    "\n",
    "1. どのフィールドをマップするかを決める\n",
    "1. そのフィールドが numeric であることを確認\n",
    "1. マップを作る！"
   ]
  },
  {
   "attachments": {},
   "cell_type": "markdown",
   "metadata": {},
   "source": [
    "### 4-1 フィールドを決める\n",
    "\n",
    "まずは人口マップを作りたいので `人口総数` フィールドを使おう。"
   ]
  },
  {
   "attachments": {},
   "cell_type": "markdown",
   "metadata": {},
   "source": [
    "### 4-2 フィールドが numeric であることを確認"
   ]
  },
  {
   "cell_type": "code",
   "execution_count": null,
   "metadata": {},
   "outputs": [],
   "source": [
    "chiba_ku_pop.info()"
   ]
  },
  {
   "attachments": {},
   "cell_type": "markdown",
   "metadata": {},
   "source": [
    "Oh no😩! やっぱり int ではなく object だった。\n",
    "\n",
    "Let's fix that!"
   ]
  },
  {
   "cell_type": "code",
   "execution_count": null,
   "metadata": {},
   "outputs": [],
   "source": [
    "# change from OBJECT to int\n",
    "chiba_ku_pop['人口総数'] = chiba_ku_pop['人口総数'].astype(int)"
   ]
  },
  {
   "cell_type": "code",
   "execution_count": null,
   "metadata": {},
   "outputs": [],
   "source": [
    "# check\n",
    "chiba_ku_pop.info()"
   ]
  },
  {
   "attachments": {},
   "cell_type": "markdown",
   "metadata": {},
   "source": [
    "### 4-3 Let's map!"
   ]
  },
  {
   "cell_type": "code",
   "execution_count": null,
   "metadata": {},
   "outputs": [],
   "source": [
    "chiba_ku_pop.plot(column='人口総数',legend=True)"
   ]
  },
  {
   "cell_type": "markdown",
   "metadata": {},
   "source": [
    "## Size\n",
    "\n",
    "`figsize=(10,10)`\n",
    "- default (6.4,4.8)\n",
    "- width, height, units in inches"
   ]
  },
  {
   "cell_type": "code",
   "execution_count": null,
   "metadata": {},
   "outputs": [],
   "source": [
    "chiba_ku_pop.plot(figsize=(10,10),\n",
    "                  column='人口総数',\n",
    "                  legend=True)"
   ]
  },
  {
   "cell_type": "markdown",
   "metadata": {},
   "source": [
    "## Color\n",
    "\n",
    "`cmap` 引数を設定して、次の選択肢からコロプレス マップのカラー パレットを割り当てることができます。なお、色の方向を変えるには `_r` を付け加えればいい。\n",
    "\n",
    "例：　\n",
    "- `cmap='autumn'`\n",
    "- `cmap='autumn_r'`\n",
    "\n",
    "<img src=\"https://raw.githubusercontent.com/yohman/24-1-Reitaku-GIS/def9813e706e7079c7f5622c9ac1fbe4b26b88e0/Weeks/Week07/images/sphx_glr_colormaps_002.webp\">\n",
    "<img src=\"https://raw.githubusercontent.com/yohman/24-1-Reitaku-GIS/def9813e706e7079c7f5622c9ac1fbe4b26b88e0/Weeks/Week07/images/sphx_glr_colormaps_003.webp\">\n",
    "<img src=\"https://raw.githubusercontent.com/yohman/24-1-Reitaku-GIS/def9813e706e7079c7f5622c9ac1fbe4b26b88e0/Weeks/Week07/images/sphx_glr_colormaps_004.webp\">"
   ]
  },
  {
   "cell_type": "code",
   "execution_count": null,
   "metadata": {},
   "outputs": [],
   "source": [
    "chiba_ku_pop.plot(figsize=(10,10),\n",
    "                  column='人口総数',\n",
    "                  legend=True,\n",
    "                  cmap='seismic')"
   ]
  },
  {
   "cell_type": "markdown",
   "metadata": {},
   "source": [
    "## Stay tuned...\n",
    "\n",
    "We will learn many more options in subsequent weeks!"
   ]
  },
  {
   "cell_type": "markdown",
   "metadata": {},
   "source": [
    "# 今週の課題\n",
    "\n",
    "今週のラボを千葉県と東京都以外の都道府県でやること。提出するものはcommitしたGitHubのURLのみです。\n",
    "- 新しいノートブックファイル【week7map.ipynb】を作る\n",
    "- Choropleth mapを作成（千葉県と東京都以外の都道府県を選ぶこと）\n",
    "- 最後に必ず感想文を書くこと\n",
    "- commitして、リンクを提出"
   ]
  }
 ],
 "metadata": {
  "celltoolbar": "Slideshow",
  "kernelspec": {
   "display_name": "Python 3 (ipykernel)",
   "language": "python",
   "name": "python3"
  },
  "language_info": {
   "codemirror_mode": {
    "name": "ipython",
    "version": 3
   },
   "file_extension": ".py",
   "mimetype": "text/x-python",
   "name": "python",
   "nbconvert_exporter": "python",
   "pygments_lexer": "ipython3",
   "version": "3.11.0"
  }
 },
 "nbformat": 4,
 "nbformat_minor": 2
}
